{
 "cells": [
  {
   "cell_type": "code",
   "execution_count": 27,
   "id": "3f07f480-1169-49e3-95f5-0f5c391570ee",
   "metadata": {},
   "outputs": [],
   "source": [
    "#Original code and copyrights owned by Xanadu, PennyLane 2022"
   ]
  },
  {
   "cell_type": "code",
   "execution_count": 28,
   "id": "5128c8c0-9477-419f-a1c7-581dc990d46d",
   "metadata": {},
   "outputs": [],
   "source": [
    "import numpy as np\n",
    "\n",
    "# set the random seed\n",
    "np.random.seed(42)\n",
    "\n",
    "# import Strawberry Fields\n",
    "import strawberryfields as sf\n",
    "from strawberryfields.ops import *"
   ]
  },
  {
   "cell_type": "code",
   "execution_count": 29,
   "id": "feab2b48-ecf2-4005-b043-16f27b7fca7c",
   "metadata": {},
   "outputs": [],
   "source": [
    "# initialize a 4 mode program\n",
    "boson_sampling = sf.Program(4)\n",
    "\n",
    "with boson_sampling.context as q:\n",
    "    # prepare the input fock states\n",
    "    Fock(1) | q[0]\n",
    "    Fock(1) | q[1]\n",
    "    Vac     | q[2]\n",
    "    Fock(1) | q[3]\n",
    "\n",
    "    # rotation gates\n",
    "    Rgate(0.5719)  | q[0]\n",
    "    Rgate(-1.9782) | q[1]\n",
    "    Rgate(2.0603)  | q[2]\n",
    "    Rgate(0.0644)  | q[3]\n",
    "\n",
    "    # beamsplitter array\n",
    "    BSgate(0.7804, 0.8578)  | (q[0], q[1])\n",
    "    BSgate(0.06406, 0.5165) | (q[2], q[3])\n",
    "    BSgate(0.473, 0.1176)   | (q[1], q[2])\n",
    "    BSgate(0.563, 0.1517)   | (q[0], q[1])\n",
    "    BSgate(0.1323, 0.9946)  | (q[2], q[3])\n",
    "    BSgate(0.311, 0.3231)   | (q[1], q[2])\n",
    "    BSgate(0.4348, 0.0798)  | (q[0], q[1])\n",
    "    BSgate(0.4368, 0.6157)  | (q[2], q[3])"
   ]
  },
  {
   "cell_type": "code",
   "execution_count": 30,
   "id": "60f0e2e9-b88a-4d85-893c-aa24b4276bd1",
   "metadata": {},
   "outputs": [],
   "source": [
    "eng = sf.Engine(backend=\"fock\", backend_options={\"cutoff_dim\": 7})"
   ]
  },
  {
   "cell_type": "code",
   "execution_count": 31,
   "id": "956f0cd8-bed7-4859-bd60-b60a9fe29276",
   "metadata": {},
   "outputs": [],
   "source": [
    "results = eng.run(boson_sampling)"
   ]
  },
  {
   "cell_type": "code",
   "execution_count": 32,
   "id": "3fe3e957-52d7-4b9c-8d86-108adf6b3af1",
   "metadata": {},
   "outputs": [
    {
     "name": "stdout",
     "output_type": "stream",
     "text": [
      "0.17468916048563932\n",
      "0.1064419272464234\n"
     ]
    }
   ],
   "source": [
    "# extract the joint Fock probabilities\n",
    "probs = results.state.all_fock_probs()\n",
    "\n",
    "# print the joint Fock state probabilities\n",
    "print(probs[1, 1, 0, 1])\n",
    "print(probs[2, 0, 0, 1])"
   ]
  },
  {
   "cell_type": "code",
   "execution_count": 33,
   "id": "caf8d39d-11c6-4b5f-a955-e6eb4fcd9105",
   "metadata": {},
   "outputs": [],
   "source": [
    "import numpy as np\n",
    "from numpy.linalg import multi_dot\n",
    "from scipy.linalg import block_diag"
   ]
  },
  {
   "cell_type": "code",
   "execution_count": 34,
   "id": "923cc642-23a7-4a53-a976-cf17a42d7dfc",
   "metadata": {},
   "outputs": [],
   "source": [
    "Uphase = np.diag([np.exp(0.5719*1j),np.exp(-1.9782*1j),np.exp(2.0603*1j),np.exp(0.0644*1j)])"
   ]
  },
  {
   "cell_type": "code",
   "execution_count": 35,
   "id": "67e17b77-f1b8-4ea4-9b23-b69b0eb75cf5",
   "metadata": {},
   "outputs": [],
   "source": [
    "BSargs = [\n",
    "    (0.7804, 0.8578),\n",
    "    (0.06406, 0.5165),\n",
    "    (0.473, 0.1176),\n",
    "    (0.563, 0.1517),\n",
    "    (0.1323, 0.9946),\n",
    "    (0.311, 0.3231),\n",
    "    (0.4348, 0.0798),\n",
    "    (0.4368, 0.6157)\n",
    "]"
   ]
  },
  {
   "cell_type": "code",
   "execution_count": 36,
   "id": "9a71d64e-31cf-4a1c-88d2-422fdebae534",
   "metadata": {},
   "outputs": [],
   "source": [
    "t_r_amplitudes = [(np.cos(q), np.exp(p*1j)*np.sin(q)) for q,p in BSargs]"
   ]
  },
  {
   "cell_type": "code",
   "execution_count": 37,
   "id": "98138677-c1c0-42e9-ad27-c9b9ac8ec2cf",
   "metadata": {},
   "outputs": [],
   "source": [
    "BSunitaries = [np.array([[t, -np.conj(r)], [r, t]]) for t,r in t_r_amplitudes]"
   ]
  },
  {
   "cell_type": "code",
   "execution_count": 38,
   "id": "cc9c21ba-58ed-45c8-b559-6e93e68ba94a",
   "metadata": {},
   "outputs": [],
   "source": [
    "UBS1 = block_diag(*BSunitaries[0:2])\n",
    "UBS2 = block_diag([[1]], BSunitaries[2], [[1]])\n",
    "UBS3 = block_diag(*BSunitaries[3:5])\n",
    "UBS4 = block_diag([[1]], BSunitaries[5], [[1]])\n",
    "UBS5 = block_diag(*BSunitaries[6:8])"
   ]
  },
  {
   "cell_type": "code",
   "execution_count": 39,
   "id": "25ca4520-57a1-483a-9203-ad481f895af5",
   "metadata": {},
   "outputs": [
    {
     "name": "stdout",
     "output_type": "stream",
     "text": [
      "[[ 0.2195-0.2565j  0.6111+0.5242j -0.1027+0.4745j -0.0273+0.0373j]\n",
      " [ 0.4513+0.6026j  0.457 +0.0123j  0.1316-0.4504j  0.0353-0.0532j]\n",
      " [ 0.0387+0.4927j -0.0192-0.3218j -0.2408+0.5244j -0.4584+0.3296j]\n",
      " [-0.1566+0.2246j  0.11  -0.1638j -0.4212+0.1836j  0.8188+0.068j ]]\n"
     ]
    }
   ],
   "source": [
    "U = multi_dot([UBS5, UBS4, UBS3, UBS2, UBS1, Uphase])\n",
    "print(np.round(U, 4))"
   ]
  },
  {
   "cell_type": "code",
   "execution_count": 40,
   "id": "f8cbfe6c-fe9a-49bc-b453-f47652095897",
   "metadata": {},
   "outputs": [],
   "source": [
    "prog_unitary = sf.Program(4)\n",
    "prog_unitary.circuit = boson_sampling.circuit[4:]\n",
    "prog_compiled = prog_unitary.compile(compiler=\"gaussian_unitary\")"
   ]
  },
  {
   "cell_type": "code",
   "execution_count": 41,
   "id": "6de53311-d19d-46f2-8631-9f8528ea4cc4",
   "metadata": {},
   "outputs": [
    {
     "name": "stdout",
     "output_type": "stream",
     "text": [
      "GaussianTransform([[ 0.2195  0.6111 -0.1027 -0.0273  0.2565 -0.5242 -0.4745 -0.0373]\n",
      " [ 0.4513  0.457   0.1316  0.0353 -0.6026 -0.0123  0.4504  0.0532]\n",
      " [ 0.0387 -0.0192 -0.2408 -0.4584 -0.4927  0.3218 -0.5244 -0.3296]\n",
      " [-0.1566  0.11   -0.4212  0.8188 -0.2246  0.1638 -0.1836 -0.068 ]\n",
      " [-0.2565  0.5242  0.4745  0.0373  0.2195  0.6111 -0.1027 -0.0273]\n",
      " [ 0.6026  0.0123 -0.4504 -0.0532  0.4513  0.457   0.1316  0.0353]\n",
      " [ 0.4927 -0.3218  0.5244  0.3296  0.0387 -0.0192 -0.2408 -0.4584]\n",
      " [ 0.2246 -0.1638  0.1836  0.068  -0.1566  0.11   -0.4212  0.8188]]) | (q[0], q[1], q[2], q[3])\n"
     ]
    }
   ],
   "source": [
    "prog_compiled.print()"
   ]
  },
  {
   "cell_type": "code",
   "execution_count": 42,
   "id": "00ca08fb-3044-4364-97b8-3c5818ed56e5",
   "metadata": {},
   "outputs": [
    {
     "name": "stdout",
     "output_type": "stream",
     "text": [
      "[[ 0.2195-0.2565j  0.6111+0.5242j -0.1027+0.4745j -0.0273+0.0373j]\n",
      " [ 0.4513+0.6026j  0.457 +0.0123j  0.1316-0.4504j  0.0353-0.0532j]\n",
      " [ 0.0387+0.4927j -0.0192-0.3218j -0.2408+0.5244j -0.4584+0.3296j]\n",
      " [-0.1566+0.2246j  0.11  -0.1638j -0.4212+0.1836j  0.8188+0.068j ]]\n"
     ]
    }
   ],
   "source": [
    "S = prog_compiled.circuit[0].op.p[0]\n",
    "U = S[:4, :4] + 1j*S[4:, :4]\n",
    "print(U)"
   ]
  },
  {
   "cell_type": "code",
   "execution_count": 43,
   "id": "169f2999-1eb4-4fa3-b576-1defe0b5e59e",
   "metadata": {},
   "outputs": [],
   "source": [
    "boson_sampling = sf.Program(4)\n",
    "\n",
    "with boson_sampling.context as q:\n",
    "    # prepare the input fock states\n",
    "    Fock(1) | q[0]\n",
    "    Fock(1) | q[1]\n",
    "    Vac     | q[2]\n",
    "    Fock(1) | q[3]\n",
    "\n",
    "    Interferometer(U) | q"
   ]
  },
  {
   "cell_type": "code",
   "execution_count": 44,
   "id": "b9c30a4a-bac1-4122-9295-23888cc5b095",
   "metadata": {},
   "outputs": [
    {
     "name": "stdout",
     "output_type": "stream",
     "text": [
      "Fock(1) | (q[0])\n",
      "Fock(1) | (q[1])\n",
      "Vac | (q[2])\n",
      "Fock(1) | (q[3])\n",
      "Rgate(-3.124) | (q[0])\n",
      "BSgate(0.9465, 0) | (q[0], q[1])\n",
      "Rgate(2.724) | (q[2])\n",
      "BSgate(0.09485, 0) | (q[2], q[3])\n",
      "Rgate(-0.9705) | (q[1])\n",
      "BSgate(0.7263, 0) | (q[1], q[2])\n",
      "Rgate(-1.788) | (q[0])\n",
      "BSgate(0.8246, 0) | (q[0], q[1])\n",
      "Rgate(5.343) | (q[0])\n",
      "Rgate(2.93) | (q[1])\n",
      "Rgate(3.133) | (q[2])\n",
      "Rgate(0.07904) | (q[3])\n",
      "BSgate(-0.533, 0) | (q[2], q[3])\n",
      "Rgate(2.45) | (q[2])\n",
      "BSgate(-0.03962, 0) | (q[1], q[2])\n",
      "Rgate(2.508) | (q[1])\n"
     ]
    }
   ],
   "source": [
    "boson_sampling.compile(compiler=\"fock\").print()"
   ]
  },
  {
   "cell_type": "code",
   "execution_count": 45,
   "id": "69449fbb-bfcf-4809-a74e-0bf03cf52158",
   "metadata": {},
   "outputs": [
    {
     "name": "stdout",
     "output_type": "stream",
     "text": [
      "0.1064419272464234\n"
     ]
    }
   ],
   "source": [
    "print(probs[2,0,0,1])"
   ]
  },
  {
   "cell_type": "code",
   "execution_count": 46,
   "id": "55a45847-6980-41aa-8a53-1b5e6f402a63",
   "metadata": {},
   "outputs": [],
   "source": [
    "from thewalrus import perm"
   ]
  },
  {
   "cell_type": "code",
   "execution_count": 47,
   "id": "135def12-8e13-41f1-ac8d-fb6469e5d891",
   "metadata": {},
   "outputs": [
    {
     "data": {
      "text/plain": [
       "array([[ 0.2195-0.2565j,  0.6111+0.5242j, -0.0273+0.0373j],\n",
       "       [ 0.4513+0.6026j,  0.457 +0.0123j,  0.0353-0.0532j],\n",
       "       [ 0.0387+0.4927j, -0.0192-0.3218j, -0.4584+0.3296j],\n",
       "       [-0.1566+0.2246j,  0.11  -0.1638j,  0.8188+0.068j ]])"
      ]
     },
     "execution_count": 47,
     "metadata": {},
     "output_type": "execute_result"
    }
   ],
   "source": [
    "U[:,[0,1,3]]"
   ]
  },
  {
   "cell_type": "code",
   "execution_count": 48,
   "id": "c5ed7ea0-9eee-4b50-b18c-c53a0991a56e",
   "metadata": {},
   "outputs": [
    {
     "data": {
      "text/plain": [
       "array([[ 0.2195-0.2565j,  0.6111+0.5242j, -0.0273+0.0373j],\n",
       "       [ 0.2195-0.2565j,  0.6111+0.5242j, -0.0273+0.0373j],\n",
       "       [-0.1566+0.2246j,  0.11  -0.1638j,  0.8188+0.068j ]])"
      ]
     },
     "execution_count": 48,
     "metadata": {},
     "output_type": "execute_result"
    }
   ],
   "source": [
    "U[:,[0,1,3]][[0,0,3]]"
   ]
  },
  {
   "cell_type": "code",
   "execution_count": 49,
   "id": "4e5eda02-182d-4b9d-9464-7be5c679d0f1",
   "metadata": {},
   "outputs": [
    {
     "name": "stdout",
     "output_type": "stream",
     "text": [
      "0.10644192724642305\n"
     ]
    }
   ],
   "source": [
    "print(np.abs(perm(U[:, [0,1,3]][[0,0,3]]))**2 / 2)"
   ]
  },
  {
   "cell_type": "code",
   "execution_count": 50,
   "id": "f45a1adc-4866-4c8c-be04-915479181342",
   "metadata": {},
   "outputs": [
    {
     "name": "stdout",
     "output_type": "stream",
     "text": [
      "3.259474007757788e-13\n"
     ]
    }
   ],
   "source": [
    "BS = np.abs(perm(U[:, [0,1,3]][[0,0,3]]))**2 / 2\n",
    "SF = probs[2,0,0,1]\n",
    "\n",
    "print(100*np.abs(BS-SF)/BS)"
   ]
  },
  {
   "cell_type": "code",
   "execution_count": 51,
   "id": "cade3698-f755-4484-b710-41936a1f6dec",
   "metadata": {},
   "outputs": [
    {
     "name": "stdout",
     "output_type": "stream",
     "text": [
      "0.0009458483347132492\n",
      "0.0009458483347132459\n"
     ]
    }
   ],
   "source": [
    "print(probs[3,0,0,0])\n",
    "print(np.abs(perm(U[:, [0,1,3]][[0,0,0]]))**2 / 6)"
   ]
  },
  {
   "cell_type": "code",
   "execution_count": 52,
   "id": "cad668f8-aad2-4ac6-96a2-b5c6979b2173",
   "metadata": {},
   "outputs": [
    {
     "name": "stdout",
     "output_type": "stream",
     "text": [
      "0.17468916048563932\n",
      "0.17468916048563887\n"
     ]
    }
   ],
   "source": [
    "print(probs[1,1,0,1])\n",
    "print(np.abs(perm(U[:, [0,1,3]][[0,1,3]]))**2 / 1)"
   ]
  },
  {
   "cell_type": "code",
   "execution_count": 53,
   "id": "f687f560-ae53-4fe6-9212-959de6b1a00b",
   "metadata": {},
   "outputs": [],
   "source": [
    "#Executed by vijaymohire in Xanadu Cloud (for educational pupose only); more details at: https://strawberryfields.ai/photonics/demos/run_boson_sampling.html"
   ]
  },
  {
   "cell_type": "code",
   "execution_count": null,
   "id": "d309911f-fb91-443c-9b95-b9e4c107b15a",
   "metadata": {},
   "outputs": [],
   "source": []
  }
 ],
 "metadata": {
  "kernelspec": {
   "display_name": "PennyLane",
   "language": "python",
   "name": "pennylane"
  },
  "language_info": {
   "codemirror_mode": {
    "name": "ipython",
    "version": 3
   },
   "file_extension": ".py",
   "mimetype": "text/x-python",
   "name": "python",
   "nbconvert_exporter": "python",
   "pygments_lexer": "ipython3",
   "version": "3.9.13"
  }
 },
 "nbformat": 4,
 "nbformat_minor": 5
}
