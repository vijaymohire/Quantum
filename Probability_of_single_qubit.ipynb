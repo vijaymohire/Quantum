{
 "cells": [
  {
   "cell_type": "code",
   "execution_count": 13,
   "id": "8ab90736",
   "metadata": {},
   "outputs": [
    {
     "name": "stderr",
     "output_type": "stream",
     "text": [
      "ibmqfactory.load_account:WARNING:2021-07-10 06:32:10,962: Credentials are already in use. The existing account in the session will be replaced.\n"
     ]
    }
   ],
   "source": [
    "import numpy as np\n",
    "# Importing standard Qiskit libraries\n",
    "from qiskit import QuantumCircuit, transpile, Aer, IBMQ, assemble\n",
    "from qiskit.tools.jupyter import *\n",
    "from qiskit.visualization import *\n",
    "from ibm_quantum_widgets import *\n",
    "import math \n",
    "\n",
    "# Loading your IBM Quantum account(s)\n",
    "provider = IBMQ.load_account() \n",
    "sim = Aer.get_backend('aer_simulator') "
   ]
  },
  {
   "cell_type": "code",
   "execution_count": 16,
   "id": "93d3cce2",
   "metadata": {},
   "outputs": [
    {
     "data": {
      "image/png": "[encoded data removed]",
      "text/plain": [
       "<Figure size 504x360 with 1 Axes>"
      ]
     },
     "execution_count": 16,
     "metadata": {},
     "output_type": "execute_result"
    }
   ],
   "source": [
    "from math import pi, sqrt\n",
    "qc = QuantumCircuit(1)\n",
    "qc.ry(3 * math.pi/4, 0)\n",
    "qc.measure_all() \n",
    "#qc.save_statevector()   # Tell simulator to save statevector\n",
    "#qobj = assemble(qc)     # Create a Qobj from the circuit for the simulator to run\n",
    "#result = sim.run(qobj).result() # Do the simulation and return the result c\n",
    "qobj = assemble(qc)\n",
    "result = sim.run(qobj).result()\n",
    "counts = result.get_counts()\n",
    "plot_histogram(counts)"
   ]
  },
  {
   "cell_type": "code",
   "execution_count": 17,
   "id": "21953cc4",
   "metadata": {},
   "outputs": [
    {
     "data": {
      "image/png": "[encoded data removed]",
      "text/plain": [
       "<Figure size 297.479x144.48 with 1 Axes>"
      ]
     },
     "execution_count": 17,
     "metadata": {},
     "output_type": "execute_result"
    }
   ],
   "source": [
    "#out_state = result.get_statevector()\n",
    "#print(out_state) # Display the output state vector \n",
    "\n",
    "qc.draw()"
   ]
  },
  {
   "cell_type": "code",
   "execution_count": null,
   "id": "331a8786",
   "metadata": {},
   "outputs": [],
   "source": [
    "This code is a part of Qiskit\n",
    "\n",
    "© Copyright IBM 2017, 2020.\n",
    "\n",
    "This code is licensed under the Apache License, Version 2.0. You may\n",
    "obtain a copy of this license in the LICENSE.txt file in the root directory\n",
    "of this source tree or at http://www.apache.org/licenses/LICENSE-2.0.\n",
    "\n",
    "Any modifications or derivative works of this code must retain this\n",
    "copyright notice, and modified files need to carry a notice indicating\n",
    "that they have been altered from the originals.\n",
    "\n",
    "#Program executed by Bhadale IT in IBM Quantum Lab (https://www.bhadaleit.com).\n",
    "#For more details on the Qiskit code and tutorials visit https://qiskit.org/ website\n",
    "\n",
    "# For given problem , answer is 0.1464\n",
    "\n",
    "#Given this code fragment, what is the probability that a measurement would result in |0> ?\n",
    "#qc = QuantumCircuit(1)\n",
    "#qc.ry(3 * math.pi/4, 0)\n",
    "#A. 0.8536\n",
    "#B. 0.5\n",
    "#C. 0.1464\n",
    "#D. 1.0"
   ]
  }
 ],
 "metadata": {
  "kernelspec": {
   "display_name": "Python 3",
   "language": "python",
   "name": "python3"
  },
  "language_info": {
   "codemirror_mode": {
    "name": "ipython",
    "version": 3
   },
   "file_extension": ".py",
   "mimetype": "text/x-python",
   "name": "python",
   "nbconvert_exporter": "python",
   "pygments_lexer": "ipython3",
   "version": "3.8.8"
  }
 },
 "nbformat": 4,
 "nbformat_minor": 5
}
