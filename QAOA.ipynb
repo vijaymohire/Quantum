{
 "cells": [
  {
   "cell_type": "code",
   "execution_count": 3,
   "metadata": {},
   "outputs": [],
   "source": [
    "from pyquil.paulis import sZ, sX, sY, sI\n",
    "import numpy as np"
   ]
  },
  {
   "cell_type": "code",
   "execution_count": 4,
   "metadata": {},
   "outputs": [],
   "source": [
    "from pyquil.paulis import exponentiate, exponential_map"
   ]
  },
  {
   "cell_type": "markdown",
   "metadata": {},
   "source": [
    "Case (i) - Z"
   ]
  },
  {
   "cell_type": "code",
   "execution_count": 6,
   "metadata": {},
   "outputs": [
    {
     "name": "stdout",
     "output_type": "stream",
     "text": [
      "<class 'pyquil.paulis.PauliTerm'>\n"
     ]
    }
   ],
   "source": [
    "zz = sZ(0)*sX(1)\n",
    "print(type(zz))"
   ]
  },
  {
   "cell_type": "code",
   "execution_count": 8,
   "metadata": {},
   "outputs": [],
   "source": [
    "exponentiate?"
   ]
  },
  {
   "cell_type": "code",
   "execution_count": 9,
   "metadata": {},
   "outputs": [
    {
     "name": "stdout",
     "output_type": "stream",
     "text": [
      "RZ(2.0) 2\n",
      "\n"
     ]
    }
   ],
   "source": [
    "H = sZ(2)\n",
    "pq = exponentiate(H)\n",
    "print(pq)"
   ]
  },
  {
   "cell_type": "code",
   "execution_count": 15,
   "metadata": {},
   "outputs": [
    {
     "name": "stdout",
     "output_type": "stream",
     "text": [
      "<class 'pyquil.paulis.PauliTerm'>\n",
      "<class 'pyquil.paulis.PauliSum'>\n"
     ]
    }
   ],
   "source": [
    "print(type(sZ(2)))\n",
    "print(type(sZ(2)+sI(0)))"
   ]
  },
  {
   "cell_type": "code",
   "execution_count": 10,
   "metadata": {},
   "outputs": [],
   "source": [
    "exponential_map?"
   ]
  },
  {
   "cell_type": "code",
   "execution_count": 12,
   "metadata": {},
   "outputs": [
    {
     "name": "stdout",
     "output_type": "stream",
     "text": [
      "RZ(0.4) 2\n",
      "\n"
     ]
    }
   ],
   "source": [
    "param_pq = exponential_map(H)\n",
    "\n",
    "pq = param_pq(0.2)\n",
    "print(pq)"
   ]
  },
  {
   "cell_type": "markdown",
   "metadata": {},
   "source": [
    "Case (ii) - Products of Z"
   ]
  },
  {
   "cell_type": "code",
   "execution_count": 18,
   "metadata": {},
   "outputs": [],
   "source": [
    "H = sZ(1)*sX(4)*sZ(5)"
   ]
  },
  {
   "cell_type": "code",
   "execution_count": 19,
   "metadata": {},
   "outputs": [
    {
     "name": "stdout",
     "output_type": "stream",
     "text": [
      "H 4\n",
      "CNOT 1 4\n",
      "CNOT 4 5\n",
      "RZ(1.0) 5\n",
      "CNOT 4 5\n",
      "CNOT 1 4\n",
      "H 4\n",
      "\n"
     ]
    }
   ],
   "source": [
    "param_pq = exponential_map(H)\n",
    "\n",
    "pq = param_pq(0.5)\n",
    "print(pq)"
   ]
  },
  {
   "cell_type": "markdown",
   "metadata": {},
   "source": [
    "Case (iii) - Non-Z Operators"
   ]
  },
  {
   "cell_type": "code",
   "execution_count": 20,
   "metadata": {},
   "outputs": [],
   "source": [
    "H = sZ(1)*sX(4)*sZ(5)"
   ]
  },
  {
   "cell_type": "code",
   "execution_count": 21,
   "metadata": {},
   "outputs": [
    {
     "name": "stdout",
     "output_type": "stream",
     "text": [
      "H 4\n",
      "CNOT 1 4\n",
      "CNOT 4 5\n",
      "RZ(1.0) 5\n",
      "CNOT 4 5\n",
      "CNOT 1 4\n",
      "H 4\n",
      "\n"
     ]
    }
   ],
   "source": [
    "param_pq = exponential_map(H)\n",
    "\n",
    "pq = param_pq(0.5)\n",
    "print(pq)"
   ]
  },
  {
   "cell_type": "code",
   "execution_count": 22,
   "metadata": {},
   "outputs": [
    {
     "name": "stdout",
     "output_type": "stream",
     "text": [
      "H 4\n",
      "RX(pi/2) 5\n",
      "CNOT 1 4\n",
      "CNOT 4 5\n",
      "RZ(1.0) 5\n",
      "CNOT 4 5\n",
      "CNOT 1 4\n",
      "H 4\n",
      "RX(-pi/2) 5\n",
      "\n"
     ]
    }
   ],
   "source": [
    "H = sZ(1)*sX(4)*sY(5)\n",
    "param_pq = exponential_map(H)\n",
    "\n",
    "pq = param_pq(0.5)\n",
    "print(pq)"
   ]
  },
  {
   "cell_type": "markdown",
   "metadata": {},
   "source": [
    "Case (iv) - Sums"
   ]
  },
  {
   "cell_type": "code",
   "execution_count": 23,
   "metadata": {},
   "outputs": [],
   "source": [
    "from pyquil.paulis import exponentiate_commuting_pauli_sum"
   ]
  },
  {
   "cell_type": "code",
   "execution_count": 24,
   "metadata": {},
   "outputs": [],
   "source": [
    "exponentiate_commuting_pauli_sum?"
   ]
  },
  {
   "cell_type": "code",
   "execution_count": 25,
   "metadata": {},
   "outputs": [],
   "source": [
    "# Commuting case\n",
    "H = sZ(0)*sX(2) + sZ(1)"
   ]
  },
  {
   "cell_type": "code",
   "execution_count": 26,
   "metadata": {},
   "outputs": [
    {
     "name": "stdout",
     "output_type": "stream",
     "text": [
      "H 2\n",
      "CNOT 0 2\n",
      "RZ(1.0) 2\n",
      "CNOT 0 2\n",
      "H 2\n",
      "RZ(1.0) 1\n",
      "\n"
     ]
    }
   ],
   "source": [
    "param_pq = exponentiate_commuting_pauli_sum(H)\n",
    "pq = param_pq(0.5)\n",
    "print(pq)"
   ]
  },
  {
   "cell_type": "code",
   "execution_count": 27,
   "metadata": {},
   "outputs": [],
   "source": [
    "# Let's check the answer\n",
    "from pyquil.unitary_tools import program_unitary, tensor_up\n",
    "from scipy.linalg import expm"
   ]
  },
  {
   "cell_type": "code",
   "execution_count": 28,
   "metadata": {},
   "outputs": [
    {
     "name": "stdout",
     "output_type": "stream",
     "text": [
      "[[ 0.77015115-0.42073549j  0.        +0.j          0.        +0.j\n",
      "   0.        +0.j         -0.22984885-0.42073549j  0.        +0.j\n",
      "   0.        +0.j          0.        +0.j        ]\n",
      " [ 0.        +0.j          0.77015115-0.42073549j  0.        +0.j\n",
      "   0.        +0.j          0.        +0.j          0.22984885+0.42073549j\n",
      "   0.        +0.j          0.        +0.j        ]\n",
      " [ 0.        +0.j          0.        +0.j          0.77015115+0.42073549j\n",
      "   0.        +0.j          0.        +0.j          0.        +0.j\n",
      "   0.22984885-0.42073549j  0.        +0.j        ]\n",
      " [ 0.        +0.j          0.        +0.j          0.        +0.j\n",
      "   0.77015115+0.42073549j  0.        +0.j          0.        +0.j\n",
      "   0.        +0.j         -0.22984885+0.42073549j]\n",
      " [-0.22984885-0.42073549j  0.        +0.j          0.        +0.j\n",
      "   0.        +0.j          0.77015115-0.42073549j  0.        +0.j\n",
      "   0.        +0.j          0.        +0.j        ]\n",
      " [ 0.        +0.j          0.22984885+0.42073549j  0.        +0.j\n",
      "   0.        +0.j          0.        +0.j          0.77015115-0.42073549j\n",
      "   0.        +0.j          0.        +0.j        ]\n",
      " [ 0.        +0.j          0.        +0.j          0.22984885-0.42073549j\n",
      "   0.        +0.j          0.        +0.j          0.        +0.j\n",
      "   0.77015115+0.42073549j  0.        +0.j        ]\n",
      " [ 0.        +0.j          0.        +0.j          0.        +0.j\n",
      "  -0.22984885+0.42073549j  0.        +0.j          0.        +0.j\n",
      "   0.        +0.j          0.77015115+0.42073549j]]\n"
     ]
    }
   ],
   "source": [
    "alpha = 0.5\n",
    "dense = tensor_up(H, qubits=range(3))\n",
    "expd = expm(-1.j * alpha * dense)\n",
    "print(expd)"
   ]
  },
  {
   "cell_type": "code",
   "execution_count": 29,
   "metadata": {},
   "outputs": [
    {
     "data": {
      "text/plain": [
       "array([[ 0.77015115-0.42073549j,  0.        +0.j        ,\n",
       "         0.        +0.j        ,  0.        +0.j        ,\n",
       "        -0.22984885-0.42073549j,  0.        +0.j        ,\n",
       "         0.        +0.j        ,  0.        +0.j        ],\n",
       "       [ 0.        +0.j        ,  0.77015115-0.42073549j,\n",
       "         0.        +0.j        ,  0.        +0.j        ,\n",
       "         0.        +0.j        ,  0.22984885+0.42073549j,\n",
       "         0.        +0.j        ,  0.        +0.j        ],\n",
       "       [ 0.        +0.j        ,  0.        +0.j        ,\n",
       "         0.77015115+0.42073549j,  0.        +0.j        ,\n",
       "         0.        +0.j        ,  0.        +0.j        ,\n",
       "         0.22984885-0.42073549j,  0.        +0.j        ],\n",
       "       [ 0.        +0.j        ,  0.        +0.j        ,\n",
       "         0.        +0.j        ,  0.77015115+0.42073549j,\n",
       "         0.        +0.j        ,  0.        +0.j        ,\n",
       "         0.        +0.j        , -0.22984885+0.42073549j],\n",
       "       [-0.22984885-0.42073549j,  0.        +0.j        ,\n",
       "         0.        +0.j        ,  0.        +0.j        ,\n",
       "         0.77015115-0.42073549j,  0.        +0.j        ,\n",
       "         0.        +0.j        ,  0.        +0.j        ],\n",
       "       [ 0.        +0.j        ,  0.22984885+0.42073549j,\n",
       "         0.        +0.j        ,  0.        +0.j        ,\n",
       "         0.        +0.j        ,  0.77015115-0.42073549j,\n",
       "         0.        +0.j        ,  0.        +0.j        ],\n",
       "       [ 0.        +0.j        ,  0.        +0.j        ,\n",
       "         0.22984885-0.42073549j,  0.        +0.j        ,\n",
       "         0.        +0.j        ,  0.        +0.j        ,\n",
       "         0.77015115+0.42073549j,  0.        +0.j        ],\n",
       "       [ 0.        +0.j        ,  0.        +0.j        ,\n",
       "         0.        +0.j        , -0.22984885+0.42073549j,\n",
       "         0.        +0.j        ,  0.        +0.j        ,\n",
       "         0.        +0.j        ,  0.77015115+0.42073549j]])"
      ]
     },
     "execution_count": 29,
     "metadata": {},
     "output_type": "execute_result"
    }
   ],
   "source": [
    "program_unitary(pq, 3)"
   ]
  },
  {
   "cell_type": "code",
   "execution_count": 30,
   "metadata": {},
   "outputs": [
    {
     "data": {
      "text/plain": [
       "True"
      ]
     },
     "execution_count": 30,
     "metadata": {},
     "output_type": "execute_result"
    }
   ],
   "source": [
    "np.allclose(expd, program_unitary(pq, 3))"
   ]
  },
  {
   "cell_type": "code",
   "execution_count": 31,
   "metadata": {},
   "outputs": [],
   "source": [
    "# Non-commuting Case\n",
    "from pyquil.paulis import trotterize"
   ]
  },
  {
   "cell_type": "code",
   "execution_count": 32,
   "metadata": {},
   "outputs": [],
   "source": [
    "trotterize?"
   ]
  },
  {
   "cell_type": "code",
   "execution_count": 33,
   "metadata": {},
   "outputs": [],
   "source": [
    "H1 = sZ(0)\n",
    "H2 = sX(0)"
   ]
  },
  {
   "cell_type": "code",
   "execution_count": 34,
   "metadata": {},
   "outputs": [
    {
     "name": "stdout",
     "output_type": "stream",
     "text": [
      "RZ(2.0) 0\n",
      "H 0\n",
      "RZ(2.0) 0\n",
      "H 0\n",
      "\n"
     ]
    }
   ],
   "source": [
    "trot_pq = trotterize(H1, H2, trotter_order=1, trotter_steps=1)\n",
    "print(trot_pq)"
   ]
  },
  {
   "cell_type": "code",
   "execution_count": 35,
   "metadata": {},
   "outputs": [
    {
     "name": "stdout",
     "output_type": "stream",
     "text": [
      "RZ(0.5) 0\n",
      "H 0\n",
      "RZ(1.0) 0\n",
      "H 0\n",
      "RZ(0.5) 0\n",
      "RZ(0.5) 0\n",
      "H 0\n",
      "RZ(1.0) 0\n",
      "H 0\n",
      "RZ(0.5) 0\n",
      "\n"
     ]
    }
   ],
   "source": [
    "trot_pq = trotterize(H1, H2, trotter_order=2, trotter_steps=2)\n",
    "print(trot_pq)"
   ]
  },
  {
   "cell_type": "markdown",
   "metadata": {},
   "source": [
    "# QAOA (short form)"
   ]
  },
  {
   "cell_type": "code",
   "execution_count": 38,
   "metadata": {},
   "outputs": [],
   "source": [
    "from pyquil import Program\n",
    "from pyquil.api import WavefunctionSimulator\n",
    "from pyquil.gates import H\n",
    "from pyquil.paulis import sZ, sX, sI, exponentiate_commuting_pauli_sum\n",
    "from scipy.optimize import minimize"
   ]
  },
  {
   "cell_type": "code",
   "execution_count": 39,
   "metadata": {},
   "outputs": [],
   "source": [
    "graph = [(0, 1), (1, 2), (2, 3), (3, 0)]\n",
    "nodes = range(4)"
   ]
  },
  {
   "cell_type": "code",
   "execution_count": 40,
   "metadata": {},
   "outputs": [],
   "source": [
    "init_state_prog = sum([H(i) for i in nodes], Program())\n",
    "h_cost = -0.5 * sum(sI(nodes[0]) - sZ(i) * sZ(j) for i, j in graph)\n",
    "h_driver = -1. * sum(sX(i) for i in nodes)"
   ]
  },
  {
   "cell_type": "code",
   "execution_count": 41,
   "metadata": {},
   "outputs": [],
   "source": [
    "def qaoa_ansatz(betas, gammas):\n",
    "    pq = Program()\n",
    "    pq += [exponentiate_commuting_pauli_sum(h_cost)(g) + exponentiate_commuting_pauli_sum(h_driver)(b) \n",
    "                for g, b in zip(gammas, betas)]\n",
    "    return pq"
   ]
  },
  {
   "cell_type": "code",
   "execution_count": 42,
   "metadata": {},
   "outputs": [],
   "source": [
    "def qaoa_cost(params):\n",
    "    half = int(len(params)/2)\n",
    "    betas, gammas = params[:half], params[half:]\n",
    "    program = init_state_prog + qaoa_ansatz(betas, gammas)\n",
    "    return WavefunctionSimulator().expectation(prep_prog=program, pauli_terms=h_cost)\n",
    "\n"
   ]
  },
  {
   "cell_type": "code",
   "execution_count": 43,
   "metadata": {},
   "outputs": [
    {
     "name": "stdout",
     "output_type": "stream",
     "text": [
      "Optimization terminated successfully.\n",
      "         Current function value: -4.000000\n",
      "         Iterations: 305\n",
      "         Function evaluations: 506\n"
     ]
    }
   ],
   "source": [
    "result = minimize(qaoa_cost, x0=[0., 0.5, 0.75, 1.], method='Nelder-Mead', options={'disp': True})\n"
   ]
  },
  {
   "cell_type": "code",
   "execution_count": 44,
   "metadata": {},
   "outputs": [
    {
     "name": "stdout",
     "output_type": "stream",
     "text": [
      " final_simplex: (array([[0.55926575, 0.45226859, 0.90449921, 1.11852879],\n",
      "       [0.55925986, 0.45229627, 0.90458276, 1.11854567],\n",
      "       [0.55926869, 0.45229186, 0.90452353, 1.11850126],\n",
      "       [0.55924798, 0.45231843, 0.90454949, 1.1185296 ],\n",
      "       [0.55927686, 0.45227979, 0.90449662, 1.11857236]]), array([-3.99999999, -3.99999999, -3.99999999, -3.99999999, -3.99999999]))\n",
      "           fun: -3.9999999948105005\n",
      "       message: 'Optimization terminated successfully.'\n",
      "          nfev: 506\n",
      "           nit: 305\n",
      "        status: 0\n",
      "       success: True\n",
      "             x: array([0.55926575, 0.45226859, 0.90449921, 1.11852879])\n"
     ]
    }
   ],
   "source": [
    "print(result)"
   ]
  },
  {
   "cell_type": "code",
   "execution_count": null,
   "metadata": {},
   "outputs": [],
   "source": []
  }
 ],
 "metadata": {
  "kernelspec": {
   "display_name": "Python 3",
   "language": "python",
   "name": "python3"
  },
  "language_info": {
   "codemirror_mode": {
    "name": "ipython",
    "version": 3
   },
   "file_extension": ".py",
   "mimetype": "text/x-python",
   "name": "python",
   "nbconvert_exporter": "python",
   "pygments_lexer": "ipython3",
   "version": "3.7.2"
  }
 },
 "nbformat": 4,
 "nbformat_minor": 2
}
