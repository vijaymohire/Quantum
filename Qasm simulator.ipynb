{
 "cells": [
  {
   "cell_type": "code",
   "execution_count": 2,
   "id": "52bb808d",
   "metadata": {},
   "outputs": [],
   "source": [
    "import numpy as np\n",
    "# Importing standard Qiskit libraries\n",
    "from qiskit import QuantumCircuit, transpile, Aer, IBMQ\n",
    "from qiskit.tools.jupyter import *\n",
    "from qiskit.visualization import *\n",
    "from ibm_quantum_widgets import *\n",
    "\n",
    "# Loading your IBM Quantum account(s)\n",
    "provider = IBMQ.load_account()"
   ]
  },
  {
   "cell_type": "code",
   "execution_count": 3,
   "id": "52a84669",
   "metadata": {},
   "outputs": [
    {
     "data": {
      "text/plain": [
       "<qiskit.circuit.instructionset.InstructionSet at 0x7f3f4802ccd0>"
      ]
     },
     "execution_count": 3,
     "metadata": {},
     "output_type": "execute_result"
    }
   ],
   "source": [
    "# Build\n",
    "#------\n",
    "\n",
    "# Create a Quantum Circuit acting on the q register\n",
    "circuit = QuantumCircuit(2, 2)\n",
    "\n",
    "# Add a H gate on qubit 0\n",
    "circuit.h(0)\n",
    "\n",
    "# Add a CX (CNOT) gate on control qubit 0 and target qubit 1\n",
    "circuit.cx(0, 1)\n",
    "\n",
    "# Map the quantum measurement to the classical bits\n",
    "circuit.measure([0,1], [0,1])\n",
    "\n",
    "# END"
   ]
  },
  {
   "cell_type": "code",
   "execution_count": 4,
   "id": "4d0b5d71",
   "metadata": {},
   "outputs": [
    {
     "name": "stdout",
     "output_type": "stream",
     "text": [
      "\n",
      "Total count for 00 and 11 are: {'11': 481, '00': 519}\n"
     ]
    }
   ],
   "source": [
    "# Execute\n",
    "#--------\n",
    "from qiskit import execute\n",
    "# Use Aer's qasm_simulator\n",
    "simulator = Aer.get_backend('qasm_simulator')\n",
    "\n",
    "# Execute the circuit on the qasm simulator\n",
    "job = execute(circuit, simulator, shots=1000)\n",
    "\n",
    "# Grab results from the job\n",
    "result = job.result()\n",
    "\n",
    "# Return counts\n",
    "counts = result.get_counts(circuit)\n",
    "print(\"\\nTotal count for 00 and 11 are:\",counts)\n",
    "\n",
    "# END"
   ]
  },
  {
   "cell_type": "code",
   "execution_count": null,
   "id": "2337b649",
   "metadata": {},
   "outputs": [
    {
     "data": {
      "application/vnd.jupyter.widget-view+json": {
       "model_id": "353ecd185ca54da2a4f4fc6b0b9803e2",
       "version_major": 2,
       "version_minor": 0
      },
      "text/plain": [
       "CircuitComposer(circuit=<qiskit.circuit.quantumcircuit.QuantumCircuit object at 0x7f3eb0f6e0a0>, editable=Fals…"
      ]
     },
     "metadata": {},
     "output_type": "display_data"
    }
   ],
   "source": [
    "# Visualize\n",
    "#----------\n",
    "\n",
    "# Import draw_circuit, then use it to draw the circuit\n",
    "from ibm_quantum_widgets import draw_circuit\n",
    "draw_circuit(circuit)\n",
    "\n",
    "# Analyze\n",
    "#--------\n",
    "\n",
    "# Plot a histogram\n",
    "plot_histogram(counts)\n",
    "\n",
    "# END"
   ]
  },
  {
   "cell_type": "code",
   "execution_count": null,
   "id": "36f30f6e",
   "metadata": {},
   "outputs": [],
   "source": [
    "This code is a part of Qiskit\n",
    "\n",
    "© Copyright IBM 2017, 2020.\n",
    "\n",
    "This code is licensed under the Apache License, Version 2.0. You may\n",
    "obtain a copy of this license in the LICENSE.txt file in the root directory\n",
    "of this source tree or at http://www.apache.org/licenses/LICENSE-2.0.\n",
    "\n",
    "Any modifications or derivative works of this code must retain this\n",
    "copyright notice, and modified files need to carry a notice indicating\n",
    "that they have been altered from the originals.\n",
    "\n",
    "#Program executed by Bhadale IT in IBM Quantum Lab (https://www.bhadaleit.com).\n",
    "#For more details on the Qiskit code and tutorials visit https://qiskit.org/ website"
   ]
  }
 ],
 "metadata": {
  "kernelspec": {
   "display_name": "Python 3",
   "language": "python",
   "name": "python3"
  },
  "language_info": {
   "codemirror_mode": {
    "name": "ipython",
    "version": 3
   },
   "file_extension": ".py",
   "mimetype": "text/x-python",
   "name": "python",
   "nbconvert_exporter": "python",
   "pygments_lexer": "ipython3",
   "version": "3.8.8"
  },
  "widgets": {
   "application/vnd.jupyter.widget-state+json": {
    "state": {
     "0034b39f62c94d66be5152045017c3ab": {
      "model_module": "@jupyter-widgets/base",
      "model_module_version": "1.2.0",
      "model_name": "LayoutModel",
      "state": {
       "width": "95px"
      }
     },
     "03751ce277fa4b799c8f51d13d66e678": {
      "model_module": "@jupyter-widgets/controls",
      "model_module_version": "1.5.0",
      "model_name": "HTMLModel",
      "state": {
       "layout": "IPY_MODEL_7e60405b7b674e74ae64aba8f84c9017",
       "style": "IPY_MODEL_b0163aff870f443d8d3b6fcaef7fc605",
       "value": "<p style='font-family: IBM Plex Sans, Arial, Helvetica, sans-serif; font-size: 20px; font-weight: medium;'>Circuit Properties</p>"
      }
     },
     "11ff62dc926a4c158b7b1553ac12ae87": {
      "model_module": "@jupyter-widgets/controls",
      "model_module_version": "1.5.0",
      "model_name": "HTMLModel",
      "state": {
       "layout": "IPY_MODEL_69728e7bdfe5475ea7d41ab9849431d5",
       "style": "IPY_MODEL_3d512bc59b714d918035be198052731e",
       "value": "<h5>Job ID</h5>"
      }
     },
     "1200e72f552746dea0b5ac75a2ff6640": {
      "model_module": "@jupyter-widgets/controls",
      "model_module_version": "1.5.0",
      "model_name": "DescriptionStyleModel",
      "state": {
       "description_width": ""
      }
     },
     "12bbda1262f34d4c88002971b98b312d": {
      "model_module": "@jupyter-widgets/controls",
      "model_module_version": "1.5.0",
      "model_name": "HTMLModel",
      "state": {
       "layout": "IPY_MODEL_30a9e777ceb14c10beb8e2ee4266aa2b",
       "style": "IPY_MODEL_da9ad04563824b368d57da24ca31b243",
       "value": "<h5>Backend</h5>"
      }
     },
     "1613993645674a19bbda2342f6f29ba0": {
      "model_module": "@jupyter-widgets/controls",
      "model_module_version": "1.5.0",
      "model_name": "HBoxModel",
      "state": {
       "children": [
        "IPY_MODEL_dd00a4bdd50d4e66b7437fe00df8f48d",
        "IPY_MODEL_22cddbfaf90f42d69201d663760469a3",
        "IPY_MODEL_ae044c4422634842a9e54e8e9145d153",
        "IPY_MODEL_d9a9ee1c2ccf4249a8e9b8816342815c",
        "IPY_MODEL_38a23e1d6acf4189a03afbca291d8307"
       ],
       "layout": "IPY_MODEL_1ff99c3f26db4706b5cc3846665af8e7"
      }
     },
     "1ff99c3f26db4706b5cc3846665af8e7": {
      "model_module": "@jupyter-widgets/base",
      "model_module_version": "1.2.0",
      "model_name": "LayoutModel",
      "state": {
       "margin": "0px 0px 0px 37px",
       "width": "600px"
      }
     },
     "22cddbfaf90f42d69201d663760469a3": {
      "model_module": "@jupyter-widgets/controls",
      "model_module_version": "1.5.0",
      "model_name": "HTMLModel",
      "state": {
       "layout": "IPY_MODEL_c9ae35f0c79d42eb870044b7f9bafb8e",
       "style": "IPY_MODEL_7d2d54c01d8a4bf29203f81f2a42f9d5",
       "value": "<h5>Backend</h5>"
      }
     },
     "273c7122ab58419cb9749e544ddd0360": {
      "model_module": "@jupyter-widgets/base",
      "model_module_version": "1.2.0",
      "model_name": "LayoutModel",
      "state": {
       "grid_area": "right",
       "padding": "0px 0px 0px 0px",
       "width": "70px"
      }
     },
     "30a9e777ceb14c10beb8e2ee4266aa2b": {
      "model_module": "@jupyter-widgets/base",
      "model_module_version": "1.2.0",
      "model_name": "LayoutModel",
      "state": {
       "width": "145px"
      }
     },
     "353ecd185ca54da2a4f4fc6b0b9803e2": {
      "model_module": "@quantum/ibm-q-lab-widgets",
      "model_module_version": "^1.0.3",
      "model_name": "CircuitComposerModel",
      "state": {
       "_model_module_version": "^1.0.3",
       "_view_module_version": "^1.0.3",
       "circuit": "\"OPENQASM 2.0;\\ninclude \\\"qelib1.inc\\\";\\n\\nqreg q[2];\\ncreg c[2];\\n\\nh q[0];\\ncx q[0],q[1];\\nmeasure q[0] -> c[0];\\nmeasure q[1] -> c[1];\"",
       "editable": false,
       "layout": "IPY_MODEL_ea55888860724f8d893e0b4ff1ce3931",
       "qiskit_code_cell_index": -1
      }
     },
     "3582276e71f9463c9a37a8fd80f92016": {
      "model_module": "@jupyter-widgets/base",
      "model_module_version": "1.2.0",
      "model_name": "LayoutModel",
      "state": {
       "grid_template_areas": "\n                                       \". . . . right \"\n                                        ",
       "grid_template_columns": "20% 20% 20% 20% 20%",
       "width": "100%"
      }
     },
     "37ea670dafee48b3bc7051e3669c15e9": {
      "model_module": "@jupyter-widgets/base",
      "model_module_version": "1.2.0",
      "model_name": "LayoutModel",
      "state": {
       "width": "70px"
      }
     },
     "3834a3c509ab44b3ae2324b39d46838a": {
      "model_module": "@jupyter-widgets/controls",
      "model_module_version": "1.5.0",
      "model_name": "GridBoxModel",
      "state": {
       "children": [
        "IPY_MODEL_4c5259613f7645b79f6297f9ca7062ef"
       ],
       "layout": "IPY_MODEL_3582276e71f9463c9a37a8fd80f92016"
      }
     },
     "38a23e1d6acf4189a03afbca291d8307": {
      "model_module": "@jupyter-widgets/controls",
      "model_module_version": "1.5.0",
      "model_name": "HTMLModel",
      "state": {
       "layout": "IPY_MODEL_4b2e7c327012488dbebdda25978a8763",
       "style": "IPY_MODEL_5db450663ca34865aa48a8c102045b5c",
       "value": "<h5>Message</h5>"
      }
     },
     "3d0deb8a24154d5a8c60258713c2ebbe": {
      "model_module": "@jupyter-widgets/base",
      "model_module_version": "1.2.0",
      "model_name": "LayoutModel",
      "state": {
       "width": "95px"
      }
     },
     "3d512bc59b714d918035be198052731e": {
      "model_module": "@jupyter-widgets/controls",
      "model_module_version": "1.5.0",
      "model_name": "DescriptionStyleModel",
      "state": {
       "description_width": ""
      }
     },
     "4b2e7c327012488dbebdda25978a8763": {
      "model_module": "@jupyter-widgets/base",
      "model_module_version": "1.2.0",
      "model_name": "LayoutModel",
      "state": {}
     },
     "4c5259613f7645b79f6297f9ca7062ef": {
      "model_module": "@jupyter-widgets/controls",
      "model_module_version": "1.5.0",
      "model_name": "ButtonModel",
      "state": {
       "button_style": "primary",
       "description": "Clear",
       "layout": "IPY_MODEL_273c7122ab58419cb9749e544ddd0360",
       "style": "IPY_MODEL_d40471db8e3c4476bcd8c70e62538d2b"
      }
     },
     "5002054f06cc467088cf5b8b3ea97044": {
      "model_module": "@jupyter-widgets/controls",
      "model_module_version": "1.5.0",
      "model_name": "HTMLModel",
      "state": {
       "layout": "IPY_MODEL_8019563a105c4c609ddd48aae408273e",
       "style": "IPY_MODEL_5473d9f5a1704bf0a7615fd030774866",
       "value": "<h5>Queue</h5>"
      }
     },
     "5473d9f5a1704bf0a7615fd030774866": {
      "model_module": "@jupyter-widgets/controls",
      "model_module_version": "1.5.0",
      "model_name": "DescriptionStyleModel",
      "state": {
       "description_width": ""
      }
     },
     "551e0bdd4de746cfa5fea24d6c35aa48": {
      "model_module": "@jupyter-widgets/base",
      "model_module_version": "1.2.0",
      "model_name": "LayoutModel",
      "state": {}
     },
     "5a5ff54a68354521a49553f25af9cf66": {
      "model_module": "@jupyter-widgets/controls",
      "model_module_version": "1.5.0",
      "model_name": "HTMLModel",
      "state": {
       "layout": "IPY_MODEL_3d0deb8a24154d5a8c60258713c2ebbe",
       "style": "IPY_MODEL_5aedd5afa3e6487383c7a3fb482cba2b",
       "value": "<h5>Status</h5>"
      }
     },
     "5aedd5afa3e6487383c7a3fb482cba2b": {
      "model_module": "@jupyter-widgets/controls",
      "model_module_version": "1.5.0",
      "model_name": "DescriptionStyleModel",
      "state": {
       "description_width": ""
      }
     },
     "5db450663ca34865aa48a8c102045b5c": {
      "model_module": "@jupyter-widgets/controls",
      "model_module_version": "1.5.0",
      "model_name": "DescriptionStyleModel",
      "state": {
       "description_width": ""
      }
     },
     "6776cc379ae1429e9e44f90b82dfbfbd": {
      "model_module": "@jupyter-widgets/base",
      "model_module_version": "1.2.0",
      "model_name": "LayoutModel",
      "state": {
       "width": "190px"
      }
     },
     "68d9a9e950e444bdb5d4d04df8f803aa": {
      "model_module": "@jupyter-widgets/base",
      "model_module_version": "1.2.0",
      "model_name": "LayoutModel",
      "state": {}
     },
     "69728e7bdfe5475ea7d41ab9849431d5": {
      "model_module": "@jupyter-widgets/base",
      "model_module_version": "1.2.0",
      "model_name": "LayoutModel",
      "state": {
       "width": "190px"
      }
     },
     "6afa056196ac4420b12cd96686b0c4f4": {
      "model_module": "@quantum/ibm-q-lab-widgets",
      "model_module_version": "^1.0.3",
      "model_name": "CircuitComposerModel",
      "state": {
       "_model_module_version": "^1.0.3",
       "_view_module_version": "^1.0.3",
       "circuit": "\"OPENQASM 2.0;\\ninclude \\\"qelib1.inc\\\";\\n\\nqreg q[2];\\ncreg c[2];\\n\\nh q[0];\\ncx q[0],q[1];\\nmeasure q[0] -> c[0];\\nmeasure q[1] -> c[1];\"",
       "editable": false,
       "layout": "IPY_MODEL_551e0bdd4de746cfa5fea24d6c35aa48",
       "qiskit_code_cell_index": -1
      }
     },
     "6c7b57c15cab4f709bab3fec9d1041c1": {
      "model_module": "@jupyter-widgets/controls",
      "model_module_version": "1.5.0",
      "model_name": "ButtonStyleModel",
      "state": {}
     },
     "6de60a0384964d2fb7ea5e6a0c9e4b39": {
      "model_module": "@jupyter-widgets/base",
      "model_module_version": "1.2.0",
      "model_name": "LayoutModel",
      "state": {
       "grid_area": "right",
       "padding": "0px 0px 0px 0px",
       "width": "70px"
      }
     },
     "79b818326da9456599d9c4ea6c5bbd2c": {
      "model_module": "@jupyter-widgets/controls",
      "model_module_version": "1.5.0",
      "model_name": "HTMLModel",
      "state": {
       "layout": "IPY_MODEL_87d48bedba4b4d1b9f82a30e4a5b5363",
       "style": "IPY_MODEL_9332fddf7f6f41a4bc3cc34810775434",
       "value": "<p style='font-family: IBM Plex Sans, Arial, Helvetica, sans-serif; font-size: 20px; font-weight: medium;'>Circuit Properties</p>"
      }
     },
     "7d2d54c01d8a4bf29203f81f2a42f9d5": {
      "model_module": "@jupyter-widgets/controls",
      "model_module_version": "1.5.0",
      "model_name": "DescriptionStyleModel",
      "state": {
       "description_width": ""
      }
     },
     "7e60405b7b674e74ae64aba8f84c9017": {
      "model_module": "@jupyter-widgets/base",
      "model_module_version": "1.2.0",
      "model_name": "LayoutModel",
      "state": {
       "margin": "0px 0px 10px 0px"
      }
     },
     "8019563a105c4c609ddd48aae408273e": {
      "model_module": "@jupyter-widgets/base",
      "model_module_version": "1.2.0",
      "model_name": "LayoutModel",
      "state": {
       "width": "70px"
      }
     },
     "87d48bedba4b4d1b9f82a30e4a5b5363": {
      "model_module": "@jupyter-widgets/base",
      "model_module_version": "1.2.0",
      "model_name": "LayoutModel",
      "state": {
       "margin": "0px 0px 10px 0px"
      }
     },
     "8e705228ed3b45d9b8615fb3adaa90ef": {
      "model_module": "@jupyter-widgets/controls",
      "model_module_version": "1.5.0",
      "model_name": "DescriptionStyleModel",
      "state": {
       "description_width": ""
      }
     },
     "9332fddf7f6f41a4bc3cc34810775434": {
      "model_module": "@jupyter-widgets/controls",
      "model_module_version": "1.5.0",
      "model_name": "DescriptionStyleModel",
      "state": {
       "description_width": ""
      }
     },
     "9ae436599fa74fd4b8d54d0d457cd0b9": {
      "model_module": "@jupyter-widgets/controls",
      "model_module_version": "1.5.0",
      "model_name": "DescriptionStyleModel",
      "state": {
       "description_width": ""
      }
     },
     "9b5b15eaa8ed4256accd6c56452c6dde": {
      "model_module": "@quantum/ibm-q-lab-widgets",
      "model_module_version": "^1.0.3",
      "model_name": "CircuitComposerModel",
      "state": {
       "_model_module_version": "^1.0.3",
       "_view_module_version": "^1.0.3",
       "circuit": "\"OPENQASM 2.0;\\ninclude \\\"qelib1.inc\\\";\\n\\nqreg q[2];\\ncreg c[2];\\n\\nh q[0];\\ncx q[0],q[1];\\nmeasure q[0] -> c[0];\\nmeasure q[1] -> c[1];\"",
       "editable": false,
       "layout": "IPY_MODEL_68d9a9e950e444bdb5d4d04df8f803aa",
       "qiskit_code_cell_index": -1
      }
     },
     "a243e354a6524dea919dac25d235fc12": {
      "model_module": "@jupyter-widgets/controls",
      "model_module_version": "1.5.0",
      "model_name": "GridBoxModel",
      "state": {
       "children": [
        "IPY_MODEL_f6b3c284afa94a12883c6ab496586598"
       ],
       "layout": "IPY_MODEL_cf1263b3967b46adb4e7e1a0cf11caf6"
      }
     },
     "a93a19cc5076499f8693a652ef949baf": {
      "model_module": "@jupyter-widgets/base",
      "model_module_version": "1.2.0",
      "model_name": "LayoutModel",
      "state": {}
     },
     "ae044c4422634842a9e54e8e9145d153": {
      "model_module": "@jupyter-widgets/controls",
      "model_module_version": "1.5.0",
      "model_name": "HTMLModel",
      "state": {
       "layout": "IPY_MODEL_0034b39f62c94d66be5152045017c3ab",
       "style": "IPY_MODEL_f09e279295604194916c13d120e9af0b",
       "value": "<h5>Status</h5>"
      }
     },
     "b0163aff870f443d8d3b6fcaef7fc605": {
      "model_module": "@jupyter-widgets/controls",
      "model_module_version": "1.5.0",
      "model_name": "DescriptionStyleModel",
      "state": {
       "description_width": ""
      }
     },
     "bffb4a6a4237479abf0a6c3e7bd27678": {
      "model_module": "@jupyter-widgets/controls",
      "model_module_version": "1.5.0",
      "model_name": "HTMLModel",
      "state": {
       "layout": "IPY_MODEL_a93a19cc5076499f8693a652ef949baf",
       "style": "IPY_MODEL_1200e72f552746dea0b5ac75a2ff6640",
       "value": "<h5>Message</h5>"
      }
     },
     "c9ae35f0c79d42eb870044b7f9bafb8e": {
      "model_module": "@jupyter-widgets/base",
      "model_module_version": "1.2.0",
      "model_name": "LayoutModel",
      "state": {
       "width": "145px"
      }
     },
     "cf1263b3967b46adb4e7e1a0cf11caf6": {
      "model_module": "@jupyter-widgets/base",
      "model_module_version": "1.2.0",
      "model_name": "LayoutModel",
      "state": {
       "grid_template_areas": "\n                                       \". . . . right \"\n                                        ",
       "grid_template_columns": "20% 20% 20% 20% 20%",
       "width": "100%"
      }
     },
     "d34ec260566b4da5b9279f62a7645ca5": {
      "model_module": "@jupyter-widgets/base",
      "model_module_version": "1.2.0",
      "model_name": "LayoutModel",
      "state": {
       "margin": "0px 0px 0px 37px",
       "width": "600px"
      }
     },
     "d40471db8e3c4476bcd8c70e62538d2b": {
      "model_module": "@jupyter-widgets/controls",
      "model_module_version": "1.5.0",
      "model_name": "ButtonStyleModel",
      "state": {}
     },
     "d9a9ee1c2ccf4249a8e9b8816342815c": {
      "model_module": "@jupyter-widgets/controls",
      "model_module_version": "1.5.0",
      "model_name": "HTMLModel",
      "state": {
       "layout": "IPY_MODEL_37ea670dafee48b3bc7051e3669c15e9",
       "style": "IPY_MODEL_9ae436599fa74fd4b8d54d0d457cd0b9",
       "value": "<h5>Queue</h5>"
      }
     },
     "da9ad04563824b368d57da24ca31b243": {
      "model_module": "@jupyter-widgets/controls",
      "model_module_version": "1.5.0",
      "model_name": "DescriptionStyleModel",
      "state": {
       "description_width": ""
      }
     },
     "dd00a4bdd50d4e66b7437fe00df8f48d": {
      "model_module": "@jupyter-widgets/controls",
      "model_module_version": "1.5.0",
      "model_name": "HTMLModel",
      "state": {
       "layout": "IPY_MODEL_6776cc379ae1429e9e44f90b82dfbfbd",
       "style": "IPY_MODEL_8e705228ed3b45d9b8615fb3adaa90ef",
       "value": "<h5>Job ID</h5>"
      }
     },
     "ea55888860724f8d893e0b4ff1ce3931": {
      "model_module": "@jupyter-widgets/base",
      "model_module_version": "1.2.0",
      "model_name": "LayoutModel",
      "state": {}
     },
     "f09e279295604194916c13d120e9af0b": {
      "model_module": "@jupyter-widgets/controls",
      "model_module_version": "1.5.0",
      "model_name": "DescriptionStyleModel",
      "state": {
       "description_width": ""
      }
     },
     "f6b3c284afa94a12883c6ab496586598": {
      "model_module": "@jupyter-widgets/controls",
      "model_module_version": "1.5.0",
      "model_name": "ButtonModel",
      "state": {
       "button_style": "primary",
       "description": "Clear",
       "layout": "IPY_MODEL_6de60a0384964d2fb7ea5e6a0c9e4b39",
       "style": "IPY_MODEL_6c7b57c15cab4f709bab3fec9d1041c1"
      }
     },
     "faf8cefdd4234569aa8dc0acdb71417b": {
      "model_module": "@jupyter-widgets/controls",
      "model_module_version": "1.5.0",
      "model_name": "HBoxModel",
      "state": {
       "children": [
        "IPY_MODEL_11ff62dc926a4c158b7b1553ac12ae87",
        "IPY_MODEL_12bbda1262f34d4c88002971b98b312d",
        "IPY_MODEL_5a5ff54a68354521a49553f25af9cf66",
        "IPY_MODEL_5002054f06cc467088cf5b8b3ea97044",
        "IPY_MODEL_bffb4a6a4237479abf0a6c3e7bd27678"
       ],
       "layout": "IPY_MODEL_d34ec260566b4da5b9279f62a7645ca5"
      }
     }
    },
    "version_major": 2,
    "version_minor": 0
   }
  }
 },
 "nbformat": 4,
 "nbformat_minor": 5
}
