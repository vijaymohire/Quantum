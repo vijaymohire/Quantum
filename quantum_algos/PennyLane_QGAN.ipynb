{
  "cells": [
    {
      "cell_type": "markdown",
      "metadata": {
        "id": "10-zA0r3mwd6"
      },
      "source": [
        "# PennyLane QGAN\n",
        "\n",
        "In this notebook, we walk through the main features of PennyLane.\n",
        "\n",
        "First, we import `pennylane` itself, as well as a wrapped version of `numpy` which is provided via PennyLane. We don't need `numpy` yet, but it is good practice to import this from the start. The wrapped version of `numpy` can be used pretty much the exact same way as regular `numpy`, while providing additional support for computing gradients."
      ]
    },
    {
      "cell_type": "code",
      "source": [
        "!pip install pennylane"
      ],
      "metadata": {
        "colab": {
          "base_uri": "https://localhost:8080/"
        },
        "id": "4P4XUJ6ynP4w",
        "outputId": "14d5b87a-2a7d-42d4-8df3-752fc67888bc"
      },
      "execution_count": 2,
      "outputs": [
        {
          "output_type": "stream",
          "name": "stdout",
          "text": [
            "Collecting pennylane\n",
            "  Downloading PennyLane-0.38.0-py3-none-any.whl.metadata (9.3 kB)\n",
            "Requirement already satisfied: numpy<2.0 in /usr/local/lib/python3.10/dist-packages (from pennylane) (1.26.4)\n",
            "Requirement already satisfied: scipy in /usr/local/lib/python3.10/dist-packages (from pennylane) (1.13.1)\n",
            "Requirement already satisfied: networkx in /usr/local/lib/python3.10/dist-packages (from pennylane) (3.3)\n",
            "Collecting rustworkx>=0.14.0 (from pennylane)\n",
            "  Downloading rustworkx-0.15.1-cp38-abi3-manylinux_2_17_x86_64.manylinux2014_x86_64.whl.metadata (9.9 kB)\n",
            "Requirement already satisfied: autograd in /usr/local/lib/python3.10/dist-packages (from pennylane) (1.7.0)\n",
            "Requirement already satisfied: toml in /usr/local/lib/python3.10/dist-packages (from pennylane) (0.10.2)\n",
            "Collecting appdirs (from pennylane)\n",
            "  Downloading appdirs-1.4.4-py2.py3-none-any.whl.metadata (9.0 kB)\n",
            "Collecting autoray>=0.6.11 (from pennylane)\n",
            "  Downloading autoray-0.6.12-py3-none-any.whl.metadata (5.7 kB)\n",
            "Requirement already satisfied: cachetools in /usr/local/lib/python3.10/dist-packages (from pennylane) (5.5.0)\n",
            "Collecting pennylane-lightning>=0.38 (from pennylane)\n",
            "  Downloading PennyLane_Lightning-0.38.0-cp310-cp310-manylinux_2_28_x86_64.whl.metadata (26 kB)\n",
            "Requirement already satisfied: requests in /usr/local/lib/python3.10/dist-packages (from pennylane) (2.32.3)\n",
            "Requirement already satisfied: typing-extensions in /usr/local/lib/python3.10/dist-packages (from pennylane) (4.12.2)\n",
            "Requirement already satisfied: packaging in /usr/local/lib/python3.10/dist-packages (from pennylane) (24.1)\n",
            "Requirement already satisfied: charset-normalizer<4,>=2 in /usr/local/lib/python3.10/dist-packages (from requests->pennylane) (3.3.2)\n",
            "Requirement already satisfied: idna<4,>=2.5 in /usr/local/lib/python3.10/dist-packages (from requests->pennylane) (3.10)\n",
            "Requirement already satisfied: urllib3<3,>=1.21.1 in /usr/local/lib/python3.10/dist-packages (from requests->pennylane) (2.2.3)\n",
            "Requirement already satisfied: certifi>=2017.4.17 in /usr/local/lib/python3.10/dist-packages (from requests->pennylane) (2024.8.30)\n",
            "Downloading PennyLane-0.38.0-py3-none-any.whl (1.9 MB)\n",
            "\u001b[2K   \u001b[90m━━━━━━━━━━━━━━━━━━━━━━━━━━━━━━━━━━━━━━━━\u001b[0m \u001b[32m1.9/1.9 MB\u001b[0m \u001b[31m10.4 MB/s\u001b[0m eta \u001b[36m0:00:00\u001b[0m\n",
            "\u001b[?25hDownloading autoray-0.6.12-py3-none-any.whl (50 kB)\n",
            "\u001b[2K   \u001b[90m━━━━━━━━━━━━━━━━━━━━━━━━━━━━━━━━━━━━━━━━\u001b[0m \u001b[32m51.0/51.0 kB\u001b[0m \u001b[31m4.0 MB/s\u001b[0m eta \u001b[36m0:00:00\u001b[0m\n",
            "\u001b[?25hDownloading PennyLane_Lightning-0.38.0-cp310-cp310-manylinux_2_28_x86_64.whl (15.3 MB)\n",
            "\u001b[2K   \u001b[90m━━━━━━━━━━━━━━━━━━━━━━━━━━━━━━━━━━━━━━━━\u001b[0m \u001b[32m15.3/15.3 MB\u001b[0m \u001b[31m66.9 MB/s\u001b[0m eta \u001b[36m0:00:00\u001b[0m\n",
            "\u001b[?25hDownloading rustworkx-0.15.1-cp38-abi3-manylinux_2_17_x86_64.manylinux2014_x86_64.whl (2.0 MB)\n",
            "\u001b[2K   \u001b[90m━━━━━━━━━━━━━━━━━━━━━━━━━━━━━━━━━━━━━━━━\u001b[0m \u001b[32m2.0/2.0 MB\u001b[0m \u001b[31m65.7 MB/s\u001b[0m eta \u001b[36m0:00:00\u001b[0m\n",
            "\u001b[?25hDownloading appdirs-1.4.4-py2.py3-none-any.whl (9.6 kB)\n",
            "Installing collected packages: appdirs, rustworkx, autoray, pennylane-lightning, pennylane\n",
            "Successfully installed appdirs-1.4.4 autoray-0.6.12 pennylane-0.38.0 pennylane-lightning-0.38.0 rustworkx-0.15.1\n"
          ]
        }
      ]
    },
    {
      "cell_type": "code",
      "execution_count": 3,
      "metadata": {
        "id": "ylBqc8Stmwe9"
      },
      "outputs": [],
      "source": [
        "import pennylane as qml\n",
        "from pennylane import numpy as np"
      ]
    },
    {
      "cell_type": "markdown",
      "metadata": {
        "id": "fi2kMcobmwfL"
      },
      "source": [
        "We'll also need to instantiate a `device`, which indicates where we want computations to be run (e.g., on a local simulator or a remote hardware backend).\n",
        "\n",
        "For this tutorial, we'll work with the `'default.qubit'` device provided by PennyLane — a simple pure-state qubit simulator."
      ]
    },
    {
      "cell_type": "code",
      "execution_count": 4,
      "metadata": {
        "id": "Vpj9lqKGmwfk"
      },
      "outputs": [],
      "source": [
        "dev = qml.device('default.qubit', wires=2)"
      ]
    },
    {
      "cell_type": "markdown",
      "metadata": {
        "id": "3IJToSVNmwf3"
      },
      "source": [
        "For all devices, `device()` accepts the following arguments:\n",
        "\n",
        "`name`: the name of the device to be loaded\n",
        "\n",
        "`wires`: the number of subsystems to initialize the device with"
      ]
    },
    {
      "cell_type": "markdown",
      "metadata": {
        "id": "zag2bvtpmwf9"
      },
      "source": [
        "### Creating quantum circuits\n",
        "\n",
        "As a working example, let's consider the following two qubit variational circuit:\n",
        "\n",
        "1. Begin in the state $|0\\rangle\\otimes|0\\rangle$ (this is assumed by default in PennyLane)\n",
        "2. Apply local rotations about the $x-$axis to each qubit, with rotation angles $\\theta_1$ and $\\theta_2$\n",
        "3. Apply a CNOT gate\n",
        "4. Measure the Pauli-Z observable $P_z$ on the first qubit\n",
        "\n",
        "We create this circuit in PennyLane the following way:"
      ]
    },
    {
      "cell_type": "code",
      "execution_count": 7,
      "metadata": {
        "id": "y72a-325mwgJ"
      },
      "outputs": [],
      "source": [
        "from pennylane.ops import Hadamard, RX, CNOT\n",
        "\n",
        "# Declare quantum circuit\n",
        "@qml.qnode(dev)\n",
        "def circuit(theta1, theta2):\n",
        "    Hadamard(wires=1)\n",
        "    RX(theta1, wires=0)\n",
        "    RX(theta2, wires=1)\n",
        "    CNOT(wires=[0,1])\n",
        "   # return qml.expval.PauliZ(wires=0)\n",
        "    return qml.expval(qml.PauliZ(0))"
      ]
    },
    {
      "cell_type": "code",
      "execution_count": 8,
      "metadata": {
        "colab": {
          "base_uri": "https://localhost:8080/"
        },
        "id": "FpBC1MNrmwgd",
        "outputId": "04c3a431-6e17-46bb-a22b-43139bdbb090"
      },
      "outputs": [
        {
          "output_type": "stream",
          "name": "stdout",
          "text": [
            "0.9999999999999998\n",
            "0.7196111757259164\n",
            "0.9793358951304635\n",
            "0.9680202904491607\n",
            "0.9412305749973572\n",
            "0.7582377489734851\n"
          ]
        }
      ],
      "source": [
        "# We can evaluate the circuit at any value of the parameters\n",
        "print(circuit(0, 0))\n",
        "for theta1, theta2 in np.random.random((5,2)):\n",
        "    print(circuit(theta1, theta2))"
      ]
    },
    {
      "cell_type": "markdown",
      "metadata": {
        "id": "LbMgQ8pxmwh8"
      },
      "source": [
        "Let's walk through the different pieces in the circuit above.\n",
        "\n",
        "1. A quantum circuit is declared using standard Python function notation (`def fn(...)`)\n",
        "2. This function contains operators (e.g., gates) found in `pennylane.ops`, which specify the computation\n",
        "3. The function returns one or more `expval` objects, indicating measurements which are made at the end of the circuit\n",
        "4. We use the `qnode` decorator to indicate that this is not a typical Python function. This prevents the function from being run as usual by the Python interpretor. Instead, the function is evaluated on the device `dev` (which may be quantum hardware)"
      ]
    },
    {
      "cell_type": "markdown",
      "metadata": {
        "id": "4kjmyzC5mwiG"
      },
      "source": [
        "#### Notes about circuits:\n",
        "- Final measurements are considered as *expectation values* $\\langle \\cdots \\rangle$ -- i.e., averages -- not single-shot results. Expectation values are deterministic, whereas single-shot measurements are stochastic. This is what allows us to do machine learning on the circuit (Note: the same principle holds for deep learning models).\n",
        "- Since circuits are meant to be run on quantum hardware, there is limited support for classical computation *inside* the circuit function. On the other hand, classical processing of circuit inputs/outputs is fully supported"
      ]
    },
    {
      "cell_type": "code",
      "execution_count": 10,
      "metadata": {
        "colab": {
          "base_uri": "https://localhost:8080/"
        },
        "id": "DDL4FW3bmwiM",
        "outputId": "dde9f144-bd0f-46e8-e211-daa5881e9456"
      },
      "outputs": [
        {
          "output_type": "execute_result",
          "data": {
            "text/plain": [
              "<module 'pennylane.ops.qubit' from '/usr/local/lib/python3.10/dist-packages/pennylane/ops/qubit/__init__.py'>"
            ]
          },
          "metadata": {},
          "execution_count": 10
        }
      ],
      "source": [
        "# PennyLane supports a number of common gates used in variational circuits\n",
        "qml.ops.qubit"
      ]
    },
    {
      "cell_type": "code",
      "execution_count": 12,
      "metadata": {
        "colab": {
          "base_uri": "https://localhost:8080/",
          "height": 187
        },
        "id": "e6XbmYGLmwiV",
        "outputId": "d71af654-ac26-4d8a-af6e-77b52c31ef2c"
      },
      "outputs": [
        {
          "output_type": "execute_result",
          "data": {
            "text/plain": [
              "<function pennylane.measurements.expval.expval(op: Union[pennylane.operation.Operator, pennylane.measurements.mid_measure.MeasurementValue])>"
            ],
            "text/html": [
              "<div style=\"max-width:800px; border: 1px solid var(--colab-border-color);\"><style>\n",
              "      pre.function-repr-contents {\n",
              "        overflow-x: auto;\n",
              "        padding: 8px 12px;\n",
              "        max-height: 500px;\n",
              "      }\n",
              "\n",
              "      pre.function-repr-contents.function-repr-contents-collapsed {\n",
              "        cursor: pointer;\n",
              "        max-height: 100px;\n",
              "      }\n",
              "    </style>\n",
              "    <pre style=\"white-space: initial; background:\n",
              "         var(--colab-secondary-surface-color); padding: 8px 12px;\n",
              "         border-bottom: 1px solid var(--colab-border-color);\"><b>pennylane.measurements.expval.expval</b><br/>def expval(op: Union[Operator, MeasurementValue])</pre><pre class=\"function-repr-contents function-repr-contents-collapsed\" style=\"\"><a class=\"filepath\" style=\"display:none\" href=\"#\">/usr/local/lib/python3.10/dist-packages/pennylane/measurements/expval.py</a>Expectation value of the supplied observable.\n",
              "\n",
              "**Example:**\n",
              "\n",
              ".. code-block:: python3\n",
              "\n",
              "    dev = qml.device(&quot;default.qubit&quot;, wires=2)\n",
              "\n",
              "    @qml.qnode(dev)\n",
              "    def circuit(x):\n",
              "        qml.RX(x, wires=0)\n",
              "        qml.Hadamard(wires=1)\n",
              "        qml.CNOT(wires=[0, 1])\n",
              "        return qml.expval(qml.Y(0))\n",
              "\n",
              "Executing this QNode:\n",
              "\n",
              "&gt;&gt;&gt; circuit(0.5)\n",
              "-0.4794255386042029\n",
              "\n",
              "Args:\n",
              "    op (Union[Observable, MeasurementValue]): a quantum observable object. To\n",
              "        get expectation values for mid-circuit measurements, ``op`` should be\n",
              "        a ``MeasurementValue``.\n",
              "\n",
              "Returns:\n",
              "    ExpectationMP: measurement process instance</pre>\n",
              "      <script>\n",
              "      if (google.colab.kernel.accessAllowed && google.colab.files && google.colab.files.view) {\n",
              "        for (const element of document.querySelectorAll('.filepath')) {\n",
              "          element.style.display = 'block'\n",
              "          element.onclick = (event) => {\n",
              "            event.preventDefault();\n",
              "            event.stopPropagation();\n",
              "            google.colab.files.view(element.textContent, 29);\n",
              "          };\n",
              "        }\n",
              "      }\n",
              "      for (const element of document.querySelectorAll('.function-repr-contents')) {\n",
              "        element.onclick = (event) => {\n",
              "          event.preventDefault();\n",
              "          event.stopPropagation();\n",
              "          element.classList.toggle('function-repr-contents-collapsed');\n",
              "        };\n",
              "      }\n",
              "      </script>\n",
              "      </div>"
            ]
          },
          "metadata": {},
          "execution_count": 12
        }
      ],
      "source": [
        "# And several choices of measurement operators\n",
        "qml.expval"
      ]
    },
    {
      "cell_type": "markdown",
      "metadata": {
        "id": "UrYEIWrHmwia"
      },
      "source": [
        "### Gradients of quantum circuits\n",
        "\n",
        "To do quantum machine learning, we will want to use a *gradient descent* strategy. For this, we define a final objective (or cost) function $C$ which is to be optimized with respect to the free parameters $\\alpha=(\\theta_1, \\theta_2)$.\n",
        "\n",
        "In this case, we'll just use the expectation value itself as cost function, i.e., $C=\\langle P_Z \\rangle$.\n",
        "\n",
        "The core feature of PennyLane is that it performs *automatic differentiation* of quantum circuits. This means that it can automatically compute $\\nabla_\\mathbf{\\alpha}C$ without any intervention from the user.\n",
        "\n",
        "Internally, PennyLane leverages the 'parameter shift' trick for computing derivatives, i.e., it evaluates derivatives as the difference of two circuit evaluations with shifted parameters:\n",
        "\n",
        "$$C(\\theta_1, \\theta_2) = \\texttt{circuit}(\\theta_1, \\theta_2)$$\n",
        "\n",
        "$$\\partial_{\\theta_1} C = a\\big[ \\texttt{circuit}(\\theta_1+s, \\theta_2) - \\texttt{circuit}(\\theta_1 - s, \\theta_2) \\big]$$\n",
        "\n",
        "The values of the shift and scale parameters $s$ and $a$ typically depend only on the *type* of gate, and not its location, i.e., they are the same no matter where the gate appears in the circuit.\n",
        "\n",
        "By using this method, PennyLane provides a hardware-scalable way to compute gradients and to optimize quantum circuits for QML."
      ]
    },
    {
      "cell_type": "code",
      "execution_count": 13,
      "metadata": {
        "colab": {
          "base_uri": "https://localhost:8080/"
        },
        "id": "ijVOsjH2mwid",
        "outputId": "eff08e52-c489-4321-bb05-165adba52864"
      },
      "outputs": [
        {
          "output_type": "stream",
          "name": "stdout",
          "text": [
            "Value: (0.855029,0.544332); Gradient=[-0.75458969  0.        ]\n",
            "Value: (0.015560,0.106824); Gradient=[-0.01555956  0.        ]\n",
            "Value: (0.224957,0.640655); Gradient=[-2.23064494e-01 -5.55111512e-17]\n",
            "Value: (0.998239,0.603729); Gradient=[-0.84051799  0.        ]\n",
            "Value: (0.280955,0.210892); Gradient=[-0.27727356  0.        ]\n"
          ]
        }
      ],
      "source": [
        "grad_circuit = qml.grad(circuit, argnum=[0,1])\n",
        "# We can evaluate the circuit gradient at any value of the parameters\n",
        "for theta1, theta2 in np.random.random((5,2)):\n",
        "    print(\"Value: ({:3f},{:3f}); Gradient={}\".format(theta1, theta2,\n",
        "                                             np.stack(grad_circuit(theta1, theta2))))"
      ]
    },
    {
      "cell_type": "markdown",
      "metadata": {
        "id": "JCApl70dmwil"
      },
      "source": [
        "### Optimizing quantum circuits\n",
        "\n",
        "Being able to compute the gradient of a variational quantum circuit with respect to any of its parameters gives us great power. This opens up the door to using the gradient descent procedure to optimize the cost function.\n",
        "\n",
        "The gradient descent algorithm has two steps:\n",
        "\n",
        "1. Compute the gradient $\\nabla_\\alpha C$\n",
        "2. Update the parameters $\\alpha$ in proportion to this gradient, i.e.,\n",
        "$$\\alpha \\mapsto \\alpha - \\eta \\nabla_\\alpha C.$$\n",
        "\n",
        "The scaling factor $\\eta$ is known as the *learning rate*.\n",
        "\n",
        "This procedure is carried out automatically by the PennyLane `GradientDescentOptimizer` object."
      ]
    },
    {
      "cell_type": "code",
      "source": [
        "from pennylane.optimize import GradientDescentOptimizer\n",
        "\n",
        "# Set learning rate\n",
        "eta = 0.1\n",
        "opt = GradientDescentOptimizer(eta)\n",
        "\n",
        "# Initialize parameters\n",
        "init_val = np.random.random(2)  # Random values for theta1 and theta2\n",
        "num_steps = 10\n",
        "\n",
        "# Perform optimization\n",
        "params = init_val\n",
        "for step in range(num_steps):\n",
        "    params = opt.step(lambda p: circuit(p[0], p[1]), params)  # Pass both parameters\n",
        "    print(f\"Step {step + 1}, Value: {params}\")\n",
        "\n",
        "print(\"Initial value:\", init_val)\n",
        "print(\"Final value after optimization:\", params)"
      ],
      "metadata": {
        "colab": {
          "base_uri": "https://localhost:8080/"
        },
        "id": "aJn16RTpvBkU",
        "outputId": "6fa05529-3a4e-4ea9-9da1-eb999695ea1e"
      },
      "execution_count": 15,
      "outputs": [
        {
          "output_type": "stream",
          "name": "stdout",
          "text": [
            "Step 1, Value: [0.44208174 0.50858907]\n",
            "Step 2, Value: [0.48486394 0.50858907]\n",
            "Step 3, Value: [0.53147274 0.50858907]\n",
            "Step 4, Value: [0.58215308 0.50858907]\n",
            "Step 5, Value: [0.63713545 0.50858907]\n",
            "Step 6, Value: [0.69662498 0.50858907]\n",
            "Step 7, Value: [0.76078825 0.50858907]\n",
            "Step 8, Value: [0.82973751 0.50858907]\n",
            "Step 9, Value: [0.90351293 0.50858907]\n",
            "Step 10, Value: [0.9820635  0.50858907]\n",
            "Initial value: [0.40287524 0.50858907]\n",
            "Final value after optimization: [0.9820635  0.50858907]\n"
          ]
        }
      ]
    },
    {
      "cell_type": "code",
      "execution_count": 18,
      "metadata": {
        "id": "xE923DfCmwi6"
      },
      "outputs": [],
      "source": [
        "# Confirm that automatic update does what we expect\n",
        "#new_val_manual = init_val - eta * np.stack(qml.grad(circuit, argnum=[0,1])(*init_val))\n",
        "#assert np.allclose(new_val, new_val_manual)\n",
        "\n",
        "new_val = opt.step(lambda p: circuit(p[0], p[1]), init_val)\n",
        "\n",
        "# Confirm that automatic update does what we expect\n",
        "# Compute gradients with respect to both parameters\n",
        "grad_values = qml.grad(circuit, argnum=[0, 1])(*init_val)\n",
        "\n",
        "# Manually compute the new value using the learning rate and gradients\n",
        "new_val_manual = init_val - eta * np.array(grad_values)\n",
        "\n",
        "# Check that the automatic update matches the manual update\n",
        "assert np.allclose(new_val, new_val_manual), \"The manual update does not match the automatic update!\"\n",
        "\n"
      ]
    },
    {
      "cell_type": "code",
      "execution_count": 19,
      "metadata": {
        "colab": {
          "base_uri": "https://localhost:8080/"
        },
        "id": "Vo126g-Nmwi8",
        "outputId": "8e60f7b9-9a81-4fcc-dd45-943bcc9c1106"
      },
      "outputs": [
        {
          "output_type": "execute_result",
          "data": {
            "text/plain": [
              "['AdagradOptimizer',\n",
              " 'AdamOptimizer',\n",
              " 'AdaptiveOptimizer',\n",
              " 'GradientDescentOptimizer',\n",
              " 'MomentumOptimizer',\n",
              " 'NesterovMomentumOptimizer',\n",
              " 'RMSPropOptimizer',\n",
              " 'QNGOptimizer',\n",
              " 'RiemannianGradientOptimizer',\n",
              " 'RotosolveOptimizer',\n",
              " 'RotoselectOptimizer',\n",
              " 'ShotAdaptiveOptimizer',\n",
              " 'SPSAOptimizer',\n",
              " 'QNSPSAOptimizer']"
            ]
          },
          "metadata": {},
          "execution_count": 19
        }
      ],
      "source": [
        "# Note: There are a number of other optimizers in the\n",
        "# gradient descent family which are available in PennyLane\n",
        "qml.optimize.__all__"
      ]
    },
    {
      "cell_type": "markdown",
      "metadata": {
        "id": "IzZe3UD3mwjB"
      },
      "source": [
        "PennyLane allows us to string together quantum and classical computations in highly-structured ways, and the combined hybrid computation can be differentiated and trained end-to-end.\n",
        "\n",
        "This opens up the possibility of doing many interesting things. For example:\n",
        "\n",
        "- Pre-processing (or post-processing) the input (output) of a quantum circuit using a neural network. Both the classical and quantum components can have trainable weights!\n",
        "- Combining the power of several quantum circuits, either in series or in parallel. These circuits can even be running on different hardware!\n",
        "- Training a model using both GPUs and QPUs.\n",
        "\n",
        "Here is a simple example of a classical function post-processing the output of a quantum circuit:"
      ]
    },
    {
      "cell_type": "code",
      "execution_count": 20,
      "metadata": {
        "colab": {
          "base_uri": "https://localhost:8080/"
        },
        "id": "gGI58j31mwjD",
        "outputId": "97b2d57c-ba7f-4a02-84c9-5d73c834e6af"
      },
      "outputs": [
        {
          "output_type": "execute_result",
          "data": {
            "text/plain": [
              "tensor(0.7883158, requires_grad=True)"
            ]
          },
          "metadata": {},
          "execution_count": 20
        }
      ],
      "source": [
        "# Define a classical cost function which post-processes the circuit's output\n",
        "target = 0.33\n",
        "def cost(weights):\n",
        "    expval = circuit(weights[0], weights[1])\n",
        "    error = np.abs(expval - target) ** 2 + weights[2] ** 2\n",
        "    return error\n",
        "\n",
        "# Evaluate cost at a random starting point\n",
        "weights = np.random.random(3)\n",
        "cost(weights)\n"
      ]
    },
    {
      "cell_type": "code",
      "execution_count": 21,
      "metadata": {
        "scrolled": true,
        "colab": {
          "base_uri": "https://localhost:8080/"
        },
        "id": "IY3In_ibmwjI",
        "outputId": "4a15bd71-606e-4326-a8e8-870b4640d802"
      },
      "outputs": [
        {
          "output_type": "stream",
          "name": "stdout",
          "text": [
            "Step 0: Cost=0.6092365601949201\n",
            "Step 10: Cost=0.061263928260112926\n",
            "Step 20: Cost=0.0018967166564416436\n",
            "Step 30: Cost=3.966835525222087e-05\n",
            "Step 40: Cost=7.863795838258335e-07\n",
            "Step 50: Cost=1.5494380150925967e-08\n",
            "Step 60: Cost=3.0528172026255464e-10\n",
            "Step 70: Cost=6.017757137784075e-12\n",
            "Step 80: Cost=1.1866435447086984e-13\n",
            "Step 90: Cost=2.3404478583473076e-15\n"
          ]
        }
      ],
      "source": [
        "# Implement gradient descent over 100 steps\n",
        "for step in range(100):\n",
        "    weights = opt.step(cost, weights)\n",
        "    if step % 10 == 0:\n",
        "        print(\"Step {}: Cost={}\".format(step, cost(weights)))"
      ]
    },
    {
      "cell_type": "code",
      "execution_count": 22,
      "metadata": {
        "id": "uXopV7bvmwjP"
      },
      "outputs": [],
      "source": [
        "# Confirm we are near the optimum\n",
        "# (some random initial values may take more steps to reach)\n",
        "assert np.allclose(circuit(weights[0], weights[1]), target)"
      ]
    },
    {
      "cell_type": "markdown",
      "metadata": {
        "id": "HkCV2hRLmwjS"
      },
      "source": [
        "## Example: Quantum Generative Adversarial Networks (QGANs)\n",
        "\n",
        "A QGAN is the quantum version of a *Generative Adversarial Network*. These are a particular kind of deep learning model used to generate real-looking synthetic data (such as images).\n",
        "\n",
        "![GAN images](biggan.png)"
      ]
    },
    {
      "cell_type": "markdown",
      "metadata": {
        "id": "-jjzwwYbmwjV"
      },
      "source": [
        "### GANs\n",
        "GANs have a unique structure, consisting of two models:\n",
        "\n",
        "- the **generator**: its goal is to produce realistic-looking data samples\n",
        "- the **discriminator**: its goal is distinguish fake data produced by the discriminator from real data\n",
        "\n",
        "Training of GANs proceeds as follows:\n",
        "\n",
        "1. \"Real\" data is captured in some *training dataset*.\n",
        "\n",
        "2. The generator produces \"fake\" data by starting with a random input vector and transforming it into an output.\n",
        "\n",
        "3. The discriminator is fed samples of both real and fake data and must decide which label to assign ('real' or 'fake').\n",
        "\n",
        "4. Training consists of alternating steps: (i) the generator is frozen and the discriminator is trained to distinguish real from fake. (ii) the discriminator is frozen and the generator is trained to fool the discriminator. The gradient of the discriminator's output provides a training signal for the generator to improve its fake generated data.\n",
        "\n",
        "5. Eventually, this training method should converge to a stage where the generator is producing realistic data and the discriminator can't tell real from fake.\n",
        "\n",
        "**Note:** Training is done via the *gradient descent* algorithm, updating only the weights associated to the generator (or vice versa) at each step. There is no internal structure imposed on the generator or discriminator models except that they are differentiable.\n",
        "\n",
        "\n",
        "![GAN structure](gan.png)"
      ]
    },
    {
      "cell_type": "markdown",
      "metadata": {
        "id": "eIFq9EW8mwkD"
      },
      "source": [
        " ### Quantum GANs\n",
        "\n",
        "This demo walks through how to build and train a simple Quantum Generative Adversarial Network (QGAN) using PennyLane.\n",
        "\n",
        "References:\n",
        "- [Lloyd and Weedbrook (2018)](https://journals.aps.org/prl/abstract/10.1103/PhysRevLett.121.040502)\n",
        "- [Dallaire-Demers and Killoran (2018)](https://journals.aps.org/pra/abstract/10.1103/PhysRevA.98.012324))\n",
        "\n",
        "Like classical GANs, QGANs consist of a generator and a discriminator. *QGANs use variational quantum circuits for both generator and discriminator.*"
      ]
    },
    {
      "cell_type": "code",
      "execution_count": 23,
      "metadata": {
        "id": "c_QH9DTMmwkF"
      },
      "outputs": [],
      "source": [
        "# instantiate a device for the QGAN example\n",
        "gan_dev = qml.device('default.qubit', wires=3)"
      ]
    },
    {
      "cell_type": "markdown",
      "metadata": {
        "id": "_JSnqUzBmwkI"
      },
      "source": [
        "In classical GANs, the starting point is to draw samples either from some \"real data\" distribution, or from the generator, and feed them to the discriminator. In this QGAN example, we will use a quantum circuit to generate the real data.\n",
        "\n",
        "**Note:** One of the areas where QGANs can provide a clear advantage is in modelling *quanum data*, i.e., data that is created by quantum systems. Quantum data distributions should be hard for classical models to emulate efficiently.\n",
        "\n",
        "For this simple example, our real data will be a qubit that has been rotated (from the starting state $\\left|0\\right\\rangle$) to some arbitrary, but fixed, state."
      ]
    },
    {
      "cell_type": "code",
      "execution_count": 24,
      "metadata": {
        "id": "5W7N4JpdmwkL"
      },
      "outputs": [],
      "source": [
        "def real(phi, theta, omega):\n",
        "    qml.Rot(phi, theta, omega, wires=0)"
      ]
    },
    {
      "cell_type": "markdown",
      "metadata": {
        "id": "UvB0M0bOmwkN"
      },
      "source": [
        "For the generator and discriminator, we will choose the same basic circuit structure, but acting on different wires.\n",
        "\n",
        "Both the real data circuit and the generator will output on wire 0, which will be connected as an input to the discriminator. Wire 1 is provided as a workspace for the generator, while the discriminator's output will be on wire 2."
      ]
    },
    {
      "cell_type": "code",
      "execution_count": 25,
      "metadata": {
        "id": "84aE2fNemwkQ"
      },
      "outputs": [],
      "source": [
        "# Note: the structure of these circuits is more-or-less chosen arbitrarily. There is\n",
        "# nothing particular about these choices of generator or discriminator\n",
        "\n",
        "def generator(w):\n",
        "    qml.RX(w[0], wires=0)\n",
        "    qml.RX(w[1], wires=1)\n",
        "    qml.RY(w[2], wires=0)\n",
        "    qml.RY(w[3], wires=1)\n",
        "    qml.RZ(w[4], wires=0)\n",
        "    qml.RZ(w[5], wires=1)\n",
        "    qml.CNOT(wires=[0,1])\n",
        "    qml.RX(w[6], wires=0)\n",
        "    qml.RY(w[7], wires=0)\n",
        "    qml.RZ(w[8], wires=0)\n",
        "\n",
        "def discriminator(w):\n",
        "    qml.RX(w[0], wires=0)\n",
        "    qml.RX(w[1], wires=2)\n",
        "    qml.RY(w[2], wires=0)\n",
        "    qml.RY(w[3], wires=2)\n",
        "    qml.RZ(w[4], wires=0)\n",
        "    qml.RZ(w[5], wires=2)\n",
        "    qml.CNOT(wires=[1,2])\n",
        "    qml.RX(w[6], wires=2)\n",
        "    qml.RY(w[7], wires=2)\n",
        "    qml.RZ(w[8], wires=2)"
      ]
    },
    {
      "cell_type": "markdown",
      "metadata": {
        "id": "oaRD8mMHmwkU"
      },
      "source": [
        "We create two QNodes. One where the real data source is wired up to the discriminator, and one where the generator is connected to the discriminator. They can both be run on the same device."
      ]
    },
    {
      "cell_type": "code",
      "source": [
        "#import numpy as np\n",
        "#import pennylane as qml\n",
        "import pennylane.numpy as pnp\n",
        "#from pennylane.optimize import GradientDescentOptimizer\n",
        "\n",
        "# Define your quantum device\n",
        "gan_dev = qml.device('default.qubit', wires=3)  # Adjust the number of wires if needed\n",
        "\n",
        "# Example implementations for real, generator, and discriminator\n",
        "@qml.qnode(gan_dev)\n",
        "def real_disc_circuit(phi, theta, omega, disc_weights):\n",
        "    real(phi, theta, omega)  # Your implementation for the real state\n",
        "    discriminator(disc_weights)  # Your implementation for the discriminator\n",
        "    return qml.expval(qml.PauliZ(2))  # Measure PauliZ on wire 2\n",
        "\n",
        "@qml.qnode(gan_dev)\n",
        "def gen_disc_circuit(gen_weights, disc_weights):\n",
        "    generator(gen_weights)  # Your implementation for the generator\n",
        "    discriminator(disc_weights)  # Your implementation for the discriminator\n",
        "    return qml.expval(qml.PauliZ(2))  # Measure PauliZ on wire 2\n",
        "\n",
        "# Cost functions as provided\n",
        "def prob_real_true(disc_weights):\n",
        "    true_disc_output = real_disc_circuit(phi, theta, omega, disc_weights)\n",
        "    prob_real_true = (true_disc_output + 1) / 2\n",
        "    return prob_real_true\n",
        "\n",
        "def prob_fake_true(gen_weights, disc_weights):\n",
        "    fake_disc_output = gen_disc_circuit(gen_weights, disc_weights)\n",
        "    prob_fake_true = (fake_disc_output + 1) / 2\n",
        "    return prob_fake_true  # generator wants to minimize this prob\n",
        "\n",
        "def disc_cost(disc_weights):\n",
        "    cost = prob_fake_true(gen_weights, disc_weights) - prob_real_true(disc_weights)\n",
        "    return cost\n",
        "\n",
        "def gen_cost(gen_weights):\n",
        "    return -prob_fake_true(gen_weights, disc_weights)\n",
        "\n",
        "# Initialize parameters\n",
        "phi = np.pi / 6\n",
        "theta = np.pi / 2\n",
        "omega = np.pi / 7\n",
        "\n",
        "np.random.seed(0)\n",
        "eps = 1e-2\n",
        "\n",
        "# Create generator weights as trainable parameters\n",
        "gen_weights = pnp.array([np.pi] + [0] * 8, requires_grad=True) + pnp.random.normal(scale=eps, size=[9])\n",
        "\n",
        "# Create discriminator weights as trainable parameters\n",
        "disc_weights = pnp.random.normal(size=[9], requires_grad=True)\n",
        "\n",
        "# Create an optimizer\n",
        "opt = GradientDescentOptimizer(0.1)\n",
        "\n",
        "# Optimization loop for the discriminator\n",
        "for it in range(50):\n",
        "    disc_weights = opt.step(disc_cost, disc_weights)\n",
        "    cost = disc_cost(disc_weights)\n",
        "    if it % 5 == 0:\n",
        "        print(\"Discriminator Step {}: cost = {}\".format(it + 1, cost))\n",
        "\n",
        "# Optimization loop for the generator\n",
        "for it in range(50):\n",
        "    gen_weights = opt.step(gen_cost, gen_weights)\n",
        "    cost = gen_cost(gen_weights)\n",
        "    if it % 5 == 0:\n",
        "        print(\"Generator Step {}: cost = {}\".format(it + 1, cost))\n"
      ],
      "metadata": {
        "colab": {
          "base_uri": "https://localhost:8080/"
        },
        "id": "ZeCPOUFS25W8",
        "outputId": "dc08c4c1-9717-412a-8d81-3a0d199a4d8e"
      },
      "execution_count": 35,
      "outputs": [
        {
          "output_type": "stream",
          "name": "stdout",
          "text": [
            "Discriminator Step 1: cost = -0.10942017805789106\n",
            "Discriminator Step 6: cost = -0.38998842264903105\n",
            "Discriminator Step 11: cost = -0.6660191175815624\n",
            "Discriminator Step 16: cost = -0.8550839212078469\n",
            "Discriminator Step 21: cost = -0.9454459581664484\n",
            "Discriminator Step 26: cost = -0.9805878247866401\n",
            "Discriminator Step 31: cost = -0.9931371328342748\n",
            "Discriminator Step 36: cost = -0.9974896764916589\n",
            "Discriminator Step 41: cost = -0.998986350663071\n",
            "Discriminator Step 46: cost = -0.9995000463932009\n",
            "Generator Step 1: cost = -0.00026646913829925234\n",
            "Generator Step 6: cost = -0.00042662008589333666\n",
            "Generator Step 11: cost = -0.0006872486146980994\n",
            "Generator Step 16: cost = -0.0011111626380133077\n",
            "Generator Step 21: cost = -0.0018000510248328827\n",
            "Generator Step 26: cost = -0.0029179304125442895\n",
            "Generator Step 31: cost = -0.004727717539773746\n",
            "Generator Step 36: cost = -0.00764662888103157\n",
            "Generator Step 41: cost = -0.012325866735736213\n",
            "Generator Step 46: cost = -0.019754518934527177\n"
          ]
        }
      ]
    },
    {
      "cell_type": "markdown",
      "metadata": {
        "id": "XS5RPogamwkf"
      },
      "source": [
        "##### Cost function\n",
        "\n",
        "There are two ingredients to the cost here.\n",
        "- The first is the probability that the discriminator correctly classifies real data as real.\n",
        "- The second ingredient is the probability that the discriminator classifies fake data (i.e., a state prepared by the generator) as real.\n",
        "\n",
        "The discriminator's objective is to maximize the probability of correctly classifying real data, while minimizing the probability of mistakenly classifying fake data.\n",
        "\n",
        "The generator's objective is to maximize the probability that the discriminator accepts fake data as real."
      ]
    },
    {
      "cell_type": "markdown",
      "metadata": {
        "id": "NeenURxBmwkl"
      },
      "source": [
        "##### Optimization\n",
        "We initialize the fixed angles of the \"real data\" circuit, as well as the initial parameters for both generator and discriminator. These are chosen so that the generator initially prepares a state on wire 0 that is very close to the $\\left| 1 \\right\\rangle$ state."
      ]
    },
    {
      "cell_type": "markdown",
      "metadata": {
        "id": "_TnosRuwmwlX"
      },
      "source": [
        "In the first stage of training, we optimize the discriminator while keeping the generator parameters fixed."
      ]
    },
    {
      "cell_type": "markdown",
      "metadata": {
        "id": "chMVO2cjmwlf"
      },
      "source": [
        "At the discriminator's optimum, the probability for the discriminator to correctly classify the real data should be close to one."
      ]
    },
    {
      "cell_type": "code",
      "execution_count": 36,
      "metadata": {
        "colab": {
          "base_uri": "https://localhost:8080/"
        },
        "id": "Llb5C8abmwlo",
        "outputId": "fd4d096d-1427-49d9-c66f-b488226f0784"
      },
      "outputs": [
        {
          "output_type": "execute_result",
          "data": {
            "text/plain": [
              "tensor(0.9998972, requires_grad=True)"
            ]
          },
          "metadata": {},
          "execution_count": 36
        }
      ],
      "source": [
        "prob_real_true(disc_weights)"
      ]
    },
    {
      "cell_type": "markdown",
      "metadata": {
        "id": "gKKvcYMBmwlt"
      },
      "source": [
        "For comparison, we check how the discriminator classifies the generator's (still unoptimized) fake data:"
      ]
    },
    {
      "cell_type": "code",
      "execution_count": 37,
      "metadata": {
        "colab": {
          "base_uri": "https://localhost:8080/"
        },
        "id": "lrInVDHkmwlv",
        "outputId": "d1f51b56-0bb9-47a2-c93b-7052b8f53586"
      },
      "outputs": [
        {
          "output_type": "execute_result",
          "data": {
            "text/plain": [
              "tensor(0.02862489, requires_grad=True)"
            ]
          },
          "metadata": {},
          "execution_count": 37
        }
      ],
      "source": [
        "prob_fake_true(gen_weights, disc_weights)"
      ]
    },
    {
      "cell_type": "markdown",
      "metadata": {
        "id": "y_rZua2tmwlz"
      },
      "source": [
        "In the adverserial training method, we have to now train the generator to better fool the discriminator\n",
        "\n",
        "In more complex settings, we can continue training the models in an alternating fashion until we reach the optimum point of the two-player adversarial game."
      ]
    },
    {
      "cell_type": "code",
      "execution_count": 38,
      "metadata": {
        "scrolled": true,
        "colab": {
          "base_uri": "https://localhost:8080/"
        },
        "id": "cKNmTvCJmwl3",
        "outputId": "b609c0ca-b11f-4b1a-9ffc-604df9292486"
      },
      "outputs": [
        {
          "output_type": "stream",
          "name": "stdout",
          "text": [
            "Step 0: cost = 0.03136834673567196\n",
            "Step 5: cost = 0.04909734599307841\n",
            "Step 10: cost = 0.07520378135265493\n",
            "Step 15: cost = 0.11169015288702189\n",
            "Step 20: cost = 0.15917286333741015\n",
            "Step 25: cost = 0.21566031343947323\n",
            "Step 30: cost = 0.2763735721045274\n",
            "Step 35: cost = 0.3354169186527468\n",
            "Step 40: cost = 0.3883501266928636\n",
            "Step 45: cost = 0.43371772120148633\n",
            "Step 50: cost = 0.4728490188392828\n",
            "Step 55: cost = 0.5087778323625844\n",
            "Step 60: cost = 0.5451977336157676\n",
            "Step 65: cost = 0.5856632916397905\n",
            "Step 70: cost = 0.6327897835085232\n",
            "Step 75: cost = 0.6872469221106644\n",
            "Step 80: cost = 0.7468453348018459\n",
            "Step 85: cost = 0.8066413637587676\n",
            "Step 90: cost = 0.8607353038575852\n",
            "Step 95: cost = 0.9048413990478853\n",
            "Step 100: cost = 0.937668744186236\n",
            "Step 105: cost = 0.9604104860258096\n",
            "Step 110: cost = 0.975371147847834\n",
            "Step 115: cost = 0.9848746701785991\n",
            "Step 120: cost = 0.9907765008479255\n",
            "Step 125: cost = 0.994389853595337\n",
            "Step 130: cost = 0.9965827747752587\n",
            "Step 135: cost = 0.9979065439048094\n",
            "Step 140: cost = 0.9987030608439529\n",
            "Step 145: cost = 0.9991813935606382\n",
            "Step 150: cost = 0.9994683100927392\n",
            "Step 155: cost = 0.9996402890104499\n",
            "Step 160: cost = 0.9997433303406777\n",
            "Step 165: cost = 0.999805052029022\n",
            "Step 170: cost = 0.9998420176747196\n",
            "Step 175: cost = 0.9998641547050424\n",
            "Step 180: cost = 0.9998774108366058\n",
            "Step 185: cost = 0.999885348635803\n",
            "Step 190: cost = 0.9998901017138099\n",
            "Step 195: cost = 0.9998929477780878\n"
          ]
        }
      ],
      "source": [
        "for it in range(200):\n",
        "    gen_weights = opt.step(gen_cost, gen_weights)\n",
        "    cost = -gen_cost(gen_weights)\n",
        "    if it % 5 == 0:\n",
        "        print(\"Step {}: cost = {}\".format(it, cost))"
      ]
    },
    {
      "cell_type": "markdown",
      "metadata": {
        "id": "cVGUU0Fcmwmu"
      },
      "source": [
        "At the optimum of the generator, the probability for the discriminator to be fooled should be close to 1."
      ]
    },
    {
      "cell_type": "code",
      "execution_count": 39,
      "metadata": {
        "colab": {
          "base_uri": "https://localhost:8080/"
        },
        "id": "w7fae8AQmwmw",
        "outputId": "c52beb60-4868-4f64-b964-25c26c8482df"
      },
      "outputs": [
        {
          "output_type": "execute_result",
          "data": {
            "text/plain": [
              "tensor(0.9998972, requires_grad=True)"
            ]
          },
          "metadata": {},
          "execution_count": 39
        }
      ],
      "source": [
        "prob_real_true(disc_weights)"
      ]
    },
    {
      "cell_type": "code",
      "execution_count": 40,
      "metadata": {
        "colab": {
          "base_uri": "https://localhost:8080/"
        },
        "id": "Ph66P1OEmwm0",
        "outputId": "fc7d4e08-ae30-4ab9-98f7-bf6974fcb8cc"
      },
      "outputs": [
        {
          "output_type": "execute_result",
          "data": {
            "text/plain": [
              "tensor(0.99989438, requires_grad=True)"
            ]
          },
          "metadata": {},
          "execution_count": 40
        }
      ],
      "source": [
        "prob_fake_true(gen_weights, disc_weights)"
      ]
    },
    {
      "cell_type": "markdown",
      "metadata": {
        "id": "lwNNONngmwm4"
      },
      "source": [
        "At the joint optimum the overall cost will be close to zero."
      ]
    },
    {
      "cell_type": "code",
      "execution_count": 41,
      "metadata": {
        "colab": {
          "base_uri": "https://localhost:8080/"
        },
        "id": "XoKWDCdKmwm8",
        "outputId": "8fb7aa78-baa7-46dd-93d5-b818bc8911b1"
      },
      "outputs": [
        {
          "output_type": "execute_result",
          "data": {
            "text/plain": [
              "tensor(-2.81796094e-06, requires_grad=True)"
            ]
          },
          "metadata": {},
          "execution_count": 41
        }
      ],
      "source": [
        "disc_cost(disc_weights)"
      ]
    },
    {
      "cell_type": "markdown",
      "metadata": {
        "id": "vfYZRhf2mwnB"
      },
      "source": [
        "The generator has successfully learned how to simulate the real data enough to fool the discriminator!"
      ]
    }
  ],
  "metadata": {
    "kernelspec": {
      "display_name": "Python 3",
      "language": "python",
      "name": "python3"
    },
    "language_info": {
      "codemirror_mode": {
        "name": "ipython",
        "version": 3
      },
      "file_extension": ".py",
      "mimetype": "text/x-python",
      "name": "python",
      "nbconvert_exporter": "python",
      "pygments_lexer": "ipython3",
      "version": "3.7.2"
    },
    "colab": {
      "provenance": []
    }
  },
  "nbformat": 4,
  "nbformat_minor": 0
}