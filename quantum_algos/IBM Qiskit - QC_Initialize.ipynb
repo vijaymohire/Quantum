{
 "cells": [
  {
   "cell_type": "code",
   "execution_count": 1,
   "id": "167efde3-65f9-45dc-9d9d-e4b712b8aa46",
   "metadata": {
    "tags": []
   },
   "outputs": [],
   "source": [
    "# Importing standard Qiskit libraries\n",
    "from qiskit import QuantumCircuit, transpile , QuantumRegister\n",
    "from qiskit.tools.jupyter import *\n",
    "from qiskit.visualization import *\n",
    "from ibm_quantum_widgets import *\n",
    "from qiskit_aer import AerSimulator\n",
    "\n",
    "# qiskit-ibmq-provider has been deprecated.\n",
    "# Please see the Migration Guides in https://ibm.biz/provider_migration_guide for more detail.\n",
    "from qiskit_ibm_runtime import QiskitRuntimeService, Sampler, Estimator, Session, Options\n",
    "\n",
    "# Loading your IBM Quantum account(s)\n",
    "service = QiskitRuntimeService(channel=\"ibm_quantum\")\n",
    "\n",
    "# Invoke a primitive inside a session. For more details see https://qiskit.org/documentation/partners/qiskit_ibm_runtime/tutorials.html\n",
    "# with Session(backend=service.backend(\"ibmq_qasm_simulator\")):\n",
    "#     result = Sampler().run(circuits).result()"
   ]
  },
  {
   "cell_type": "code",
   "execution_count": 4,
   "id": "f2606150-4137-4c90-9469-0aa064530c75",
   "metadata": {
    "tags": []
   },
   "outputs": [
    {
     "name": "stdout",
     "output_type": "stream",
     "text": [
      "     ┌─────────────────────────┐\n",
      "  q: ┤ Initialize(0.5,0.86603) ├\n",
      "     └─────────────────────────┘\n",
      "c: 1/═══════════════════════════\n",
      "                                \n",
      "          ┌───────────────────────┐\n",
      "  q: ─|0>─┤ multiplex1_reverse_dg ├\n",
      "          └───────────────────────┘\n",
      "c: 1/══════════════════════════════\n",
      "                                   \n"
     ]
    }
   ],
   "source": [
    "from qiskit import QuantumCircuit, IBMQ\n",
    "import numpy as np\n",
    "num_qubits = 1\n",
    "vector = [0.5,0.8660254]\n",
    "#vector = [0,0] - error\n",
    "initial_state = vector/np.linalg.norm(vector)\n",
    "circuit = QuantumCircuit(num_qubits,num_qubits)\n",
    "circuit.initialize(initial_state, 0)  \n",
    "print(circuit)\n",
    "qasm_circuit = circuit.decompose().decompose().decompose() \n",
    "print(qasm_circuit)"
   ]
  },
  {
   "cell_type": "code",
   "execution_count": 6,
   "id": "a0449b1a-0eee-4db5-9d09-df27a5e9670d",
   "metadata": {
    "tags": []
   },
   "outputs": [
    {
     "data": {
      "image/png": "[encoded data removed]",
      "text/plain": [
       "<Figure size 203.683x200.667 with 1 Axes>"
      ]
     },
     "execution_count": 6,
     "metadata": {},
     "output_type": "execute_result"
    }
   ],
   "source": [
    "import numpy as np\n",
    "from qiskit import QuantumCircuit\n",
    "\n",
    "circuit1 = QuantumCircuit(2)\n",
    "circuit1.initialize('01', circuit1.qubits)\n",
    "circuit1.draw()\n"
   ]
  },
  {
   "cell_type": "code",
   "execution_count": 13,
   "id": "45068c96-d1d8-423a-8c16-4e50c007dca1",
   "metadata": {
    "tags": []
   },
   "outputs": [
    {
     "data": {
      "image/png": "[encoded data removed]",
      "text/plain": [
       "<Figure size 222.116x284.278 with 1 Axes>"
      ]
     },
     "execution_count": 13,
     "metadata": {},
     "output_type": "execute_result"
    }
   ],
   "source": [
    "from qiskit import QuantumCircuit, transpile , QuantumRegister,ClassicalRegister\n",
    "qr1 = QuantumRegister(2)\n",
    "mea = ClassicalRegister(2) \n",
    "circuit2 = QuantumCircuit(qr1,mea) \n",
    "initial=[[1,0],[0,1]]\n",
    "\n",
    "circuit2.initialize(initial[1], 0)\n",
    "circuit2.initialize(initial[1], 1)\n",
    "\n",
    "circuit2.draw()\n"
   ]
  },
  {
   "cell_type": "code",
   "execution_count": null,
   "id": "80d1470e-da24-4280-9964-78652b52c4a5",
   "metadata": {},
   "outputs": [],
   "source": []
  }
 ],
 "metadata": {
  "kernelspec": {
   "display_name": "Python 3 (ipykernel)",
   "language": "python",
   "name": "python3"
  },
  "language_info": {
   "codemirror_mode": {
    "name": "ipython",
    "version": 3
   },
   "file_extension": ".py",
   "mimetype": "text/x-python",
   "name": "python",
   "nbconvert_exporter": "python",
   "pygments_lexer": "ipython3",
   "version": "3.10.8"
  },
  "widgets": {
   "application/vnd.jupyter.widget-state+json": {
    "state": {
     "05a7a79bed3a406797487cf59ec0fef0": {
      "model_module": "@jupyter-widgets/controls",
      "model_module_version": "2.0.0",
      "model_name": "ButtonStyleModel",
      "state": {
       "font_family": null,
       "font_size": null,
       "font_style": null,
       "font_variant": null,
       "font_weight": null,
       "text_color": null,
       "text_decoration": null
      }
     },
     "0eb782c2c4b246adb876c2a057028d7a": {
      "model_module": "@jupyter-widgets/base",
      "model_module_version": "2.0.0",
      "model_name": "LayoutModel",
      "state": {
       "grid_area": "right",
       "padding": "0px 0px 0px 0px",
       "width": "70px"
      }
     },
     "151b7138124148ddbd44091ab435c174": {
      "model_module": "@jupyter-widgets/controls",
      "model_module_version": "2.0.0",
      "model_name": "HBoxModel",
      "state": {
       "children": [
        "IPY_MODEL_49f7c399050241c7a338c8c81e1f05d4",
        "IPY_MODEL_db3011ffbdec404da696478cc39c7fec",
        "IPY_MODEL_c2f92837be9e40a8ad869cf85d1889f6",
        "IPY_MODEL_9761fe9df251424bb233e1eab66e1570",
        "IPY_MODEL_b66c1e81dce540e3a95fd239308d0f2b"
       ],
       "layout": "IPY_MODEL_d0af6033f40649b5b14833bc648caae8"
      }
     },
     "24a45ae89e7943d9895b70e3c3cfb956": {
      "model_module": "@jupyter-widgets/base",
      "model_module_version": "2.0.0",
      "model_name": "LayoutModel",
      "state": {
       "grid_template_areas": "\n                                       \". . . . right \"\n                                        ",
       "grid_template_columns": "20% 20% 20% 20% 20%",
       "width": "100%"
      }
     },
     "258f13e72eb2433b8b55e23a7dfdcb91": {
      "model_module": "@jupyter-widgets/controls",
      "model_module_version": "2.0.0",
      "model_name": "HTMLStyleModel",
      "state": {
       "description_width": "",
       "font_size": null,
       "text_color": null
      }
     },
     "29e03c629d5c4e19ade770562df181d9": {
      "model_module": "@jupyter-widgets/base",
      "model_module_version": "2.0.0",
      "model_name": "LayoutModel",
      "state": {
       "width": "95px"
      }
     },
     "3ed68e7f81c04b35ac207ae0446d7b1b": {
      "model_module": "@jupyter-widgets/controls",
      "model_module_version": "2.0.0",
      "model_name": "HTMLStyleModel",
      "state": {
       "description_width": "",
       "font_size": null,
       "text_color": null
      }
     },
     "49f7c399050241c7a338c8c81e1f05d4": {
      "model_module": "@jupyter-widgets/controls",
      "model_module_version": "2.0.0",
      "model_name": "HTMLModel",
      "state": {
       "layout": "IPY_MODEL_85201157bafa410bbeeb76450721abad",
       "style": "IPY_MODEL_5a8ab2f210a44185a0434aa7ee954246",
       "value": "<h5>Job ID</h5>"
      }
     },
     "4f227c68c5c1431f953dc545674f2903": {
      "model_module": "@jupyter-widgets/controls",
      "model_module_version": "2.0.0",
      "model_name": "HTMLStyleModel",
      "state": {
       "description_width": "",
       "font_size": null,
       "text_color": null
      }
     },
     "5897d816e3ec438ab8c896b4dbd73880": {
      "model_module": "@jupyter-widgets/base",
      "model_module_version": "2.0.0",
      "model_name": "LayoutModel",
      "state": {
       "margin": "0px 0px 10px 0px"
      }
     },
     "5a8ab2f210a44185a0434aa7ee954246": {
      "model_module": "@jupyter-widgets/controls",
      "model_module_version": "2.0.0",
      "model_name": "HTMLStyleModel",
      "state": {
       "description_width": "",
       "font_size": null,
       "text_color": null
      }
     },
     "5cce4f1b383d4476a0037cf2b989509c": {
      "model_module": "@jupyter-widgets/controls",
      "model_module_version": "2.0.0",
      "model_name": "ButtonModel",
      "state": {
       "button_style": "primary",
       "description": "Clear",
       "layout": "IPY_MODEL_0eb782c2c4b246adb876c2a057028d7a",
       "style": "IPY_MODEL_05a7a79bed3a406797487cf59ec0fef0",
       "tooltip": null
      }
     },
     "6ba4a7c7ee7046c8b60b446a4f3496a8": {
      "model_module": "@jupyter-widgets/controls",
      "model_module_version": "2.0.0",
      "model_name": "HTMLStyleModel",
      "state": {
       "description_width": "",
       "font_size": null,
       "text_color": null
      }
     },
     "82670325a2c54aa5b0ce7a63807066d1": {
      "model_module": "@jupyter-widgets/base",
      "model_module_version": "2.0.0",
      "model_name": "LayoutModel",
      "state": {
       "width": "70px"
      }
     },
     "85201157bafa410bbeeb76450721abad": {
      "model_module": "@jupyter-widgets/base",
      "model_module_version": "2.0.0",
      "model_name": "LayoutModel",
      "state": {
       "width": "190px"
      }
     },
     "8db8ef7770154b92ab5f38d098dabae4": {
      "model_module": "@jupyter-widgets/base",
      "model_module_version": "2.0.0",
      "model_name": "LayoutModel",
      "state": {}
     },
     "9761fe9df251424bb233e1eab66e1570": {
      "model_module": "@jupyter-widgets/controls",
      "model_module_version": "2.0.0",
      "model_name": "HTMLModel",
      "state": {
       "layout": "IPY_MODEL_82670325a2c54aa5b0ce7a63807066d1",
       "style": "IPY_MODEL_6ba4a7c7ee7046c8b60b446a4f3496a8",
       "value": "<h5>Queue</h5>"
      }
     },
     "b66c1e81dce540e3a95fd239308d0f2b": {
      "model_module": "@jupyter-widgets/controls",
      "model_module_version": "2.0.0",
      "model_name": "HTMLModel",
      "state": {
       "layout": "IPY_MODEL_8db8ef7770154b92ab5f38d098dabae4",
       "style": "IPY_MODEL_258f13e72eb2433b8b55e23a7dfdcb91",
       "value": "<h5>Message</h5>"
      }
     },
     "b9b412541fa844e2bbd21b99a780d521": {
      "model_module": "@jupyter-widgets/controls",
      "model_module_version": "2.0.0",
      "model_name": "HTMLModel",
      "state": {
       "layout": "IPY_MODEL_5897d816e3ec438ab8c896b4dbd73880",
       "style": "IPY_MODEL_4f227c68c5c1431f953dc545674f2903",
       "value": "<p style='font-family: IBM Plex Sans, Arial, Helvetica, sans-serif; font-size: 20px; font-weight: medium;'>Circuit Properties</p>"
      }
     },
     "c2f92837be9e40a8ad869cf85d1889f6": {
      "model_module": "@jupyter-widgets/controls",
      "model_module_version": "2.0.0",
      "model_name": "HTMLModel",
      "state": {
       "layout": "IPY_MODEL_29e03c629d5c4e19ade770562df181d9",
       "style": "IPY_MODEL_c8a33039f1814bf09facf65534035b7b",
       "value": "<h5>Status</h5>"
      }
     },
     "c8a33039f1814bf09facf65534035b7b": {
      "model_module": "@jupyter-widgets/controls",
      "model_module_version": "2.0.0",
      "model_name": "HTMLStyleModel",
      "state": {
       "description_width": "",
       "font_size": null,
       "text_color": null
      }
     },
     "cf101be6e4f04c30ab451a0fc044df16": {
      "model_module": "@jupyter-widgets/base",
      "model_module_version": "2.0.0",
      "model_name": "LayoutModel",
      "state": {
       "width": "145px"
      }
     },
     "d0af6033f40649b5b14833bc648caae8": {
      "model_module": "@jupyter-widgets/base",
      "model_module_version": "2.0.0",
      "model_name": "LayoutModel",
      "state": {
       "margin": "0px 0px 0px 37px",
       "width": "600px"
      }
     },
     "db3011ffbdec404da696478cc39c7fec": {
      "model_module": "@jupyter-widgets/controls",
      "model_module_version": "2.0.0",
      "model_name": "HTMLModel",
      "state": {
       "layout": "IPY_MODEL_cf101be6e4f04c30ab451a0fc044df16",
       "style": "IPY_MODEL_3ed68e7f81c04b35ac207ae0446d7b1b",
       "value": "<h5>Backend</h5>"
      }
     },
     "f74148f4dcdd48258ae49bccedcfdec9": {
      "model_module": "@jupyter-widgets/controls",
      "model_module_version": "2.0.0",
      "model_name": "GridBoxModel",
      "state": {
       "children": [
        "IPY_MODEL_5cce4f1b383d4476a0037cf2b989509c"
       ],
       "layout": "IPY_MODEL_24a45ae89e7943d9895b70e3c3cfb956"
      }
     }
    },
    "version_major": 2,
    "version_minor": 0
   }
  }
 },
 "nbformat": 4,
 "nbformat_minor": 5
}
