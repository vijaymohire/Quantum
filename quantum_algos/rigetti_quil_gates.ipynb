{
  "cells": [
    {
      "cell_type": "markdown",
      "id": "f4504484-5868-402a-85c3-76858e78d502",
      "metadata": {},
      "source": [
        "# 👋🌍 Hello, world and quantum gates, submit a Q# job to Rigetti Simulator\n",
        "\n",
        "In this notebook, we'll review the basics of Azure Quantum by submitting a simple *job*, or quantum program, to [Rigetti](https://www.rigetti.com/). We will use [Q#](https://learn.microsoft.com/azure/quantum/user-guide/) to express the quantum job."
      ]
    },
    {
      "cell_type": "markdown",
      "id": "ea815186-063f-4e6c-a8f1-06838bad5a83",
      "metadata": {
        "nteract": {
          "transient": {
            "deleting": false
          }
        }
      },
      "source": [
        "## Submit a simple job to Rigetti using Azure Quantum\n",
        "Azure Quantum provides several ways to express quantum programs. In this example we are using Q#, but note that Qiskit is also supported. All code in this example will be written in Python and Q#.\n",
        "\n",
        "Let's begin. When you see a code block, hover over it and click the triangle play-button to execute it. To avoid any compilation issues, this should be done in order from top to bottom."
      ]
    },
    {
      "cell_type": "markdown",
      "id": "ca90786b-8432-4e46-abba-05855047aed8",
      "metadata": {
        "nteract": {
          "transient": {
            "deleting": false
          }
        }
      },
      "source": [
        "### 1. Connect to the Azure Quantum workspace\n",
        "\n",
        "To connect to the Azure Quantum service, initialize the `Workspace` as seen below."
      ]
    },
    {
      "cell_type": "code",
      "execution_count": 11,
      "id": "0cc00d71-e8d8-447a-b40f-5cc1784002e0",
      "metadata": {},
      "outputs": [],
      "source": [
        "from azure.quantum import Workspace\n",
        "\n",
        "workspace = Workspace(\n",
        "            resource_id = \"\",\n",
        "            location = \"\")\n",
        "\n"
      ]
    },
    {
      "cell_type": "markdown",
      "id": "dcd6f6c2-98f5-4a85-900e-6d06625baca7",
      "metadata": {
        "nteract": {
          "transient": {
            "deleting": false
          }
        }
      },
      "source": [
        "We can use the resulting object to see which _targets_ are available for submission."
      ]
    },
    {
      "cell_type": "code",
      "execution_count": 12,
      "id": "013e6d23-d364-4926-93b9-4b829a9d85d7",
      "metadata": {
        "jupyter": {
          "outputs_hidden": false,
          "source_hidden": false
        },
        "nteract": {
          "transient": {
            "deleting": false
          }
        }
      },
      "outputs": [
        {
          "name": "stdout",
          "output_type": "stream",
          "text": [
            "This workspace's targets:\n",
            "- ionq.qpu.aria-1\n",
            "- ionq.qpu.aria-2\n",
            "- ionq.simulator\n",
            "- microsoft.estimator\n",
            "- quantinuum.qpu.h1-1\n",
            "- quantinuum.sim.h1-1sc\n",
            "- quantinuum.sim.h1-1e\n",
            "- rigetti.sim.qvm\n",
            "- rigetti.qpu.ankaa-2\n"
          ]
        }
      ],
      "source": [
        "print(\"This workspace's targets:\")\n",
        "for target in workspace.get_targets():\n",
        "    print(\"-\", target.name)\n"
      ]
    },
    {
      "cell_type": "markdown",
      "id": "06babf11-5463-4890-a9da-14aa0add09e6",
      "metadata": {
        "nteract": {
          "transient": {
            "deleting": false
          }
        }
      },
      "source": [
        "### ❕ Do you see `rigetti.sim.qvm` in your list of targets? If so, you're ready to keep going.\n",
        "\n",
        "Don't see it? You may need to add Rigetti to your workspace to run this sample. Navigate to the **Providers** page in the portal and click **+Add** to add the Rigetti provider."
      ]
    },
    {
      "attachments": {},
      "cell_type": "markdown",
      "id": "9c74a673-6d07-4dab-8c28-c0b47e75365b",
      "metadata": {
        "nteract": {
          "transient": {
            "deleting": false
          }
        }
      },
      "source": [
        "## Rigetti: The quantum provider\n",
        "Azure Quantum partners with third-party companies to deliver solutions to quantum jobs. These company offerings are called *providers*. Each provider can offer multiple *targets* with different capabilities. See the table below for Rigetti's targets.\n",
        "\n",
        "| Target name | Target ID | Number of qubits | Description |\n",
        "| --- | --- | --- | --- |\n",
        "| Rigetti QVM (simulator) | `rigetti.sim.qvm` | 20 qubits | Rigetti's cloud-based, [open-source](https://github.com/quil-lang/qvm) \"Quantum Virtual Machine\" simulator. Free to use. |\n",
        "| Ankaa-9q-1 (hardware) | `rigetti.qpu.ankaa-9q-1` | 9 qubits | A 4th-generation, square-lattice processor. Pricing based on QPUs. |\n",
        "| Ankaa-2 (hardware) | `rigetti.qpu.ankaa-2` | 84 qubits | A 4th-generation, square-lattice processor. Pricing based on QPUs. |\n",
        "\n",
        "For this example, we will use `rigetti.sim.qvm`. To learn more about Rigetti's targets, check out [Rigetti's Azure Quantum documentation](https://learn.microsoft.com/azure/quantum/provider-rigetti)."
      ]
    },
    {
      "cell_type": "markdown",
      "id": "380bcb7c-fef2-46ad-bfc6-a29adc24ebe4",
      "metadata": {},
      "source": [
        "### 2. Build the quantum program\n",
        "\n",
        "Let's create a simple Q# program to run.\n",
        "\n",
        "First, let's initialize the Q# environment and set the target profile to Base Profile. Today, Azure Quantum targets only support the Base Profile, a subset of all Q# commands."
      ]
    },
    {
      "cell_type": "code",
      "execution_count": 13,
      "id": "3b5fe07b-681a-41bc-8d57-376ed1876d36",
      "metadata": {
        "jupyter": {
          "outputs_hidden": false,
          "source_hidden": false
        },
        "nteract": {
          "transient": {
            "deleting": false
          }
        }
      },
      "outputs": [
        {
          "data": {
            "application/x.qsharp-config": "{\"targetProfile\":\"base\",\"languageFeatures\":null,\"manifest\":null}",
            "text/plain": [
              "Q# initialized with configuration: {'targetProfile': 'base', 'languageFeatures': None, 'manifest': None}"
            ]
          },
          "execution_count": 13,
          "metadata": {},
          "output_type": "execute_result"
        }
      ],
      "source": [
        "import qsharp\n",
        "qsharp.init(target_profile=qsharp.TargetProfile.Base)"
      ]
    },
    {
      "cell_type": "code",
      "execution_count": 14,
      "id": "12bd673b-7859-4ded-854b-58a4e23572b4",
      "metadata": {
        "microsoft": {
          "language": "qsharp"
        }
      },
      "outputs": [],
      "source": [
        "%%qsharp\n",
        "open Microsoft.Quantum.Measurement;\n",
        "open Microsoft.Quantum.Arrays;\n",
        "open Microsoft.Quantum.Convert;\n",
        "\n",
        "operation GenerateRandomBit() : Result {\n",
        "    use target = Qubit();\n",
        "\n",
        "    // Apply an H-gate and measure.\n",
        "    H(target);\n",
        "    return M(target);\n",
        "}\n"
      ]
    },
    {
      "cell_type": "code",
      "execution_count": 15,
      "id": "2eb31c73-84ff-4210-90f1-d873a95bd81a",
      "metadata": {
        "jupyter": {
          "outputs_hidden": false,
          "source_hidden": false
        },
        "nteract": {
          "transient": {
            "deleting": false
          }
        }
      },
      "outputs": [
        {
          "data": {},
          "metadata": {},
          "output_type": "display_data"
        }
      ],
      "source": [
        "# Compile the qsharp operation\n",
        "operation = qsharp.compile(\"GenerateRandomBit()\")"
      ]
    },
    {
      "cell_type": "markdown",
      "id": "7124cadc-2440-4c00-a555-1a4b5b6da9ad",
      "metadata": {
        "nteract": {
          "transient": {
            "deleting": false
          }
        }
      },
      "source": [
        "The program you built is a simple quantum random bit generator. With Rigetti's simulator, we will be able to estimate the probability of measuring a `1` or `0`."
      ]
    },
    {
      "cell_type": "markdown",
      "id": "df747618-48a7-4156-904c-246e0b42286f",
      "metadata": {},
      "source": [
        "### 3. Submit the quantum program to Rigetti\n",
        "\n",
        "\n",
        "We will use the `target.submit` function to run the quantum program above on Rigetti's `rigetti.sim.qvm` target. This may take a minute or so ⏳. Your job will be packaged and sent to Rigetti, where it will wait its turn to be run."
      ]
    },
    {
      "cell_type": "code",
      "execution_count": 16,
      "id": "16243d28-39fc-4f6e-802d-48c438186fd2",
      "metadata": {},
      "outputs": [
        {
          "name": "stderr",
          "output_type": "stream",
          "text": [
            "shots is not a known attribute of class <class 'azure.quantum._client.models._models.JobDetails'> and will be ignored\n"
          ]
        },
        {
          "name": "stdout",
          "output_type": "stream",
          "text": [
            "Job Id:6f3e0764-7e72-11ef-9b82-00155d96fc17\n",
            "........"
          ]
        }
      ],
      "source": [
        "# Set the target to rigetti.sim.qvm\n",
        "target = workspace.get_targets(\"rigetti.sim.qvm\")\n",
        "\n",
        "# Execute the job. We'll use 100 shots (simulated runs).\n",
        "job = target.submit(operation, \"Generate one random bit\", shots=100)\n",
        "print(\"Job Id:\" + job.id)\n",
        "\n",
        "result = job.get_results()"
      ]
    },
    {
      "cell_type": "markdown",
      "id": "13c0627a-c9f0-424d-9f81-46cfab052c41",
      "metadata": {
        "nteract": {
          "transient": {
            "deleting": false
          }
        }
      },
      "source": [
        "The job ID can be used to retrieve the results later using the [get_job method](https://learn.microsoft.com/python/azure-quantum/azure.quantum.workspace?#azure-quantum-workspace-get-job) or by viewing it under the **Job management** section of the portal."
      ]
    },
    {
      "cell_type": "markdown",
      "id": "e184a04d-02cc-4d42-927a-aadd604120d3",
      "metadata": {
        "nteract": {
          "transient": {
            "deleting": false
          }
        }
      },
      "source": [
        "### 4. Visualize job results \n",
        "You can also view a histogram of the results using [`pyplot`](https://matplotlib.org/stable/api/_as_gen/matplotlib.pyplot.html):"
      ]
    },
    {
      "cell_type": "code",
      "execution_count": null,
      "id": "654f4604-fa9a-4045-882e-5455bcabd3ba",
      "metadata": {
        "jupyter": {
          "outputs_hidden": false,
          "source_hidden": false
        },
        "nteract": {
          "transient": {
            "deleting": false
          }
        }
      },
      "outputs": [],
      "source": [
        "from matplotlib import pyplot\n",
        "\n",
        "pyplot.bar(result.keys(), result.values())\n",
        "pyplot.title(\"Result\")\n",
        "pyplot.xlabel(\"Measurement\")\n",
        "pyplot.ylabel(\"Probability\")\n",
        "\n",
        "pyplot.show()\n",
        "\n"
      ]
    },
    {
      "cell_type": "markdown",
      "id": "b3189a59-ed90-4ee8-9779-3001ddc624fd",
      "metadata": {
        "nteract": {
          "transient": {
            "deleting": false
          }
        }
      },
      "source": [
        "## Rigetti simulator test using Bell state  "
      ]
    },
    {
      "cell_type": "code",
      "execution_count": null,
      "id": "8803e5d6-c023-441b-b7fa-c9bd3371f542",
      "metadata": {
        "jupyter": {
          "outputs_hidden": false,
          "source_hidden": false
        },
        "nteract": {
          "transient": {
            "deleting": false
          }
        }
      },
      "outputs": [],
      "source": [
        "from azure.quantum.target.rigetti import Result, Rigetti, RigettiTarget, InputParams\n",
        "\n",
        "# Set the target to rigetti.sim.qvm\n",
        "target = workspace.get_targets(\"rigetti.sim.qvm\")\n",
        "\n",
        "\n",
        "#For Rigetti SIM test using Bell State - VMohire - 29 Sept 2024 \n",
        "\n",
        "# Any valid Quil program is accepted, but the readout must be named `ro`\n",
        "readout = \"ro\"\n",
        "bell_state_quil = f\"\"\"\n",
        "DECLARE {readout} BIT[2]\n",
        "\n",
        "H 0\n",
        "CNOT 0 1\n",
        "\n",
        "MEASURE 0 {readout}[0]\n",
        "MEASURE 1 {readout}[1]\n",
        "\"\"\"\n",
        "\n",
        "num_shots = 5\n",
        "job = target.submit(\n",
        "    input_data=bell_state_quil, \n",
        "    name=\"bell state\", \n",
        "    shots=100, \n",
        "    input_params=InputParams(skip_quilc=False)\n",
        ")\n",
        "\n",
        "print(f\"Queued job: {job.id}\")\n",
        "job.wait_until_completed()\n",
        "\n",
        "print(f\"Job completed with state: {job.details.status}\")\n",
        "result = Result(job)  # This throws an exception if the job failed\n",
        "# You can index a Result with the name of the readout. In this case, `ro`\n",
        "data_per_shot = result[readout]\n",
        "# Here, data_per_shot is a list of length num_shots, each entry is a list containing the data for the register for that shot\n",
        "ro_data_first_shot = data_per_shot[0]\n",
        "# In this case, because the type of the register is BIT, the type will be integer and the value either 0 or 1\n",
        "assert isinstance(ro_data_first_shot[0], int)\n",
        "assert ro_data_first_shot[0] == 1 or ro_data_first_shot[0] == 0\n",
        "\n",
        "# Let's print out all the data\n",
        "print(f\"Data from '{readout}' register:\")\n",
        "for i, shot in enumerate(data_per_shot):\n",
        "    print(f\"Shot {i}: {shot}\")"
      ]
    },
    {
      "cell_type": "markdown",
      "id": "ea8f562e-594a-43d9-b278-2f78cd3bc80f",
      "metadata": {
        "nteract": {
          "transient": {
            "deleting": false
          }
        }
      },
      "source": [
        "**See the histogram above? Congratulations, you've submitted a job with Azure Quantum! 👏**\n"
      ]
    },
    {
      "cell_type": "code",
      "execution_count": null,
      "id": "2d589a28-05d4-4baf-b98e-4389e2305276",
      "metadata": {
        "jupyter": {
          "outputs_hidden": false,
          "source_hidden": false
        },
        "nteract": {
          "transient": {
            "deleting": false
          }
        }
      },
      "outputs": [],
      "source": [
        "pip install pyquil-for-azure-quantum"
      ]
    },
    {
      "cell_type": "markdown",
      "id": "7fcd989d-378b-4d59-8bb0-d4655375092e",
      "metadata": {
        "nteract": {
          "transient": {
            "deleting": false
          }
        }
      },
      "source": [
        "## Use of pyquil libraries and various quantum gate operations"
      ]
    },
    {
      "cell_type": "code",
      "execution_count": null,
      "id": "714ba5b7-1773-4ec4-92c2-92620f90c48e",
      "metadata": {
        "jupyter": {
          "outputs_hidden": false,
          "source_hidden": false
        },
        "nteract": {
          "transient": {
            "deleting": false
          }
        }
      },
      "outputs": [],
      "source": [
        "from pyquil.gates import CNOT, MEASURE, H\n",
        "from pyquil.quil import Program\n",
        "from pyquil.quilbase import Declare\n",
        "from pyquil_for_azure_quantum import get_qpu, get_qvm"
      ]
    },
    {
      "cell_type": "code",
      "execution_count": null,
      "id": "a2f7a75e-6447-4f4d-a1a3-b30d40ef51ee",
      "metadata": {
        "jupyter": {
          "outputs_hidden": false,
          "source_hidden": false
        },
        "nteract": {
          "transient": {
            "deleting": false
          }
        }
      },
      "outputs": [],
      "source": [
        "#from pyquil import Program\n",
        "from pyquil.api import WavefunctionSimulator\n",
        "#from pyquil.gates import H\n",
        "from pyquil.paulis import sZ, sX, sI, exponentiate_commuting_pauli_sum\n",
        "from scipy.optimize import minimize"
      ]
    },
    {
      "cell_type": "code",
      "execution_count": null,
      "id": "8bdd5a80-ff3f-4317-b344-a662de2b1aa2",
      "metadata": {
        "jupyter": {
          "outputs_hidden": false,
          "source_hidden": false
        },
        "nteract": {
          "transient": {
            "deleting": false
          }
        }
      },
      "outputs": [],
      "source": [
        "import numpy as np\n",
        "from pyquil.paulis import exponentiate, exponential_map"
      ]
    },
    {
      "cell_type": "code",
      "execution_count": null,
      "id": "5b6cca7b-6d7c-4efa-9669-58fe00221ada",
      "metadata": {
        "jupyter": {
          "outputs_hidden": false,
          "source_hidden": false
        },
        "nteract": {
          "transient": {
            "deleting": false
          }
        }
      },
      "outputs": [],
      "source": [
        "zz = sZ(0)*sX(1)\n",
        "print(type(zz))"
      ]
    },
    {
      "cell_type": "code",
      "execution_count": null,
      "id": "5413a4d8-d4df-49fc-aaa9-22269121cf97",
      "metadata": {
        "jupyter": {
          "outputs_hidden": false,
          "source_hidden": false
        },
        "nteract": {
          "transient": {
            "deleting": false
          }
        }
      },
      "outputs": [],
      "source": [
        "exponentiate?"
      ]
    },
    {
      "cell_type": "code",
      "execution_count": null,
      "id": "3337246d-ee6b-469a-8cac-8dc8ecace208",
      "metadata": {
        "jupyter": {
          "outputs_hidden": false,
          "source_hidden": false
        },
        "nteract": {
          "transient": {
            "deleting": false
          }
        }
      },
      "outputs": [],
      "source": [
        "H = sZ(2)\n",
        "pq = exponentiate(H)\n",
        "print(pq)"
      ]
    },
    {
      "cell_type": "code",
      "execution_count": null,
      "id": "11a33034-320d-4305-a11e-9fb711bd8e27",
      "metadata": {
        "jupyter": {
          "outputs_hidden": false,
          "source_hidden": false
        },
        "nteract": {
          "transient": {
            "deleting": false
          }
        }
      },
      "outputs": [],
      "source": [
        "print(type(sZ(2)))\n",
        "print(type(sZ(2)+sI(0)))"
      ]
    },
    {
      "cell_type": "code",
      "execution_count": null,
      "id": "284a9df3-5f5a-49db-bc37-2a095ebb74b9",
      "metadata": {
        "jupyter": {
          "outputs_hidden": false,
          "source_hidden": false
        },
        "nteract": {
          "transient": {
            "deleting": false
          }
        }
      },
      "outputs": [],
      "source": [
        "exponential_map?"
      ]
    },
    {
      "cell_type": "code",
      "execution_count": null,
      "id": "6f2c7a3b-ce8d-4008-8121-6c77937a2e6c",
      "metadata": {
        "jupyter": {
          "outputs_hidden": false,
          "source_hidden": false
        },
        "nteract": {
          "transient": {
            "deleting": false
          }
        }
      },
      "outputs": [],
      "source": [
        "param_pq = exponential_map(H)\n",
        "\n",
        "pq = param_pq(0.2)\n",
        "print(pq)"
      ]
    },
    {
      "cell_type": "code",
      "execution_count": null,
      "id": "0525baf2-28ea-452f-a438-7b6a5446f0cf",
      "metadata": {
        "jupyter": {
          "outputs_hidden": false,
          "source_hidden": false
        },
        "nteract": {
          "transient": {
            "deleting": false
          }
        }
      },
      "outputs": [],
      "source": [
        "H = sZ(1)*sX(4)*sZ(5)"
      ]
    },
    {
      "cell_type": "code",
      "execution_count": null,
      "id": "7d3f4789-729f-44e0-9099-9f19be3ed586",
      "metadata": {
        "jupyter": {
          "outputs_hidden": false,
          "source_hidden": false
        },
        "nteract": {
          "transient": {
            "deleting": false
          }
        }
      },
      "outputs": [],
      "source": [
        "param_pq = exponential_map(H)\n",
        "\n",
        "pq = param_pq(0.5)\n",
        "print(pq)"
      ]
    },
    {
      "cell_type": "code",
      "execution_count": null,
      "id": "5b18e42f-2084-4962-a13a-283a1fd87807",
      "metadata": {
        "jupyter": {
          "outputs_hidden": false,
          "source_hidden": false
        },
        "nteract": {
          "transient": {
            "deleting": false
          }
        }
      },
      "outputs": [],
      "source": [
        "param_pq = exponential_map(H)\n",
        "\n",
        "pq = param_pq(0.5)\n",
        "print(pq)"
      ]
    },
    {
      "cell_type": "code",
      "execution_count": null,
      "id": "e665f71b-7720-4ed1-90f1-5520f7b982fc",
      "metadata": {
        "jupyter": {
          "outputs_hidden": false,
          "source_hidden": false
        },
        "nteract": {
          "transient": {
            "deleting": false
          }
        }
      },
      "outputs": [],
      "source": [
        "from pyquil.paulis import sY"
      ]
    },
    {
      "cell_type": "code",
      "execution_count": null,
      "id": "2027c060-a11d-4802-bc50-83e71909721f",
      "metadata": {
        "jupyter": {
          "outputs_hidden": false,
          "source_hidden": false
        },
        "nteract": {
          "transient": {
            "deleting": false
          }
        }
      },
      "outputs": [],
      "source": [
        "H = sZ(1)*sX(4)*sY(5)\n",
        "param_pq = exponential_map(H)\n",
        "\n",
        "pq = param_pq(0.5)\n",
        "print(pq)"
      ]
    },
    {
      "cell_type": "code",
      "execution_count": null,
      "id": "38cf6a5e-792f-4976-bf18-59e40f08b610",
      "metadata": {
        "jupyter": {
          "outputs_hidden": false,
          "source_hidden": false
        },
        "nteract": {
          "transient": {
            "deleting": false
          }
        }
      },
      "outputs": [],
      "source": [
        "exponentiate_commuting_pauli_sum?"
      ]
    },
    {
      "cell_type": "code",
      "execution_count": null,
      "id": "08fea957-e50e-4bdc-8b1c-fb90ffd93357",
      "metadata": {
        "jupyter": {
          "outputs_hidden": false,
          "source_hidden": false
        },
        "nteract": {
          "transient": {
            "deleting": false
          }
        }
      },
      "outputs": [],
      "source": [
        "# Commuting case\n",
        "H = sZ(0)*sX(2) + sZ(1)"
      ]
    },
    {
      "cell_type": "code",
      "execution_count": null,
      "id": "38643c29-6b22-41ed-90d7-ca04829e4731",
      "metadata": {
        "jupyter": {
          "outputs_hidden": false,
          "source_hidden": false
        },
        "nteract": {
          "transient": {
            "deleting": false
          }
        }
      },
      "outputs": [],
      "source": [
        "param_pq = exponentiate_commuting_pauli_sum(H)\n",
        "pq = param_pq(0.5)\n",
        "print(pq)"
      ]
    },
    {
      "cell_type": "code",
      "execution_count": null,
      "id": "a3da88d7-0d6b-4ad7-98ad-38fce25349a6",
      "metadata": {
        "jupyter": {
          "outputs_hidden": false,
          "source_hidden": false
        },
        "nteract": {
          "transient": {
            "deleting": false
          }
        }
      },
      "outputs": [],
      "source": [
        "# Let's check the answer\n",
        "#from pyquil.unitary_tools import program_unitary, tensor_up\n",
        "from pyquil.simulation.tools import program_unitary, tensor_up\n",
        "from scipy.linalg import expm"
      ]
    },
    {
      "cell_type": "code",
      "execution_count": null,
      "id": "31ec5782-b654-4657-a624-8b8a34ed27c7",
      "metadata": {
        "jupyter": {
          "outputs_hidden": false,
          "source_hidden": false
        },
        "nteract": {
          "transient": {
            "deleting": false
          }
        }
      },
      "outputs": [],
      "source": [
        "alpha = 0.5\n",
        "dense = tensor_up(H, qubits=range(3))\n",
        "expd = expm(-1.j * alpha * dense)\n",
        "print(expd)"
      ]
    },
    {
      "cell_type": "code",
      "execution_count": null,
      "id": "b9a13323-7be3-4437-a30c-ce0ba23bc5ea",
      "metadata": {
        "jupyter": {
          "outputs_hidden": false,
          "source_hidden": false
        },
        "nteract": {
          "transient": {
            "deleting": false
          }
        }
      },
      "outputs": [],
      "source": [
        "program_unitary(pq, 3)"
      ]
    },
    {
      "cell_type": "code",
      "execution_count": null,
      "id": "ea4307af-f243-4a4c-adfc-0335c47c3645",
      "metadata": {
        "jupyter": {
          "outputs_hidden": false,
          "source_hidden": false
        },
        "nteract": {
          "transient": {
            "deleting": false
          }
        }
      },
      "outputs": [],
      "source": [
        "np.allclose(expd, program_unitary(pq, 3))"
      ]
    },
    {
      "cell_type": "code",
      "execution_count": null,
      "id": "6ac1a48c-12d3-48b1-9aa2-773efd5a41ed",
      "metadata": {
        "jupyter": {
          "outputs_hidden": false,
          "source_hidden": false
        },
        "nteract": {
          "transient": {
            "deleting": false
          }
        }
      },
      "outputs": [],
      "source": [
        "# Non-commuting Case\n",
        "from pyquil.paulis import trotterize"
      ]
    },
    {
      "cell_type": "code",
      "execution_count": null,
      "id": "0c6a9f5e-14a3-40b4-af83-11a450b4fba9",
      "metadata": {
        "jupyter": {
          "outputs_hidden": false,
          "source_hidden": false
        },
        "nteract": {
          "transient": {
            "deleting": false
          }
        }
      },
      "outputs": [],
      "source": [
        "trotterize?"
      ]
    },
    {
      "cell_type": "code",
      "execution_count": null,
      "id": "94f9c9fb-075a-452c-953b-e4418e4fc253",
      "metadata": {
        "jupyter": {
          "outputs_hidden": false,
          "source_hidden": false
        },
        "nteract": {
          "transient": {
            "deleting": false
          }
        }
      },
      "outputs": [],
      "source": [
        "H1 = sZ(0)\n",
        "H2 = sX(0)"
      ]
    },
    {
      "cell_type": "code",
      "execution_count": null,
      "id": "14e5f44f-78f6-4194-a7fa-d341dec092d0",
      "metadata": {
        "jupyter": {
          "outputs_hidden": false,
          "source_hidden": false
        },
        "nteract": {
          "transient": {
            "deleting": false
          }
        }
      },
      "outputs": [],
      "source": [
        "trot_pq = trotterize(H1, H2, trotter_order=1, trotter_steps=1)\n",
        "print(trot_pq)"
      ]
    },
    {
      "cell_type": "code",
      "execution_count": null,
      "id": "fbf7615f-abfa-47ee-9b3f-4663d9d7cd5b",
      "metadata": {
        "jupyter": {
          "outputs_hidden": false,
          "source_hidden": false
        },
        "nteract": {
          "transient": {
            "deleting": false
          }
        }
      },
      "outputs": [],
      "source": [
        "trot_pq = trotterize(H1, H2, trotter_order=2, trotter_steps=2)\n",
        "print(trot_pq)"
      ]
    },
    {
      "attachments": {},
      "cell_type": "markdown",
      "id": "4cdb3bb1-3044-4b99-81a3-bc8339a34cbe",
      "metadata": {
        "nteract": {
          "transient": {
            "deleting": false
          }
        }
      },
      "source": [
        "### 5. Next steps\n",
        "Next, you can try running a program on one of Rigetti's hardware targets. Just replace `rigetti.sim.qvm` with `rigetti.qpu.ankaa-9q-1`. Or try another sample by navigating back to the sample gallery. The same \"hello world\" sample can be run with different quantum providers by choosing another option in the gallery card drop-down menu. Don't worry - your work here is automatically saved.\n",
        "\n",
        "To learn more about submitting jobs to Azure Quantum using Q#, refer to the [Azure Quantum documentation](https://learn.microsoft.com/azure/quantum/how-to-submit-jobs?pivots=ide-python&tabs=tabid-python).\n",
        "\n",
        "To learn more about job pricing, review [Azure Quantum's pricing documentation](https://learn.microsoft.com/azure/quantum/azure-quantum-job-costs)."
      ]
    }
  ],
  "metadata": {
    "kernel_info": {
      "name": "python3"
    },
    "kernelspec": {
      "display_name": "Python 3.6.1 64-bit ('Anaconda2022')",
      "language": "python",
      "name": "python3"
    },
    "language_info": {
      "codemirror_mode": {
        "name": "ipython",
        "version": 3
      },
      "file_extension": ".py",
      "mimetype": "text/x-python",
      "name": "python",
      "nbconvert_exporter": "python",
      "pygments_lexer": "ipython3",
      "version": "3.6.1"
    },
    "microsoft": {
      "host": {
        "AzureQuantum": {
          "sourceLink": "https://raw.githubusercontent.com/microsoft/azure-quantum-python/4fda476b1f409f7b264c70ccfd5032fe4909b999/samples/hello-world/HW-rigetti-qsharp.ipynb",
          "sourceType": "SampleGallery"
        }
      }
    },
    "nteract": {
      "version": "nteract-front-end@1.0.0"
    },
    "vscode": {
      "interpreter": {
        "hash": "25b6fc688f39b286835cfd678f84921212677a754a4536fe5337251eebb04549"
      }
    }
  },
  "nbformat": 4,
  "nbformat_minor": 5
}
