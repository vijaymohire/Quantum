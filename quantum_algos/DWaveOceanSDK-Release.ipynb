{
  "cells": [
    {
      "cell_type": "markdown",
      "metadata": {
        "id": "EfcSDuckcK8J"
      },
      "source": [
        "# 4-Introduction to D-Wave Ocean SDK"
      ]
    },
    {
      "cell_type": "markdown",
      "metadata": {
        "id": "view-in-github"
      },
      "source": [
        "[![Open in Colab](https://colab.research.google.com/assets/colab-badge.svg)](https://colab.research.google.com/github/OpenJij/OpenJijTutorial/blob/master/source/en/004-DWaveOceanSDK.ipynb)"
      ]
    },
    {
      "cell_type": "markdown",
      "metadata": {
        "id": "sP6qSFVtcK9Z"
      },
      "source": [
        "D-Wave Ocean SDK (Ocean) is a collection of software that uses D-Wave Machines. It is easy to use various features from Python.\n",
        "\n",
        "Github: https://github.com/dwavesystems/dwave-ocean-sdk  \n",
        "Document: https://docs.ocean.dwavesys.com/en/latest/\n",
        "\n",
        "To install Ocean, use pip as described in the link above, or clone the github repository."
      ]
    },
    {
      "cell_type": "code",
      "execution_count": 1,
      "metadata": {
        "colab": {
          "base_uri": "https://localhost:8080/"
        },
        "id": "lZz1v7KucK9v",
        "outputId": "c3bbe5c0-e69c-4afa-9621-0ee0f533a992"
      },
      "outputs": [
        {
          "name": "stdout",
          "output_type": "stream",
          "text": [
            "Collecting dwave-ocean-sdk\n",
            "  Downloading dwave_ocean_sdk-8.0.1-py3-none-any.whl.metadata (5.7 kB)\n",
            "Collecting dimod==0.12.17 (from dwave-ocean-sdk)\n",
            "  Downloading dimod-0.12.17-cp310-cp310-manylinux_2_17_x86_64.manylinux2014_x86_64.whl.metadata (4.1 kB)\n",
            "Collecting dwave-cloud-client==0.13.1 (from dwave-ocean-sdk)\n",
            "  Downloading dwave_cloud_client-0.13.1-py3-none-any.whl.metadata (5.5 kB)\n",
            "Collecting dwave-gate==0.3.2 (from dwave-ocean-sdk)\n",
            "  Downloading dwave_gate-0.3.2-cp310-cp310-manylinux_2_17_x86_64.manylinux2014_x86_64.whl.metadata (18 kB)\n",
            "Collecting dwave-greedy==0.3.0 (from dwave-ocean-sdk)\n",
            "  Downloading dwave_greedy-0.3.0-py3-none-any.whl.metadata (4.6 kB)\n",
            "Collecting dwave-hybrid==0.6.12 (from dwave-ocean-sdk)\n",
            "  Downloading dwave_hybrid-0.6.12-py3-none-any.whl.metadata (4.4 kB)\n",
            "Collecting dwave-inspector==0.5.1 (from dwave-ocean-sdk)\n",
            "  Downloading dwave_inspector-0.5.1-py3-none-any.whl.metadata (4.4 kB)\n",
            "Collecting dwave-neal==0.6.0 (from dwave-ocean-sdk)\n",
            "  Downloading dwave_neal-0.6.0-py3-none-any.whl.metadata (3.0 kB)\n",
            "Collecting dwave-networkx==0.8.15 (from dwave-ocean-sdk)\n",
            "  Downloading dwave_networkx-0.8.15-py3-none-any.whl.metadata (2.6 kB)\n",
            "Collecting dwave-optimization==0.3.0 (from dwave-ocean-sdk)\n",
            "  Downloading dwave_optimization-0.3.0-cp310-cp310-manylinux_2_24_x86_64.manylinux_2_28_x86_64.whl.metadata (17 kB)\n",
            "Collecting dwave-preprocessing==0.6.6 (from dwave-ocean-sdk)\n",
            "  Downloading dwave_preprocessing-0.6.6-cp310-cp310-manylinux_2_17_x86_64.manylinux2014_x86_64.whl.metadata (3.3 kB)\n",
            "Collecting dwave-samplers==1.3.0 (from dwave-ocean-sdk)\n",
            "  Downloading dwave_samplers-1.3.0-cp310-cp310-manylinux_2_17_x86_64.manylinux2014_x86_64.whl.metadata (9.8 kB)\n",
            "Collecting dwave-system==1.26.0 (from dwave-ocean-sdk)\n",
            "  Downloading dwave_system-1.26.0-py3-none-any.whl.metadata (3.8 kB)\n",
            "Collecting dwave-tabu==0.5.0 (from dwave-ocean-sdk)\n",
            "  Downloading dwave_tabu-0.5.0-py3-none-any.whl.metadata (3.3 kB)\n",
            "Collecting dwavebinarycsp==0.3.0 (from dwave-ocean-sdk)\n",
            "  Downloading dwavebinarycsp-0.3.0-py3-none-any.whl.metadata (3.0 kB)\n",
            "Collecting minorminer==0.2.15 (from dwave-ocean-sdk)\n",
            "  Downloading minorminer-0.2.15-cp310-cp310-manylinux_2_17_x86_64.manylinux2014_x86_64.whl.metadata (20 kB)\n",
            "Collecting penaltymodel==1.1.0 (from dwave-ocean-sdk)\n",
            "  Downloading penaltymodel-1.1.0-py3-none-any.whl.metadata (6.5 kB)\n",
            "Requirement already satisfied: numpy>=1.17.3 in /usr/local/lib/python3.10/dist-packages (from dimod==0.12.17->dwave-ocean-sdk) (1.26.4)\n",
            "Requirement already satisfied: requests<3,>=2.25 in /usr/local/lib/python3.10/dist-packages (from requests[socks]<3,>=2.25->dwave-cloud-client==0.13.1->dwave-ocean-sdk) (2.32.3)\n",
            "Requirement already satisfied: urllib3<3,>=1.26 in /usr/local/lib/python3.10/dist-packages (from dwave-cloud-client==0.13.1->dwave-ocean-sdk) (2.2.3)\n",
            "Requirement already satisfied: pydantic<3,>=2 in /usr/local/lib/python3.10/dist-packages (from dwave-cloud-client==0.13.1->dwave-ocean-sdk) (2.9.2)\n",
            "Collecting homebase<2,>=1.0 (from dwave-cloud-client==0.13.1->dwave-ocean-sdk)\n",
            "  Downloading homebase-1.0.1-py2.py3-none-any.whl.metadata (3.3 kB)\n",
            "Requirement already satisfied: click<9,>=7.0 in /usr/local/lib/python3.10/dist-packages (from dwave-cloud-client==0.13.1->dwave-ocean-sdk) (8.1.7)\n",
            "Requirement already satisfied: python-dateutil<3,>=2.7 in /usr/local/lib/python3.10/dist-packages (from dwave-cloud-client==0.13.1->dwave-ocean-sdk) (2.8.2)\n",
            "Collecting plucky<0.5,>=0.4.3 (from dwave-cloud-client==0.13.1->dwave-ocean-sdk)\n",
            "  Downloading plucky-0.4.3-py2.py3-none-any.whl.metadata (4.4 kB)\n",
            "Collecting diskcache<6,>=5.2.1 (from dwave-cloud-client==0.13.1->dwave-ocean-sdk)\n",
            "  Downloading diskcache-5.6.3-py3-none-any.whl.metadata (20 kB)\n",
            "Requirement already satisfied: packaging>=19 in /usr/local/lib/python3.10/dist-packages (from dwave-cloud-client==0.13.1->dwave-ocean-sdk) (24.1)\n",
            "Requirement already satisfied: werkzeug<4,>=2.2 in /usr/local/lib/python3.10/dist-packages (from dwave-cloud-client==0.13.1->dwave-ocean-sdk) (3.0.4)\n",
            "Requirement already satisfied: typing-extensions<5,>=4.5.0 in /usr/local/lib/python3.10/dist-packages (from dwave-cloud-client==0.13.1->dwave-ocean-sdk) (4.12.2)\n",
            "Collecting authlib<2,>=1.2 (from dwave-cloud-client==0.13.1->dwave-ocean-sdk)\n",
            "  Downloading Authlib-1.3.2-py2.py3-none-any.whl.metadata (3.9 kB)\n",
            "Requirement already satisfied: importlib-metadata>=5.0.0 in /usr/local/lib/python3.10/dist-packages (from dwave-cloud-client==0.13.1->dwave-ocean-sdk) (8.5.0)\n",
            "Collecting orjson>=3.10 (from dwave-cloud-client==0.13.1->dwave-ocean-sdk)\n",
            "  Downloading orjson-3.10.7-cp310-cp310-manylinux_2_17_x86_64.manylinux2014_x86_64.whl.metadata (50 kB)\n",
            "\u001b[2K     \u001b[90m━━━━━━━━━━━━━━━━━━━━━━━━━━━━━━━━━━━━━━━━\u001b[0m \u001b[32m50.4/50.4 kB\u001b[0m \u001b[31m984.2 kB/s\u001b[0m eta \u001b[36m0:00:00\u001b[0m\n",
            "\u001b[?25hRequirement already satisfied: networkx in /usr/local/lib/python3.10/dist-packages (from dwave-hybrid==0.6.12->dwave-ocean-sdk) (3.3)\n",
            "Requirement already satisfied: Flask<4,>=2.2 in /usr/local/lib/python3.10/dist-packages (from dwave-inspector==0.5.1->dwave-ocean-sdk) (2.2.5)\n",
            "Requirement already satisfied: scipy>=1.7.3 in /usr/local/lib/python3.10/dist-packages (from dwave-system==1.26.0->dwave-ocean-sdk) (1.13.1)\n",
            "Collecting fasteners>=0.15 (from minorminer==0.2.15->dwave-ocean-sdk)\n",
            "  Downloading fasteners-0.19-py3-none-any.whl.metadata (4.9 kB)\n",
            "Requirement already satisfied: cryptography in /usr/local/lib/python3.10/dist-packages (from authlib<2,>=1.2->dwave-cloud-client==0.13.1->dwave-ocean-sdk) (43.0.1)\n",
            "Requirement already satisfied: Jinja2>=3.0 in /usr/local/lib/python3.10/dist-packages (from Flask<4,>=2.2->dwave-inspector==0.5.1->dwave-ocean-sdk) (3.1.4)\n",
            "Requirement already satisfied: itsdangerous>=2.0 in /usr/local/lib/python3.10/dist-packages (from Flask<4,>=2.2->dwave-inspector==0.5.1->dwave-ocean-sdk) (2.2.0)\n",
            "Requirement already satisfied: zipp>=3.20 in /usr/local/lib/python3.10/dist-packages (from importlib-metadata>=5.0.0->dwave-cloud-client==0.13.1->dwave-ocean-sdk) (3.20.2)\n",
            "Requirement already satisfied: annotated-types>=0.6.0 in /usr/local/lib/python3.10/dist-packages (from pydantic<3,>=2->dwave-cloud-client==0.13.1->dwave-ocean-sdk) (0.7.0)\n",
            "Requirement already satisfied: pydantic-core==2.23.4 in /usr/local/lib/python3.10/dist-packages (from pydantic<3,>=2->dwave-cloud-client==0.13.1->dwave-ocean-sdk) (2.23.4)\n",
            "Requirement already satisfied: six>=1.5 in /usr/local/lib/python3.10/dist-packages (from python-dateutil<3,>=2.7->dwave-cloud-client==0.13.1->dwave-ocean-sdk) (1.16.0)\n",
            "Requirement already satisfied: charset-normalizer<4,>=2 in /usr/local/lib/python3.10/dist-packages (from requests<3,>=2.25->requests[socks]<3,>=2.25->dwave-cloud-client==0.13.1->dwave-ocean-sdk) (3.3.2)\n",
            "Requirement already satisfied: idna<4,>=2.5 in /usr/local/lib/python3.10/dist-packages (from requests<3,>=2.25->requests[socks]<3,>=2.25->dwave-cloud-client==0.13.1->dwave-ocean-sdk) (3.10)\n",
            "Requirement already satisfied: certifi>=2017.4.17 in /usr/local/lib/python3.10/dist-packages (from requests<3,>=2.25->requests[socks]<3,>=2.25->dwave-cloud-client==0.13.1->dwave-ocean-sdk) (2024.8.30)\n",
            "Requirement already satisfied: PySocks!=1.5.7,>=1.5.6 in /usr/local/lib/python3.10/dist-packages (from requests[socks]<3,>=2.25->dwave-cloud-client==0.13.1->dwave-ocean-sdk) (1.7.1)\n",
            "Requirement already satisfied: MarkupSafe>=2.1.1 in /usr/local/lib/python3.10/dist-packages (from werkzeug<4,>=2.2->dwave-cloud-client==0.13.1->dwave-ocean-sdk) (2.1.5)\n",
            "Requirement already satisfied: cffi>=1.12 in /usr/local/lib/python3.10/dist-packages (from cryptography->authlib<2,>=1.2->dwave-cloud-client==0.13.1->dwave-ocean-sdk) (1.17.1)\n",
            "Requirement already satisfied: pycparser in /usr/local/lib/python3.10/dist-packages (from cffi>=1.12->cryptography->authlib<2,>=1.2->dwave-cloud-client==0.13.1->dwave-ocean-sdk) (2.22)\n",
            "Downloading dwave_ocean_sdk-8.0.1-py3-none-any.whl (8.4 kB)\n",
            "Downloading dimod-0.12.17-cp310-cp310-manylinux_2_17_x86_64.manylinux2014_x86_64.whl (9.0 MB)\n",
            "\u001b[2K   \u001b[90m━━━━━━━━━━━━━━━━━━━━━━━━━━━━━━━━━━━━━━━━\u001b[0m \u001b[32m9.0/9.0 MB\u001b[0m \u001b[31m33.9 MB/s\u001b[0m eta \u001b[36m0:00:00\u001b[0m\n",
            "\u001b[?25hDownloading dwave_cloud_client-0.13.1-py3-none-any.whl (158 kB)\n",
            "\u001b[2K   \u001b[90m━━━━━━━━━━━━━━━━━━━━━━━━━━━━━━━━━━━━━━━━\u001b[0m \u001b[32m158.9/158.9 kB\u001b[0m \u001b[31m12.2 MB/s\u001b[0m eta \u001b[36m0:00:00\u001b[0m\n",
            "\u001b[?25hDownloading dwave_gate-0.3.2-cp310-cp310-manylinux_2_17_x86_64.manylinux2014_x86_64.whl (1.5 MB)\n",
            "\u001b[2K   \u001b[90m━━━━━━━━━━━━━━━━━━━━━━━━━━━━━━━━━━━━━━━━\u001b[0m \u001b[32m1.5/1.5 MB\u001b[0m \u001b[31m36.9 MB/s\u001b[0m eta \u001b[36m0:00:00\u001b[0m\n",
            "\u001b[?25hDownloading dwave_greedy-0.3.0-py3-none-any.whl (10 kB)\n",
            "Downloading dwave_hybrid-0.6.12-py3-none-any.whl (77 kB)\n",
            "\u001b[2K   \u001b[90m━━━━━━━━━━━━━━━━━━━━━━━━━━━━━━━━━━━━━━━━\u001b[0m \u001b[32m77.5/77.5 kB\u001b[0m \u001b[31m5.0 MB/s\u001b[0m eta \u001b[36m0:00:00\u001b[0m\n",
            "\u001b[?25hDownloading dwave_inspector-0.5.1-py3-none-any.whl (31 kB)\n",
            "Downloading dwave_neal-0.6.0-py3-none-any.whl (8.7 kB)\n",
            "Downloading dwave_networkx-0.8.15-py3-none-any.whl (102 kB)\n",
            "\u001b[2K   \u001b[90m━━━━━━━━━━━━━━━━━━━━━━━━━━━━━━━━━━━━━━━━\u001b[0m \u001b[32m102.3/102.3 kB\u001b[0m \u001b[31m7.3 MB/s\u001b[0m eta \u001b[36m0:00:00\u001b[0m\n",
            "\u001b[?25hDownloading dwave_optimization-0.3.0-cp310-cp310-manylinux_2_24_x86_64.manylinux_2_28_x86_64.whl (2.4 MB)\n",
            "\u001b[2K   \u001b[90m━━━━━━━━━━━━━━━━━━━━━━━━━━━━━━━━━━━━━━━━\u001b[0m \u001b[32m2.4/2.4 MB\u001b[0m \u001b[31m50.9 MB/s\u001b[0m eta \u001b[36m0:00:00\u001b[0m\n",
            "\u001b[?25hDownloading dwave_preprocessing-0.6.6-cp310-cp310-manylinux_2_17_x86_64.manylinux2014_x86_64.whl (3.3 MB)\n",
            "\u001b[2K   \u001b[90m━━━━━━━━━━━━━━━━━━━━━━━━━━━━━━━━━━━━━━━━\u001b[0m \u001b[32m3.3/3.3 MB\u001b[0m \u001b[31m58.1 MB/s\u001b[0m eta \u001b[36m0:00:00\u001b[0m\n",
            "\u001b[?25hDownloading dwave_samplers-1.3.0-cp310-cp310-manylinux_2_17_x86_64.manylinux2014_x86_64.whl (6.7 MB)\n",
            "\u001b[2K   \u001b[90m━━━━━━━━━━━━━━━━━━━━━━━━━━━━━━━━━━━━━━━━\u001b[0m \u001b[32m6.7/6.7 MB\u001b[0m \u001b[31m54.9 MB/s\u001b[0m eta \u001b[36m0:00:00\u001b[0m\n",
            "\u001b[?25hDownloading dwave_system-1.26.0-py3-none-any.whl (107 kB)\n",
            "\u001b[2K   \u001b[90m━━━━━━━━━━━━━━━━━━━━━━━━━━━━━━━━━━━━━━━━\u001b[0m \u001b[32m107.0/107.0 kB\u001b[0m \u001b[31m5.9 MB/s\u001b[0m eta \u001b[36m0:00:00\u001b[0m\n",
            "\u001b[?25hDownloading dwave_tabu-0.5.0-py3-none-any.whl (9.2 kB)\n",
            "Downloading dwavebinarycsp-0.3.0-py3-none-any.whl (35 kB)\n",
            "Downloading minorminer-0.2.15-cp310-cp310-manylinux_2_17_x86_64.manylinux2014_x86_64.whl (3.3 MB)\n",
            "\u001b[2K   \u001b[90m━━━━━━━━━━━━━━━━━━━━━━━━━━━━━━━━━━━━━━━━\u001b[0m \u001b[32m3.3/3.3 MB\u001b[0m \u001b[31m40.5 MB/s\u001b[0m eta \u001b[36m0:00:00\u001b[0m\n",
            "\u001b[?25hDownloading penaltymodel-1.1.0-py3-none-any.whl (36 kB)\n",
            "Downloading Authlib-1.3.2-py2.py3-none-any.whl (225 kB)\n",
            "\u001b[2K   \u001b[90m━━━━━━━━━━━━━━━━━━━━━━━━━━━━━━━━━━━━━━━━\u001b[0m \u001b[32m225.1/225.1 kB\u001b[0m \u001b[31m16.7 MB/s\u001b[0m eta \u001b[36m0:00:00\u001b[0m\n",
            "\u001b[?25hDownloading diskcache-5.6.3-py3-none-any.whl (45 kB)\n",
            "\u001b[2K   \u001b[90m━━━━━━━━━━━━━━━━━━━━━━━━━━━━━━━━━━━━━━━━\u001b[0m \u001b[32m45.5/45.5 kB\u001b[0m \u001b[31m3.4 MB/s\u001b[0m eta \u001b[36m0:00:00\u001b[0m\n",
            "\u001b[?25hDownloading fasteners-0.19-py3-none-any.whl (18 kB)\n",
            "Downloading homebase-1.0.1-py2.py3-none-any.whl (11 kB)\n",
            "Downloading orjson-3.10.7-cp310-cp310-manylinux_2_17_x86_64.manylinux2014_x86_64.whl (141 kB)\n",
            "\u001b[2K   \u001b[90m━━━━━━━━━━━━━━━━━━━━━━━━━━━━━━━━━━━━━━━━\u001b[0m \u001b[32m141.9/141.9 kB\u001b[0m \u001b[31m11.8 MB/s\u001b[0m eta \u001b[36m0:00:00\u001b[0m\n",
            "\u001b[?25hDownloading plucky-0.4.3-py2.py3-none-any.whl (10 kB)\n",
            "Installing collected packages: plucky, homebase, orjson, fasteners, dwave-optimization, dwave-gate, diskcache, dimod, penaltymodel, dwave-samplers, dwave-preprocessing, dwave-networkx, minorminer, dwavebinarycsp, dwave-tabu, dwave-neal, dwave-greedy, authlib, dwave-cloud-client, dwave-system, dwave-inspector, dwave-hybrid, dwave-ocean-sdk\n",
            "Successfully installed authlib-1.3.2 dimod-0.12.17 diskcache-5.6.3 dwave-cloud-client-0.13.1 dwave-gate-0.3.2 dwave-greedy-0.3.0 dwave-hybrid-0.6.12 dwave-inspector-0.5.1 dwave-neal-0.6.0 dwave-networkx-0.8.15 dwave-ocean-sdk-8.0.1 dwave-optimization-0.3.0 dwave-preprocessing-0.6.6 dwave-samplers-1.3.0 dwave-system-1.26.0 dwave-tabu-0.5.0 dwavebinarycsp-0.3.0 fasteners-0.19 homebase-1.0.1 minorminer-0.2.15 orjson-3.10.7 penaltymodel-1.1.0 plucky-0.4.3\n"
          ]
        }
      ],
      "source": [
        "!pip install dwave-ocean-sdk"
      ]
    },
    {
      "cell_type": "markdown",
      "metadata": {
        "id": "e-DtKnWefLuy"
      },
      "source": [
        "# *Use below install step ONLY if above fails or not working, install SDK only once to avoid overwrite issues*"
      ]
    },
    {
      "cell_type": "code",
      "execution_count": null,
      "metadata": {
        "id": "jcdiVssncK-a"
      },
      "outputs": [],
      "source": [
        "!git clone https://github.com/dwavesystems/dwave-ocean-sdk.git\n",
        "!cd dwave-ocean-sdk\n",
        "!python setup.py install"
      ]
    },
    {
      "cell_type": "markdown",
      "metadata": {
        "id": "n-lclnUgcK-p"
      },
      "source": [
        "In this section, we will discuss the following through the number division problem.\n",
        "\n",
        "- How to make QUBO and Ising models\n",
        "- How to use Ocean\n",
        "- Optimization for different annealing parameters"
      ]
    },
    {
      "cell_type": "markdown",
      "metadata": {
        "id": "l6658DVxcLBm"
      },
      "source": [
        "## Formulation\n",
        "\n",
        "There are two formats tha can be run on D-Wave machine: Ising model and QUBO. We won't got into the details here, will describe the minimum requirements for using Ocean.\n",
        "\n",
        "### QUBO and Ising model\n",
        "\n",
        "#### QUBO\n",
        "\n",
        "In the case of QUBO, we consider the following Hamiltonian for binary variable $q_{i} \\in \\{0, 1\\}$.\n",
        "\n",
        "$$\n",
        "H\\left(\\left\\{q_{i}\\right\\}\\right)= \\sum_{i} Q_{i i} q_{i} + \\sum_{i>j} Q_{i j} q_{i} q_{j}\n",
        "$$\n",
        "\n",
        "In solving QUBO, the classical computer calculates $Q_{ii}$ and $Q_{i j}$ in the above equation. The next step is to run on D-Wave machine.\n",
        "\n",
        "#### Ising model\n",
        "\n",
        "In the case of Ising model, we consider the following Hamiltonian for spin variable $\\sigma_{i} \\in \\{1, -1\\}$.\n",
        "\n",
        "$$\n",
        "H\\left(\\left\\{\\sigma_{i}\\right\\}\\right)=\\sum_{i} h_{i} \\sigma_{i} + \\sum_{i>j} J_{i j} \\sigma_{i} \\sigma_{j}\n",
        "$$\n",
        "\n",
        "In solving Ising model, the classical computer calculates $h_{i}$と$J_{i j}$ in the above equation. The next step is to run on D-Wave machine.\n",
        "\n",
        "#### Reciprocal conversion\n",
        "\n",
        "QUBO and Ising model canbe converted to each other by the conversion formula $q_{i} = (\\sigma_{i} + 1) / 2$. It doesn't matter which way you formulate the Hamiltonian, so we can choose the one that is easier to consider from the subject matter. However, it should be noted that the D-Wave machine may behave differently for two different forms of the same problem."
      ]
    },
    {
      "cell_type": "markdown",
      "metadata": {
        "id": "sqY-nXEDcLCC"
      },
      "source": [
        "### Number division problem\n",
        "\n",
        "We consider dividing a fiven set of integers into two groups. The problem of dividing each group so that the sum of each group is the same is called a number division problem.\n",
        "\n",
        "For example, we divide the following set of intergers $C$ into two groups."
      ]
    },
    {
      "cell_type": "code",
      "execution_count": 2,
      "metadata": {
        "ExecuteTime": {
          "end_time": "2019-04-15T12:30:57.465840Z",
          "start_time": "2019-04-15T12:30:57.462152Z"
        },
        "id": "cbaKDkQQcLCY"
      },
      "outputs": [],
      "source": [
        "# set integers C\n",
        "C = [2, 10, 3, 8, 5, 7, 9, 5, 3, 2]\n",
        "N = len(C)"
      ]
    },
    {
      "cell_type": "markdown",
      "metadata": {
        "id": "hAOGZEClcLDR"
      },
      "source": [
        "In this case, There are 23 optimal solutions where the difference between the sum of the two is zero. There are multiple states in which the energy, called the difference in sums, is the same value, but the solutions are different. These states are called \"degenerate\" in physical terms.\n",
        "For example, a optimal solution is $\\{2,5,3,10,7\\}, \\{2,5,3,9,8\\}$ (both of the sum of two is 27)."
      ]
    },
    {
      "cell_type": "markdown",
      "metadata": {
        "id": "vVfUqAcJcLD1"
      },
      "source": [
        "#### QUBO\n",
        "\n",
        "We will make the formulation with the goal of making the difference between the sum of the two groups equal to zero.\n",
        "\n",
        "(Sum of the numbers belonging to group A) - (Sum of the numbers belonging to group B) = 0\n",
        "\n",
        "We need binary variables $q_{i}$. We define $q_{i} = 0$ if the $i$th number belongs to group A and $q_{i} = 1$ if it belongs to group B.\n",
        "\n",
        "Then the sum of group A is $\\sum_{i=1}^{N}c_{i}q_{i}$ and the sum of group B is $\\sum_{i=1}^{N}c_{i}(1 - q_{i})$, so we obtain\n",
        "\n",
        "$$\\sum_{i=1}^{N} c_{i} q_{i}-\\sum_{i=1}^{N} c_{i}\\left(1-q_{i}\\right)=0$$\n",
        "\n",
        "Since we want to solver the problem in that this equality holds, this must represent a `constraint`.\n",
        "\n",
        "We use the fine method as a way of expressiong such an equality constraint.\n",
        "\n",
        "> (the fine method)\n",
        "> Let $f(x)$ be the cost (objective function) to be minimized and $g(x)=0$ for the constraint. Solving the optimization problem by adding the following terms usig the hyperparameter $\\lambda$ to solve the optimization problem is called a fine method.\n",
        "> $$\\min_{x} \\left\\{ f(x) + \\lambda g(x)^2\\right\\}$$\n",
        "\n",
        "Therefore, QUBO for number division problem is as follows.\n",
        "\n",
        "$$\n",
        "H\\left(\\left\\{q_{i}\\right\\}\\right)=\\left(\\sum_{i=1}^{N} c_{i} q_{i}-\\sum_{i=1}^{N} c_{i}\\left(1-q_{i}\\right)\\right)^{2}\n",
        "$$\n",
        "\n",
        "In order to perform the calculation on the D-Wave machine, we need to find the value of $Q_{i j}$. We expand and organize $H\\left(\\left\\{\\sigma_{i}\\right\\}\\right)$.\n",
        "\n",
        "$$\n",
        "H\\left(\\left\\{q_{i}\\right\\}\\right)=\\left(2\\sum_{i=1}^{N} c_{i} q_{i} - \\sum_{i=1}^{N} c_{i} \\right)^{2} =4 \\sum_{i=1}^{N} c_{i} \\left( c_{i} - \\sum_{j=1}^{N} c_{j}\\right) q_{i}+8 \\sum_{i=1}^{N} \\sum_{j=i+1}^{N} c_{i} c_{j} q_{i} q_{j}+\\left(\\sum_{i=1}^{N} c_{i}\\right)^{2}\n",
        "$$\n",
        "\n",
        "Therefore, we obtain\n",
        "\n",
        "$$Q_{i i} = 4 c_{i} \\left( c_{i} - \\sum_{j=1}^{N} c_{j}\\right)$$\n",
        "$$Q_{i j} = 8 c_{i} c_{j}$$\n",
        "\n",
        "The last term is a constant that does not depends on $\\{ q_i\\}$. We can ignore this term in looking for combinations of $\\{ q_i\\}$ that minimize $H{(\\{q_i\\})}$."
      ]
    },
    {
      "cell_type": "code",
      "execution_count": 3,
      "metadata": {
        "ExecuteTime": {
          "end_time": "2019-04-15T12:30:57.472827Z",
          "start_time": "2019-04-15T12:30:57.469113Z"
        },
        "id": "lgrTG0FQcLED"
      },
      "outputs": [],
      "source": [
        "# set the above Q_{ii} & Q_{ij} as a dictionary type such as {(i, j): Q_{ij}}\n",
        "Q = {}\n",
        "for i in range(N):\n",
        "    Q[i, i] = 4 * C[i] * (C[i] - sum(C))\n",
        "    for j in range(i + 1, N):\n",
        "        Q[i, j] = 8 * C[i] * C[j]"
      ]
    },
    {
      "cell_type": "markdown",
      "metadata": {
        "id": "HOuMmB57cLEJ"
      },
      "source": [
        "In order to under stand target issues such as degree of coupling and coefficient ratios, we visualize QUBO."
      ]
    },
    {
      "cell_type": "code",
      "execution_count": 4,
      "metadata": {
        "ExecuteTime": {
          "end_time": "2019-04-15T12:30:58.871404Z",
          "start_time": "2019-04-15T12:30:57.476381Z"
        },
        "id": "JvnR8_drcLEN"
      },
      "outputs": [],
      "source": [
        "import numpy as np\n",
        "import matplotlib.cm as cm\n",
        "import matplotlib.pyplot as plt\n",
        "%matplotlib inline"
      ]
    },
    {
      "cell_type": "code",
      "execution_count": 5,
      "metadata": {
        "ExecuteTime": {
          "end_time": "2019-04-15T12:30:58.881716Z",
          "start_time": "2019-04-15T12:30:58.873657Z"
        },
        "id": "r4xjvAAzcLEW"
      },
      "outputs": [],
      "source": [
        "def show_qubo(qubo, cmap=cm.GnBu, save_path=None):\n",
        "    n_qubo = max(sorted(qubo.keys())[-1][0], sorted(qubo.keys(), key=lambda x: x[1])[-1][1]) + 1\n",
        "\n",
        "    np_qubo = np.zeros((n_qubo, n_qubo))\n",
        "    for (pos_x, pos_y), coeff in qubo.items():\n",
        "        np_qubo[pos_x][pos_y] = coeff\n",
        "\n",
        "    plt.imshow(np_qubo, cmap=cmap)\n",
        "    plt.colorbar()\n",
        "    if save_path is not None:\n",
        "        plt.savefig(save_path)\n",
        "    plt.show()"
      ]
    },
    {
      "cell_type": "code",
      "execution_count": 6,
      "metadata": {
        "ExecuteTime": {
          "end_time": "2019-04-15T12:30:59.101750Z",
          "start_time": "2019-04-15T12:30:58.885051Z"
        },
        "colab": {
          "base_uri": "https://localhost:8080/",
          "height": 430
        },
        "id": "U0m_gdiXcLEc",
        "outputId": "b13e090e-2269-435c-b024-a4b82cf7f5dc"
      },
      "outputs": [
        {
          "data": {
            "image/png": "[encoded data removed]",
            "text/plain": [
              "<Figure size 640x480 with 2 Axes>"
            ]
          },
          "metadata": {},
          "output_type": "display_data"
        }
      ],
      "source": [
        "show_qubo(Q)"
      ]
    },
    {
      "cell_type": "markdown",
      "metadata": {
        "id": "0kD8e7SCcLEm"
      },
      "source": [
        "The diagonal component represents $Q_{ii}$ and the non-diagonal component represents $Q_{ij}$. It turns out that the number division problem is and all-coupling problem, where there is an interaction between all the qubits."
      ]
    },
    {
      "cell_type": "markdown",
      "metadata": {
        "id": "KqTNf_Y3cLEr"
      },
      "source": [
        "#### Ising model\n",
        "\n",
        "From the formula for Ising model and teh QUBO interconversion, the number division problem can be expressed in the ising model in the following concise formula.\n",
        "\n",
        "\n",
        "$$\n",
        "H\\left(\\left\\{\\sigma_{i}\\right\\}\\right) = \\left(\\sum_{i} c_{i} \\sigma_{i}\\right)^2\n",
        "$$\n",
        "\n",
        "Same as QUBO, In order to perform the calculation on the D-Wave machine, we need to find the value of $h_i, J_{ij}$. Note that $\\sigma_i^2 = 1$, we expand $H\\left(\\left{\\sigma_{i}\\right\\}\\right)$.\n",
        "\n",
        "$$\n",
        "H\\left(\\left\\{\\sigma_{i}\\right\\}\\right) = \\sum_{i} c_{i}^2 \\sigma_{i}^2 + 2 \\sum_{i < j} c_{i} c_{j} \\sigma_{i} \\sigma_{j} = \\sum_{i} c_{i}^2 + 2 \\sum_{i < j} c_{i} c_{j} \\sigma_{i} \\sigma_{j}\n",
        "$$\n",
        "\n",
        "Therefore, we obtain\n",
        "\n",
        "$$h_{i} = 0$$\n",
        "\n",
        "$$J_{i j} = 2 c_{i} c_{j}$$\n",
        "\n",
        "As with the discussion in QUBO, we ignore the constant term."
      ]
    },
    {
      "cell_type": "code",
      "execution_count": 7,
      "metadata": {
        "ExecuteTime": {
          "end_time": "2019-04-15T12:30:59.108701Z",
          "start_time": "2019-04-15T12:30:59.103910Z"
        },
        "id": "hWmqc3pDcLE0"
      },
      "outputs": [],
      "source": [
        "# set h_i & J_ij\n",
        "h = {}\n",
        "J = {}\n",
        "for i in range(N):\n",
        "    h[i] = 0\n",
        "    for j in range(i + 1, N):\n",
        "        J[i, j] = 2 * C[i] * C[j]"
      ]
    },
    {
      "cell_type": "markdown",
      "metadata": {
        "id": "BsuKMrTdcLFn"
      },
      "source": [
        "Ocean's basic library, dimod `.BinaryQuadraticModel()` allows Ising model and QUBO's interconversion.\n",
        "\n",
        "- .BinaryQuadraticModel(linear, quadratic, offset, vartype)\n",
        "    * linear: dict, h_i(or Q_{ii})\n",
        "    * quadratic: dict, J_ij(or Q_{ij})\n",
        "    * offset: number, Energy offset in conversion\n",
        "    * vartype: set 'SPIN' if use ising model or 'BINARY' if use QUBO"
      ]
    },
    {
      "cell_type": "code",
      "execution_count": 8,
      "metadata": {
        "ExecuteTime": {
          "end_time": "2019-04-15T12:30:59.185784Z",
          "start_time": "2019-04-15T12:30:59.111952Z"
        },
        "id": "fZUxFNvBcLFq"
      },
      "outputs": [],
      "source": [
        "import dimod"
      ]
    },
    {
      "cell_type": "code",
      "execution_count": 9,
      "metadata": {
        "ExecuteTime": {
          "end_time": "2019-04-15T12:30:59.194658Z",
          "start_time": "2019-04-15T12:30:59.188913Z"
        },
        "id": "qoe496t4cLFw",
        "scrolled": true
      },
      "outputs": [],
      "source": [
        "# convert from ising model to QUBO\n",
        "model = dimod.BinaryQuadraticModel(h, J, 0.0, vartype='SPIN')\n",
        "qubo, offset = model.to_qubo()"
      ]
    },
    {
      "cell_type": "code",
      "execution_count": 10,
      "metadata": {
        "ExecuteTime": {
          "end_time": "2019-04-15T12:30:59.337789Z",
          "start_time": "2019-04-15T12:30:59.197763Z"
        },
        "colab": {
          "base_uri": "https://localhost:8080/",
          "height": 430
        },
        "id": "JUd8l5K1cLFz",
        "outputId": "b3a83ace-05e7-4b1a-b11e-b48fcff49dd5"
      },
      "outputs": [
        {
          "data": {
            "image/png": "[encoded data removed]",
            "text/plain": [
              "<Figure size 640x480 with 2 Axes>"
            ]
          },
          "metadata": {},
          "output_type": "display_data"
        }
      ],
      "source": [
        "show_qubo(qubo)"
      ]
    },
    {
      "cell_type": "markdown",
      "metadata": {
        "id": "9bQt3RX5cLF6"
      },
      "source": [
        "We have expanded the constructed Hamiltonian to find the coefficient matrices such as $Q_{i i}, Q_{i j}$ and $h_{i}, J_{i j}$. However, When dealing with more complex Hamiltonian, manual calculations are more complicated and may result in errors. Therefore, we can use PyQUBO, domain-specific language developed by Recruit Communications and create QUBO and ising models without having to expand Hamiltonian. For more details of PyQUBO, see also documents below.\n",
        "\n",
        "* Github: https://github.com/recruit-communications/pyqubo  \n",
        "* Document: https://pyqubo.readthedocs.io/en/latest/\n",
        "* OpenJijTutorial: https://github.com/OpenJij/OpenJijTutorial/blob/master/3-PyQUBO_2_OpenJij.ipynb  \n",
        "* Qiita: https://qiita.com/ynntech/items/fcfe7caf49f6a8eb3c53"
      ]
    },
    {
      "cell_type": "markdown",
      "metadata": {
        "id": "5lsQfwltcLF9"
      },
      "source": [
        "## Optimization on D-Wave machine\n",
        "\n",
        "Let us consider optimizing this problem using D-Wave machine. In this tutorial, we show (1). solving simply, (2). solving by varying the number of readings, (3). solving by changing annealing time.\n",
        "\n",
        "\n",
        "### Solve Ising model\n",
        "\n",
        "We use D-Wave machin sampler `DWaveSampler`, and use `EmbeddingComposite` for Embedding the problem in the chimeragraph of D-Wave machine."
      ]
    },
    {
      "cell_type": "code",
      "execution_count": 11,
      "metadata": {
        "ExecuteTime": {
          "end_time": "2019-04-15T12:31:01.159068Z",
          "start_time": "2019-04-15T12:30:59.340179Z"
        },
        "id": "UTuGNkjrcLGL"
      },
      "outputs": [],
      "source": [
        "from dwave.system.samplers import DWaveSampler\n",
        "from dwave.system.composites import EmbeddingComposite"
      ]
    },
    {
      "cell_type": "code",
      "execution_count": 15,
      "metadata": {
        "ExecuteTime": {
          "end_time": "2019-04-15T12:31:02.135118Z",
          "start_time": "2019-04-15T12:31:01.161905Z"
        },
        "id": "oP2uJqWBcLGN"
      },
      "outputs": [],
      "source": [
        "# set the connection information as an option\n",
        "endpoint = 'https://cloud.dwavesys.com/sapi'\n",
        "token = ''\n",
        "#solver = 'DW_2000Q_VFYC_5'\n",
        "solver = 'Advantage_system4.1'\n",
        "\n",
        "# use DWaveSampler\n",
        "dw = DWaveSampler(endpoint=endpoint, token=token, solver=solver)\n",
        "# embed to Chimera graph\n",
        "sampler = EmbeddingComposite(dw)"
      ]
    },
    {
      "cell_type": "code",
      "execution_count": 16,
      "metadata": {
        "ExecuteTime": {
          "end_time": "2019-04-15T12:31:03.906310Z",
          "start_time": "2019-04-15T12:31:02.137216Z"
        },
        "id": "_IOOFJx3cLGR"
      },
      "outputs": [],
      "source": [
        "# in the case of ising model, use the following\n",
        "response = sampler.sample_ising(h, J, num_reads=100)\n",
        "\n",
        "# in the case of QUBO, use the following\n",
        "# response = sampler.sample_qubo(Q, num_reads=100)"
      ]
    },
    {
      "cell_type": "markdown",
      "metadata": {
        "id": "0iJn3qM3cLGU"
      },
      "source": [
        "Let us check result. We can see states of solution, energy, frequence of occurrence, and percentage of broken chain on D-Wave machine with `.record`."
      ]
    },
    {
      "cell_type": "code",
      "execution_count": 17,
      "metadata": {
        "ExecuteTime": {
          "end_time": "2019-04-15T12:31:03.913301Z",
          "start_time": "2019-04-15T12:31:03.908557Z"
        },
        "colab": {
          "base_uri": "https://localhost:8080/"
        },
        "id": "iTDf1Ud5cLGW",
        "outputId": "7cfab174-a7d4-4140-b8f2-0e4966844375"
      },
      "outputs": [
        {
          "data": {
            "text/plain": [
              "rec.array([([ 1,  1, -1, -1,  1, -1, -1,  1,  1,  1], -370., 1, 0. ),\n",
              "           ([ 1, -1, -1,  1,  1,  1, -1,  1, -1, -1], -370., 1, 0. ),\n",
              "           ([ 1, -1,  1,  1,  1,  1, -1, -1, -1,  1], -370., 1, 0. ),\n",
              "           ([-1, -1, -1,  1,  1, -1,  1,  1, -1, -1], -370., 2, 0. ),\n",
              "           ([ 1, -1,  1,  1, -1,  1, -1,  1, -1,  1], -370., 1, 0. ),\n",
              "           ([-1,  1,  1, -1, -1, -1,  1,  1, -1, -1], -370., 1, 0. ),\n",
              "           ([ 1, -1, -1,  1,  1,  1, -1, -1,  1,  1], -370., 2, 0. ),\n",
              "           ([ 1,  1, -1, -1,  1,  1, -1, -1,  1, -1], -370., 2, 0. ),\n",
              "           ([ 1,  1,  1, -1,  1,  1, -1, -1, -1, -1], -370., 1, 0. ),\n",
              "           ([ 1, -1,  1, -1,  1,  1, -1,  1,  1,  1], -370., 2, 0. ),\n",
              "           ([ 1,  1,  1, -1, -1, -1,  1, -1,  1, -1], -370., 1, 0. ),\n",
              "           ([ 1, -1, -1,  1, -1, -1,  1,  1,  1, -1], -370., 1, 0. ),\n",
              "           ([ 1,  1, -1,  1, -1,  1, -1, -1, -1, -1], -370., 2, 0. ),\n",
              "           ([ 1, -1,  1,  1, -1, -1,  1, -1,  1,  1], -370., 1, 0. ),\n",
              "           ([-1, -1, -1,  1, -1,  1,  1, -1,  1, -1], -370., 2, 0. ),\n",
              "           ([ 1, -1, -1,  1,  1, -1,  1, -1,  1, -1], -370., 1, 0. ),\n",
              "           ([ 1,  1, -1, -1, -1,  1, -1,  1,  1, -1], -370., 1, 0. ),\n",
              "           ([-1, -1, -1,  1, -1, -1,  1,  1,  1,  1], -370., 1, 0. ),\n",
              "           ([-1, -1,  1, -1,  1, -1,  1,  1,  1,  1], -370., 1, 0. ),\n",
              "           ([ 1,  1, -1,  1, -1, -1, -1,  1,  1, -1], -366., 1, 0. ),\n",
              "           ([ 1,  1,  1, -1,  1, -1, -1,  1,  1, -1], -366., 1, 0. ),\n",
              "           ([ 1,  1,  1,  1, -1, -1, -1, -1,  1, -1], -366., 1, 0. ),\n",
              "           ([ 1,  1, -1, -1,  1, -1,  1, -1, -1,  1], -366., 1, 0. ),\n",
              "           ([-1,  1,  1,  1, -1, -1, -1,  1, -1, -1], -366., 2, 0. ),\n",
              "           ([-1,  1, -1,  1,  1, -1, -1, -1,  1, -1], -366., 1, 0. ),\n",
              "           ([ 1, -1,  1,  1,  1, -1, -1,  1,  1, -1], -366., 1, 0. ),\n",
              "           ([ 1, -1, -1,  1, -1,  1,  1, -1, -1,  1], -366., 1, 0. ),\n",
              "           ([ 1, -1, -1,  1, -1, -1,  1,  1, -1,  1], -366., 1, 0. ),\n",
              "           ([ 1, -1,  1,  1,  1, -1, -1,  1,  1,  1], -366., 2, 0. ),\n",
              "           ([ 1, -1,  1, -1, -1,  1,  1,  1, -1,  1], -366., 1, 0. ),\n",
              "           ([ 1, -1,  1, -1,  1,  1,  1, -1, -1,  1], -366., 1, 0. ),\n",
              "           ([ 1, -1,  1,  1, -1,  1, -1,  1,  1, -1], -366., 2, 0. ),\n",
              "           ([ 1, -1,  1,  1,  1,  1, -1, -1,  1, -1], -366., 1, 0. ),\n",
              "           ([-1,  1,  1,  1,  1, -1, -1, -1, -1, -1], -366., 1, 0. ),\n",
              "           ([ 1,  1,  1,  1,  1, -1, -1, -1, -1, -1], -366., 1, 0. ),\n",
              "           ([ 1, -1, -1, -1,  1,  1,  1,  1, -1, -1], -366., 2, 0. ),\n",
              "           ([-1, -1,  1,  1,  1, -1,  1, -1,  1, -1], -366., 1, 0. ),\n",
              "           ([-1, -1,  1,  1,  1,  1, -1,  1, -1, -1], -366., 2, 0. ),\n",
              "           ([-1, -1, -1,  1, -1,  1,  1, -1, -1,  1], -366., 1, 0. ),\n",
              "           ([ 1, -1,  1, -1, -1,  1,  1, -1,  1,  1], -366., 1, 0. ),\n",
              "           ([-1, -1, -1, -1,  1,  1,  1,  1, -1, -1], -366., 1, 0. ),\n",
              "           ([ 1, -1,  1,  1, -1,  1, -1, -1,  1,  1], -354., 1, 0. ),\n",
              "           ([-1, -1,  1, -1,  1,  1, -1,  1,  1,  1], -354., 1, 0. ),\n",
              "           ([ 1, -1,  1, -1,  1,  1, -1,  1,  1, -1], -354., 2, 0. ),\n",
              "           ([ 1,  1, -1,  1, -1, -1,  1, -1, -1, -1], -354., 1, 0. ),\n",
              "           ([ 1, -1,  1,  1, -1, -1,  1, -1,  1, -1], -354., 2, 0. ),\n",
              "           ([-1, -1,  1, -1,  1,  1,  1, -1,  1,  1], -354., 1, 0. ),\n",
              "           ([ 1,  1, -1, -1,  1,  1, -1, -1,  1,  1], -354., 1, 0. ),\n",
              "           ([ 1, -1,  1,  1, -1,  1, -1,  1, -1, -1], -354., 1, 0. ),\n",
              "           ([ 1, -1,  1,  1,  1, -1,  1, -1, -1,  1], -354., 1, 0. ),\n",
              "           ([ 1, -1,  1, -1, -1,  1,  1,  1,  1, -1], -354., 1, 0. ),\n",
              "           ([ 1, -1, -1,  1,  1, -1,  1, -1,  1,  1], -354., 1, 0. ),\n",
              "           ([-1, -1, -1,  1, -1,  1,  1,  1, -1, -1], -354., 1, 0. ),\n",
              "           ([ 1, -1, -1,  1, -1,  1, -1,  1,  1, -1], -354., 1, 0. ),\n",
              "           ([ 1, -1, -1,  1,  1, -1,  1,  1, -1, -1], -354., 1, 0. ),\n",
              "           ([-1, -1,  1, -1, -1,  1,  1,  1,  1,  1], -354., 1, 0. ),\n",
              "           ([ 1,  1,  1, -1, -1, -1,  1,  1, -1, -1], -354., 1, 0. ),\n",
              "           ([ 1,  1,  1, -1,  1, -1, -1,  1, -1, -1], -354., 1, 0. ),\n",
              "           ([ 1, -1,  1,  1,  1,  1, -1, -1, -1, -1], -354., 1, 0. ),\n",
              "           ([ 1, -1,  1,  1, -1,  1,  1, -1, -1, -1], -354., 2, 0. ),\n",
              "           ([-1,  1,  1, -1, -1, -1,  1,  1, -1,  1], -354., 1, 0. ),\n",
              "           ([ 1,  1, -1,  1, -1, -1, -1,  1, -1, -1], -354., 2, 0. ),\n",
              "           ([-1, -1, -1,  1, -1, -1,  1,  1,  1, -1], -354., 2, 0. ),\n",
              "           ([ 1,  1,  1, -1, -1, -1, -1,  1,  1,  1], -354., 2, 0. ),\n",
              "           ([ 1, -1,  1, -1, -1,  1,  1, -1,  1, -1], -334., 1, 0. ),\n",
              "           ([ 1, -1,  1,  1, -1, -1,  1, -1, -1,  1], -334., 1, 0. ),\n",
              "           ([ 1, -1, -1,  1,  1,  1, -1, -1, -1,  1], -334., 1, 0. ),\n",
              "           ([ 1, -1, -1,  1, -1, -1,  1,  1, -1, -1], -334., 1, 0. ),\n",
              "           ([ 1,  1,  1, -1, -1,  1, -1, -1, -1,  1], -334., 1, 0. ),\n",
              "           ([-1,  1, -1, -1, -1, -1,  1,  1, -1, -1], -334., 1, 0. ),\n",
              "           ([ 1,  1, -1, -1,  1,  1, -1, -1, -1, -1], -334., 2, 0. ),\n",
              "           ([ 1,  1, -1, -1, -1,  1, -1,  1, -1, -1], -334., 2, 0. ),\n",
              "           ([ 1, -1,  1,  1,  1,  1, -1,  1, -1, -1], -334., 1, 0. ),\n",
              "           ([ 1, -1, -1,  1,  1, -1,  1, -1, -1, -1], -334., 1, 0. ),\n",
              "           ([ 1,  1,  1, -1, -1, -1, -1,  1,  1, -1], -306., 1, 0. ),\n",
              "           ([ 1,  1,  1,  1,  1, -1, -1, -1,  1, -1], -306., 1, 0. ),\n",
              "           ([-1, -1, -1,  1,  1,  1, -1, -1,  1, -1], -306., 1, 0. ),\n",
              "           ([ 1, -1,  1,  1,  1, -1, -1, -1,  1,  1], -306., 1, 0. ),\n",
              "           ([-1,  1,  1, -1,  1,  1, -1,  1, -1,  1], -270., 1, 0.1),\n",
              "           ([ 1, -1,  1,  1, -1, -1,  1, -1, -1, -1], -270., 1, 0. ),\n",
              "           ([-1,  1,  1, -1, -1, -1,  1, -1, -1, -1], -270., 1, 0. )],\n",
              "          dtype=[('sample', 'i1', (10,)), ('energy', '<f8'), ('num_occurrences', '<i8'), ('chain_break_fraction', '<f8')])"
            ]
          },
          "execution_count": 17,
          "metadata": {},
          "output_type": "execute_result"
        }
      ],
      "source": [
        "response.record"
      ]
    },
    {
      "cell_type": "markdown",
      "metadata": {
        "id": "C7zguT74cLGY"
      },
      "source": [
        "We find out how much of this includes the optimal solution. In order to detect optimal solurion, here we find the energy value of each solution."
      ]
    },
    {
      "cell_type": "code",
      "execution_count": 18,
      "metadata": {
        "ExecuteTime": {
          "end_time": "2019-04-15T12:31:03.922283Z",
          "start_time": "2019-04-15T12:31:03.916047Z"
        },
        "id": "UphoJTDHcLGg"
      },
      "outputs": [],
      "source": [
        "def calcurate_energy(solution, vartype='BINARY'):\n",
        "    if vartype == 'BINARY':\n",
        "        ene = sum(C) ** 2  # offset\n",
        "        for i in range(N):\n",
        "            ene += Q[i, i] * solution[i]\n",
        "            for j in range(i + 1, N):\n",
        "                ene += Q[i, j] * solution[i] * solution[j]\n",
        "    elif vartype == 'SPIN':\n",
        "        ene = sum(C[i] ** 2 for i in range(N))\n",
        "        for i in range(N):\n",
        "            for j in range(i + 1, N):\n",
        "                ene += J[i, j] * solution[i] * solution[j]\n",
        "    else:\n",
        "        raise ValueError(\"vartype mast be 'BINARY' or 'SPIN'.\")\n",
        "\n",
        "    return ene"
      ]
    },
    {
      "cell_type": "code",
      "execution_count": 19,
      "metadata": {
        "id": "aGMb49G3cLGt"
      },
      "outputs": [],
      "source": [
        "# count the number of optimal solution\n",
        "num_optimal_sol = 0\n",
        "optimal_sol = []\n",
        "twenty_sol = []\n",
        "for state in response.record:\n",
        "    # 0th contains a list of state, 2nd contains the number of occurrences in .record\n",
        "    solution = state[0]\n",
        "    num_oc = state[2]\n",
        "    # compute energy\n",
        "    energy = calcurate_energy(solution, vartype='SPIN')\n",
        "    # count up the times when the energy is zero\n",
        "    if energy == 0.0:\n",
        "        num_optimal_sol += num_oc\n",
        "        optimal_sol.append(solution)\n",
        "    # preserve a result of 20 µs (we use later)\n",
        "    twenty_sol.append(solution)"
      ]
    },
    {
      "cell_type": "code",
      "execution_count": 31,
      "metadata": {
        "ExecuteTime": {
          "end_time": "2019-04-15T12:31:03.948076Z",
          "start_time": "2019-04-15T12:31:03.944016Z"
        },
        "colab": {
          "base_uri": "https://localhost:8080/"
        },
        "id": "kd_hUVJ4cLGz",
        "outputId": "ba5ea564-e3de-45c0-c8ee-a26a1b331b71"
      },
      "outputs": [
        {
          "data": {
            "text/plain": [
              "15"
            ]
          },
          "execution_count": 31,
          "metadata": {},
          "output_type": "execute_result"
        }
      ],
      "source": [
        "num_optimal_sol"
      ]
    },
    {
      "cell_type": "markdown",
      "metadata": {
        "id": "EkZk2PcKcLG7"
      },
      "source": [
        "We obtain three optimal solutions including duplicates. The two groups are as follows."
      ]
    },
    {
      "cell_type": "code",
      "execution_count": 20,
      "metadata": {
        "colab": {
          "base_uri": "https://localhost:8080/"
        },
        "id": "5QcQ6aGwcLG-",
        "outputId": "782221b8-9903-4c1a-a535-a1e2132a6230"
      },
      "outputs": [
        {
          "name": "stdout",
          "output_type": "stream",
          "text": [
            "[ 1  1 -1 -1  1 -1 -1  1  1  1]\n",
            "Group A:  [2, 10, 5, 5, 3, 2] , Sum =  27\n",
            "Group B:  [3, 8, 7, 9] , Sum =  27\n",
            "[ 1 -1 -1  1  1  1 -1  1 -1 -1]\n",
            "Group A:  [2, 8, 5, 7, 5] , Sum =  27\n",
            "Group B:  [10, 3, 9, 3, 2] , Sum =  27\n",
            "[ 1 -1  1  1  1  1 -1 -1 -1  1]\n",
            "Group A:  [2, 3, 8, 5, 7, 2] , Sum =  27\n",
            "Group B:  [10, 9, 5, 3] , Sum =  27\n",
            "[-1 -1 -1  1  1 -1  1  1 -1 -1]\n",
            "Group A:  [8, 5, 9, 5] , Sum =  27\n",
            "Group B:  [2, 10, 3, 7, 3, 2] , Sum =  27\n",
            "[ 1 -1  1  1 -1  1 -1  1 -1  1]\n",
            "Group A:  [2, 3, 8, 7, 5, 2] , Sum =  27\n",
            "Group B:  [10, 5, 9, 3] , Sum =  27\n",
            "[-1  1  1 -1 -1 -1  1  1 -1 -1]\n",
            "Group A:  [10, 3, 9, 5] , Sum =  27\n",
            "Group B:  [2, 8, 5, 7, 3, 2] , Sum =  27\n",
            "[ 1 -1 -1  1  1  1 -1 -1  1  1]\n",
            "Group A:  [2, 8, 5, 7, 3, 2] , Sum =  27\n",
            "Group B:  [10, 3, 9, 5] , Sum =  27\n",
            "[ 1  1 -1 -1  1  1 -1 -1  1 -1]\n",
            "Group A:  [2, 10, 5, 7, 3] , Sum =  27\n",
            "Group B:  [3, 8, 9, 5, 2] , Sum =  27\n",
            "[ 1  1  1 -1  1  1 -1 -1 -1 -1]\n",
            "Group A:  [2, 10, 3, 5, 7] , Sum =  27\n",
            "Group B:  [8, 9, 5, 3, 2] , Sum =  27\n",
            "[ 1 -1  1 -1  1  1 -1  1  1  1]\n",
            "Group A:  [2, 3, 5, 7, 5, 3, 2] , Sum =  27\n",
            "Group B:  [10, 8, 9] , Sum =  27\n",
            "[ 1  1  1 -1 -1 -1  1 -1  1 -1]\n",
            "Group A:  [2, 10, 3, 9, 3] , Sum =  27\n",
            "Group B:  [8, 5, 7, 5, 2] , Sum =  27\n",
            "[ 1 -1 -1  1 -1 -1  1  1  1 -1]\n",
            "Group A:  [2, 8, 9, 5, 3] , Sum =  27\n",
            "Group B:  [10, 3, 5, 7, 2] , Sum =  27\n",
            "[ 1  1 -1  1 -1  1 -1 -1 -1 -1]\n",
            "Group A:  [2, 10, 8, 7] , Sum =  27\n",
            "Group B:  [3, 5, 9, 5, 3, 2] , Sum =  27\n",
            "[ 1 -1  1  1 -1 -1  1 -1  1  1]\n",
            "Group A:  [2, 3, 8, 9, 3, 2] , Sum =  27\n",
            "Group B:  [10, 5, 7, 5] , Sum =  27\n",
            "[-1 -1 -1  1 -1  1  1 -1  1 -1]\n",
            "Group A:  [8, 7, 9, 3] , Sum =  27\n",
            "Group B:  [2, 10, 3, 5, 5, 2] , Sum =  27\n",
            "[ 1 -1 -1  1  1 -1  1 -1  1 -1]\n",
            "Group A:  [2, 8, 5, 9, 3] , Sum =  27\n",
            "Group B:  [10, 3, 7, 5, 2] , Sum =  27\n",
            "[ 1  1 -1 -1 -1  1 -1  1  1 -1]\n",
            "Group A:  [2, 10, 7, 5, 3] , Sum =  27\n",
            "Group B:  [3, 8, 5, 9, 2] , Sum =  27\n",
            "[-1 -1 -1  1 -1 -1  1  1  1  1]\n",
            "Group A:  [8, 9, 5, 3, 2] , Sum =  27\n",
            "Group B:  [2, 10, 3, 5, 7] , Sum =  27\n",
            "[-1 -1  1 -1  1 -1  1  1  1  1]\n",
            "Group A:  [3, 5, 9, 5, 3, 2] , Sum =  27\n",
            "Group B:  [2, 10, 8, 7] , Sum =  27\n"
          ]
        }
      ],
      "source": [
        "for solution in optimal_sol:\n",
        "    group_A = [C[i] for i, s in enumerate(solution) if s==1]\n",
        "    group_B = [C[i] for i, s in enumerate(solution) if s==-1]\n",
        "    print(solution)\n",
        "    print('Group A: ', group_A, ', Sum = ', sum(group_A))\n",
        "    print('Group B: ', group_B, ', Sum = ', sum(group_B))"
      ]
    },
    {
      "cell_type": "markdown",
      "metadata": {
        "id": "Izn1sxfkcLHB"
      },
      "source": [
        "We can see that the sum of the two groups is equal in these cases.\n",
        "Also, result that return from D-Wave machine has many information including solution. For more details, see the documents [SampleSet](https://docs.ocean.dwavesys.com/projects/dimod/en/latest/reference/sampleset.html#dimod.SampleSet)\n",
        "\n",
        "`data_vectors`  has a list of energy, number of state appearances and percentage of broken chain on D-Wave machine only."
      ]
    },
    {
      "cell_type": "code",
      "execution_count": 21,
      "metadata": {
        "ExecuteTime": {
          "end_time": "2019-04-15T12:31:03.970593Z",
          "start_time": "2019-04-15T12:31:03.961694Z"
        },
        "colab": {
          "base_uri": "https://localhost:8080/"
        },
        "id": "Rsm3bBP3cLHE",
        "outputId": "3ba1f982-2362-4c26-ebc4-344a7a558087"
      },
      "outputs": [
        {
          "data": {
            "text/plain": [
              "{'energy': array([-370., -370., -370., -370., -370., -370., -370., -370., -370.,\n",
              "        -370., -370., -370., -370., -370., -370., -370., -370., -370.,\n",
              "        -370., -366., -366., -366., -366., -366., -366., -366., -366.,\n",
              "        -366., -366., -366., -366., -366., -366., -366., -366., -366.,\n",
              "        -366., -366., -366., -366., -366., -354., -354., -354., -354.,\n",
              "        -354., -354., -354., -354., -354., -354., -354., -354., -354.,\n",
              "        -354., -354., -354., -354., -354., -354., -354., -354., -354.,\n",
              "        -354., -334., -334., -334., -334., -334., -334., -334., -334.,\n",
              "        -334., -334., -306., -306., -306., -306., -270., -270., -270.]),\n",
              " 'num_occurrences': array([1, 1, 1, 2, 1, 1, 2, 2, 1, 2, 1, 1, 2, 1, 2, 1, 1, 1, 1, 1, 1, 1,\n",
              "        1, 2, 1, 1, 1, 1, 2, 1, 1, 2, 1, 1, 1, 2, 1, 2, 1, 1, 1, 1, 1, 2,\n",
              "        1, 2, 1, 1, 1, 1, 1, 1, 1, 1, 1, 1, 1, 1, 1, 2, 1, 2, 2, 2, 1, 1,\n",
              "        1, 1, 1, 1, 2, 2, 1, 1, 1, 1, 1, 1, 1, 1, 1]),\n",
              " 'chain_break_fraction': array([0. , 0. , 0. , 0. , 0. , 0. , 0. , 0. , 0. , 0. , 0. , 0. , 0. ,\n",
              "        0. , 0. , 0. , 0. , 0. , 0. , 0. , 0. , 0. , 0. , 0. , 0. , 0. ,\n",
              "        0. , 0. , 0. , 0. , 0. , 0. , 0. , 0. , 0. , 0. , 0. , 0. , 0. ,\n",
              "        0. , 0. , 0. , 0. , 0. , 0. , 0. , 0. , 0. , 0. , 0. , 0. , 0. ,\n",
              "        0. , 0. , 0. , 0. , 0. , 0. , 0. , 0. , 0. , 0. , 0. , 0. , 0. ,\n",
              "        0. , 0. , 0. , 0. , 0. , 0. , 0. , 0. , 0. , 0. , 0. , 0. , 0. ,\n",
              "        0.1, 0. , 0. ])}"
            ]
          },
          "execution_count": 21,
          "metadata": {},
          "output_type": "execute_result"
        }
      ],
      "source": [
        "response.data_vectors"
      ]
    },
    {
      "cell_type": "markdown",
      "metadata": {
        "id": "bWCJo7xycLHH"
      },
      "source": [
        "`info` has information about QPU(Quantum Processing Unit) at execution"
      ]
    },
    {
      "cell_type": "code",
      "execution_count": 22,
      "metadata": {
        "ExecuteTime": {
          "end_time": "2019-04-15T12:31:03.978576Z",
          "start_time": "2019-04-15T12:31:03.973416Z"
        },
        "colab": {
          "base_uri": "https://localhost:8080/"
        },
        "id": "cygBYnKfcLHK",
        "outputId": "5f011ee8-8d9e-4926-9e1c-727fb7c57660"
      },
      "outputs": [
        {
          "data": {
            "text/plain": [
              "{'timing': {'qpu_sampling_time': 10196.0,\n",
              "  'qpu_anneal_time_per_sample': 20.0,\n",
              "  'qpu_readout_time_per_sample': 61.38,\n",
              "  'qpu_access_time': 25955.16,\n",
              "  'qpu_access_overhead_time': 633.84,\n",
              "  'qpu_programming_time': 15759.16,\n",
              "  'qpu_delay_time_per_sample': 20.58,\n",
              "  'post_processing_overhead_time': 67.0,\n",
              "  'total_post_processing_time': 67.0},\n",
              " 'problem_id': '15c13224-6831-4ff4-b912-fd9935be4f9c'}"
            ]
          },
          "execution_count": 22,
          "metadata": {},
          "output_type": "execute_result"
        }
      ],
      "source": [
        "response.info"
      ]
    },
    {
      "cell_type": "markdown",
      "metadata": {
        "id": "U_-jsU3AcLHO"
      },
      "source": [
        "### Change the number of reading\n",
        "\n",
        "In this part, let's see how the solution we get changes when we change the number of readings.\n",
        "We can set the value of `num_reads` to speciry the number of readings\n",
        "Default number of `num_reads` is 1. Before we set 100, now we try to set 1000."
      ]
    },
    {
      "cell_type": "code",
      "execution_count": 23,
      "metadata": {
        "ExecuteTime": {
          "end_time": "2019-04-15T12:31:05.895143Z",
          "start_time": "2019-04-15T12:31:03.981543Z"
        },
        "id": "XMYdXWpxcLHS"
      },
      "outputs": [],
      "source": [
        "# in the case of ising model, use the following\n",
        "response = sampler.sample_ising(h, J, num_reads=1000)\n",
        "\n",
        "# in the case of QUBO, use the following\n",
        "# response = sampler.sample_qubo(Q, num_reads=1000)"
      ]
    },
    {
      "cell_type": "code",
      "execution_count": 24,
      "metadata": {
        "ExecuteTime": {
          "end_time": "2019-04-15T12:31:06.099249Z",
          "start_time": "2019-04-15T12:31:06.094114Z"
        },
        "id": "Qlv4apoScLHU"
      },
      "outputs": [],
      "source": [
        "# count up the number of occurrences of optimal solution\n",
        "num_optimal_sol = 0\n",
        "optimal_sol = []\n",
        "for state in response.record:\n",
        "    # 0th is a list of states, 2nd is the number of occurrence in .record\n",
        "    solution = state[0]\n",
        "    num_oc = state[2]\n",
        "    # compute energy\n",
        "    energy = calcurate_energy(solution, vartype='SPIN')\n",
        "    # count up the times when the energy is zero\n",
        "    if energy == 0.0:\n",
        "        num_optimal_sol += num_oc\n",
        "        optimal_sol.append(solution)"
      ]
    },
    {
      "cell_type": "code",
      "execution_count": 25,
      "metadata": {
        "colab": {
          "base_uri": "https://localhost:8080/"
        },
        "id": "psrDauEhcLHX",
        "outputId": "5b26e216-4702-496f-bbb3-30c23a505a0f"
      },
      "outputs": [
        {
          "data": {
            "text/plain": [
              "208"
            ]
          },
          "execution_count": 25,
          "metadata": {},
          "output_type": "execute_result"
        }
      ],
      "source": [
        "num_optimal_sol"
      ]
    },
    {
      "cell_type": "markdown",
      "metadata": {
        "id": "mP3jf3necLHa"
      },
      "source": [
        "The number of optimal solution increase because the number of reading increase. On the other hand, short annealing time (per one annealing) is 20µs, increasing the number of readings doesn't make much difference in real time."
      ]
    },
    {
      "cell_type": "code",
      "execution_count": 26,
      "metadata": {
        "ExecuteTime": {
          "end_time": "2019-04-15T12:31:06.107619Z",
          "start_time": "2019-04-15T12:31:06.101804Z"
        },
        "colab": {
          "base_uri": "https://localhost:8080/"
        },
        "id": "Yau-YRaAcLHc",
        "outputId": "fa11bc22-1c1a-4d26-8d2e-b8de546e612b"
      },
      "outputs": [
        {
          "data": {
            "text/plain": [
              "{'timing': {'qpu_sampling_time': 95960.0,\n",
              "  'qpu_anneal_time_per_sample': 20.0,\n",
              "  'qpu_readout_time_per_sample': 55.38,\n",
              "  'qpu_access_time': 111719.16,\n",
              "  'qpu_access_overhead_time': 933.84,\n",
              "  'qpu_programming_time': 15759.16,\n",
              "  'qpu_delay_time_per_sample': 20.58,\n",
              "  'post_processing_overhead_time': 13.0,\n",
              "  'total_post_processing_time': 13.0},\n",
              " 'problem_id': '82a976ab-d70a-4aa6-a48f-1e1e58e84d64'}"
            ]
          },
          "execution_count": 26,
          "metadata": {},
          "output_type": "execute_result"
        }
      ],
      "source": [
        "response.info"
      ]
    },
    {
      "cell_type": "markdown",
      "metadata": {
        "id": "-vUZ--fkcLHi"
      },
      "source": [
        "### Change annealing time\n",
        "\n",
        "Finally, we look at how the solution we get changes when we change the annealing time.\n",
        "We can specify the annealing time by setting the value of 'annealing_time' in sample_ising() or sample_qubo() (unit: µs).  \n",
        "In the previous example, we used the default value 20µs. Now we try to annealing with 50µs."
      ]
    },
    {
      "cell_type": "code",
      "execution_count": 27,
      "metadata": {
        "ExecuteTime": {
          "end_time": "2019-04-15T12:31:07.588543Z",
          "start_time": "2019-04-15T12:31:06.110248Z"
        },
        "id": "5tte-WiIcLHl"
      },
      "outputs": [],
      "source": [
        "# In the case of ising model, use the following\n",
        "response = sampler.sample_ising(h, J, num_reads=100, annealing_time=50)\n",
        "\n",
        "# In the case of QUBO, use the following\n",
        "# response = sampler.sample_qubo(Q, num_reads=100, annealing_time=50)"
      ]
    },
    {
      "cell_type": "code",
      "execution_count": 28,
      "metadata": {
        "id": "61HAXF7QcLHo"
      },
      "outputs": [],
      "source": [
        "# count up the number of times the optimal solution was found\n",
        "num_optimal_sol = 0\n",
        "optimal_sol = []\n",
        "fifty_sol = []\n",
        "for state in response.record:\n",
        "    # 0th contains a list of states, 2nd contains the number of occurrences of states in .record\n",
        "    solution = state[0]\n",
        "    num_oc = state[2]\n",
        "    # compute energy\n",
        "    energy = calcurate_energy(solution, vartype='SPIN')\n",
        "    # count up when the energy is 0\n",
        "    if energy == 0.0:\n",
        "        num_optimal_sol += num_oc\n",
        "        optimal_sol.append(solution)\n",
        "    # preserve a result of 50µs\n",
        "    fifty_sol.append(solution)"
      ]
    },
    {
      "cell_type": "code",
      "execution_count": 29,
      "metadata": {
        "ExecuteTime": {
          "end_time": "2019-04-15T12:31:07.627347Z",
          "start_time": "2019-04-15T12:31:07.622746Z"
        },
        "colab": {
          "base_uri": "https://localhost:8080/"
        },
        "id": "BmfHua7LcLHr",
        "outputId": "4f047555-eb27-429d-b74e-de3626809637"
      },
      "outputs": [
        {
          "data": {
            "text/plain": [
              "15"
            ]
          },
          "execution_count": 29,
          "metadata": {},
          "output_type": "execute_result"
        }
      ],
      "source": [
        "num_optimal_sol"
      ]
    },
    {
      "cell_type": "markdown",
      "metadata": {
        "id": "4m4Zf4kJcLHx"
      },
      "source": [
        "The number of optimal solutions doesn't seem to increase dramaticall. So let's see if changing the annealing time makes any difference to the solutions. We visualize histogram of energy of solution."
      ]
    },
    {
      "cell_type": "code",
      "execution_count": 30,
      "metadata": {
        "ExecuteTime": {
          "end_time": "2019-04-15T12:46:43.665208Z",
          "start_time": "2019-04-15T12:46:43.454787Z"
        },
        "colab": {
          "base_uri": "https://localhost:8080/",
          "height": 449
        },
        "id": "ccJWLyJ7cLHz",
        "outputId": "11e77dc5-579c-40c9-a936-61e4aa0f903c"
      },
      "outputs": [
        {
          "data": {
            "image/png": "[encoded data removed]",
            "text/plain": [
              "<Figure size 640x480 with 1 Axes>"
            ]
          },
          "metadata": {},
          "output_type": "display_data"
        }
      ],
      "source": [
        "plt.hist([calcurate_energy(solution, vartype='SPIN') for solution in twenty_sol], alpha=0.5, label='20μs')\n",
        "plt.hist([calcurate_energy(solution, vartype='SPIN') for solution in fifty_sol], alpha=0.5, label='50μs')\n",
        "plt.xlabel('Energy')\n",
        "plt.ylabel('Frequency')\n",
        "plt.legend()\n",
        "plt.show()"
      ]
    },
    {
      "cell_type": "markdown",
      "metadata": {
        "ExecuteTime": {
          "end_time": "2019-04-15T12:42:17.112182Z",
          "start_time": "2019-04-15T12:42:17.104935Z"
        },
        "id": "tIlQbeKUcLH3"
      },
      "source": [
        "From the histogram above, we can see that the number of optimal solutions obtained decreased as the annealing time was increased, but we found more low energy solutions. However, it's not as simple as just increasing the annealing time. Sometimes the optimization works better when the annealing time is small. This dependency depends on each problem. In addition, quantum annealing and other annealing methods are meta-heuristic altorigthms. It is also important to note that each time you execute, the results you get will be different."
      ]
    },
    {
      "cell_type": "markdown",
      "metadata": {
        "id": "OzE75EHFcLH6"
      },
      "source": [
        "## Conclusion\n",
        "\n",
        "Through the optimization of number division problem, we introduced D-Wave Ocean. We can do a lot of things just by holding on to what we've discussed in this tutorial. For example, we can investigate as follows.\n",
        "\n",
        "- success probability (percentage of optimal solutions) relative to the number of readings, annealing time\n",
        "- energy relative to the number of readings, annealing time\n",
        "- the percentage of optimal solutions obtained relative to multiple optimal solutions.\n",
        "\n",
        "As of April 2019, we can use the D-Wave machine for free for 1 minute per month. You should try.\n",
        "\n",
        "D-Wave Leap: https://cloud.dwavesys.com/leap/\n",
        "\n",
        "There are other annealing parameters that are not mentioned in this tutorial. For example, by specitying and annealing schedule, we can perform different techniques from normal annealing, such as reverse annealing."
      ]
    },
    {
      "cell_type": "code",
      "execution_count": null,
      "metadata": {
        "id": "KuHnZ61NcLIB"
      },
      "outputs": [],
      "source": []
    }
  ],
  "metadata": {
    "_draft": {
      "nbviewer_url": "https://gist.github.com/c98df8dc4fdf3cf70537f9a4e82ccbda"
    },
    "colab": {
      "provenance": []
    },
    "gist": {
      "data": {
        "description": "4-DWaveOceanSDK.ipynb",
        "public": false
      },
      "id": "c98df8dc4fdf3cf70537f9a4e82ccbda"
    },
    "kernelspec": {
      "display_name": "Python 3",
      "language": "python",
      "name": "python3"
    },
    "language_info": {
      "codemirror_mode": {
        "name": "ipython",
        "version": 3
      },
      "file_extension": ".py",
      "mimetype": "text/x-python",
      "name": "python",
      "nbconvert_exporter": "python",
      "pygments_lexer": "ipython3",
      "version": "3.8.5"
    },
    "latex_envs": {
      "LaTeX_envs_menu_present": true,
      "autoclose": false,
      "autocomplete": true,
      "bibliofile": "biblio.bib",
      "cite_by": "apalike",
      "current_citInitial": 1,
      "eqLabelWithNumbers": true,
      "eqNumInitial": 1,
      "hotkeys": {
        "equation": "Ctrl-E",
        "itemize": "Ctrl-I"
      },
      "labels_anchors": false,
      "latex_user_defs": false,
      "report_style_numbering": false,
      "user_envs_cfg": false
    },
    "toc": {
      "base_numbering": 1,
      "nav_menu": {},
      "number_sections": true,
      "sideBar": true,
      "skip_h1_title": false,
      "title_cell": "Table of Contents",
      "title_sidebar": "Contents",
      "toc_cell": false,
      "toc_position": {
        "height": "calc(100% - 180px)",
        "left": "10px",
        "top": "150px",
        "width": "288px"
      },
      "toc_section_display": true,
      "toc_window_display": true
    }
  },
  "nbformat": 4,
  "nbformat_minor": 0
}
