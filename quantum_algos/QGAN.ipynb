{
  "cells": [
    {
      "cell_type": "markdown",
      "metadata": {
        "id": "view-in-github",
        "colab_type": "text"
      },
      "source": [
        "<a href=\"https://colab.research.google.com/github/vijaymohire/quantum/blob/main/QGAN.ipynb\" target=\"_parent\"><img src=\"https://colab.research.google.com/assets/colab-badge.svg\" alt=\"Open In Colab\"/></a>"
      ]
    },
    {
      "cell_type": "markdown",
      "metadata": {
        "id": "F1uPU2C2NbEv"
      },
      "source": [
        "Quantum Generative Adversarial Networks with Cirq + TensorFlow\n",
        "==============================================================\n",
        "\n",
        "*Author: PennyLane dev team. Last updated: 15 Jan 2021.*\n",
        "\n",
        "This demo constructs a Quantum Generative Adversarial Network (QGAN)\n",
        "([Lloyd and Weedbrook\n",
        "(2018)](https://journals.aps.org/prl/abstract/10.1103/PhysRevLett.121.040502),\n",
        "[Dallaire-Demers and Killoran\n",
        "(2018)](https://journals.aps.org/pra/abstract/10.1103/PhysRevA.98.012324))\n",
        "using two subcircuits, a *generator* and a *discriminator*. The\n",
        "generator attempts to generate synthetic quantum data to match a pattern\n",
        "of \"real\" data, while the discriminator tries to discern real data from\n",
        "fake data (see image below). The gradient of the discriminator’s output\n",
        "provides a training signal for the generator to improve its fake\n",
        "generated data.\n",
        "\n",
        "|\n",
        "\n",
        "![](../demonstrations/QGAN/qgan.png){width=\"75%\"}\n",
        "\n",
        "|\n"
      ]
    },
    {
      "cell_type": "markdown",
      "metadata": {
        "id": "pJz3dP96NbFD"
      },
      "source": [
        "Using Cirq + TensorFlow\n",
        "=======================\n",
        "\n",
        "PennyLane allows us to mix and match quantum devices and classical\n",
        "machine learning software. For this demo, we will link together Google's\n",
        "[Cirq](https://cirq.readthedocs.io/en/stable/) and\n",
        "[TensorFlow](https://www.tensorflow.org/) libraries.\n",
        "\n",
        "We begin by importing PennyLane, NumPy, and TensorFlow.\n"
      ]
    },
    {
      "cell_type": "code",
      "source": [
        "#pip install pennylane --upgrade"
      ],
      "metadata": {
        "colab": {
          "base_uri": "https://localhost:8080/"
        },
        "id": "5H9kRHd1OJ-w",
        "outputId": "01d77b3b-7cef-4cab-c5b8-b42edb20aa9f"
      },
      "execution_count": 2,
      "outputs": [
        {
          "output_type": "stream",
          "name": "stdout",
          "text": [
            "Collecting pennylane\n",
            "  Downloading PennyLane-0.34.0-py3-none-any.whl (1.6 MB)\n",
            "\u001b[2K     \u001b[90m━━━━━━━━━━━━━━━━━━━━━━━━━━━━━━━━━━━━━━━━\u001b[0m \u001b[32m1.6/1.6 MB\u001b[0m \u001b[31m11.1 MB/s\u001b[0m eta \u001b[36m0:00:00\u001b[0m\n",
            "\u001b[?25hRequirement already satisfied: numpy in /usr/local/lib/python3.10/dist-packages (from pennylane) (1.25.2)\n",
            "Requirement already satisfied: scipy in /usr/local/lib/python3.10/dist-packages (from pennylane) (1.11.4)\n",
            "Requirement already satisfied: networkx in /usr/local/lib/python3.10/dist-packages (from pennylane) (3.2.1)\n",
            "Collecting rustworkx (from pennylane)\n",
            "  Downloading rustworkx-0.14.1-cp310-cp310-manylinux_2_17_x86_64.manylinux2014_x86_64.whl (2.1 MB)\n",
            "\u001b[2K     \u001b[90m━━━━━━━━━━━━━━━━━━━━━━━━━━━━━━━━━━━━━━━━\u001b[0m \u001b[32m2.1/2.1 MB\u001b[0m \u001b[31m22.2 MB/s\u001b[0m eta \u001b[36m0:00:00\u001b[0m\n",
            "\u001b[?25hRequirement already satisfied: autograd in /usr/local/lib/python3.10/dist-packages (from pennylane) (1.6.2)\n",
            "Requirement already satisfied: toml in /usr/local/lib/python3.10/dist-packages (from pennylane) (0.10.2)\n",
            "Requirement already satisfied: appdirs in /usr/local/lib/python3.10/dist-packages (from pennylane) (1.4.4)\n",
            "Collecting semantic-version>=2.7 (from pennylane)\n",
            "  Downloading semantic_version-2.10.0-py2.py3-none-any.whl (15 kB)\n",
            "Collecting autoray>=0.6.1 (from pennylane)\n",
            "  Downloading autoray-0.6.8-py3-none-any.whl (49 kB)\n",
            "\u001b[2K     \u001b[90m━━━━━━━━━━━━━━━━━━━━━━━━━━━━━━━━━━━━━━━━\u001b[0m \u001b[32m49.9/49.9 kB\u001b[0m \u001b[31m5.8 MB/s\u001b[0m eta \u001b[36m0:00:00\u001b[0m\n",
            "\u001b[?25hRequirement already satisfied: cachetools in /usr/local/lib/python3.10/dist-packages (from pennylane) (5.3.3)\n",
            "Collecting pennylane-lightning>=0.34 (from pennylane)\n",
            "  Downloading PennyLane_Lightning-0.34.0-cp310-cp310-manylinux_2_17_x86_64.manylinux2014_x86_64.whl (18.1 MB)\n",
            "\u001b[2K     \u001b[90m━━━━━━━━━━━━━━━━━━━━━━━━━━━━━━━━━━━━━━━━\u001b[0m \u001b[32m18.1/18.1 MB\u001b[0m \u001b[31m49.4 MB/s\u001b[0m eta \u001b[36m0:00:00\u001b[0m\n",
            "\u001b[?25hRequirement already satisfied: requests in /usr/local/lib/python3.10/dist-packages (from pennylane) (2.31.0)\n",
            "Requirement already satisfied: typing-extensions in /usr/local/lib/python3.10/dist-packages (from pennylane) (4.10.0)\n",
            "Requirement already satisfied: future>=0.15.2 in /usr/local/lib/python3.10/dist-packages (from autograd->pennylane) (0.18.3)\n",
            "Requirement already satisfied: charset-normalizer<4,>=2 in /usr/local/lib/python3.10/dist-packages (from requests->pennylane) (3.3.2)\n",
            "Requirement already satisfied: idna<4,>=2.5 in /usr/local/lib/python3.10/dist-packages (from requests->pennylane) (3.6)\n",
            "Requirement already satisfied: urllib3<3,>=1.21.1 in /usr/local/lib/python3.10/dist-packages (from requests->pennylane) (2.0.7)\n",
            "Requirement already satisfied: certifi>=2017.4.17 in /usr/local/lib/python3.10/dist-packages (from requests->pennylane) (2024.2.2)\n",
            "Installing collected packages: semantic-version, rustworkx, autoray, pennylane-lightning, pennylane\n",
            "Successfully installed autoray-0.6.8 pennylane-0.34.0 pennylane-lightning-0.34.0 rustworkx-0.14.1 semantic-version-2.10.0\n"
          ]
        }
      ]
    },
    {
      "cell_type": "code",
      "execution_count": 1,
      "metadata": {
        "id": "dNXOUK32NbEL"
      },
      "outputs": [],
      "source": [
        "# This cell is added by sphinx-gallery\n",
        "# It can be customized to whatever you like\n",
        "%matplotlib inline"
      ]
    },
    {
      "cell_type": "code",
      "source": [
        "#pip install --upgrade tensorflow\n",
        "!pip install \"tensorflow==2.10.0\"\n",
        "!pip install autograd\n",
        "!pip install jax jaxlib"
      ],
      "metadata": {
        "colab": {
          "base_uri": "https://localhost:8080/",
          "height": 1000
        },
        "id": "x4sdCdd-XXun",
        "outputId": "e21f244a-0c0f-46b2-b7ad-702ab048739e"
      },
      "execution_count": 2,
      "outputs": [
        {
          "output_type": "stream",
          "name": "stdout",
          "text": [
            "Collecting tensorflow==2.10.0\n",
            "  Downloading tensorflow-2.10.0-cp310-cp310-manylinux_2_17_x86_64.manylinux2014_x86_64.whl (578.0 MB)\n",
            "\u001b[2K     \u001b[90m━━━━━━━━━━━━━━━━━━━━━━━━━━━━━━━━━━━━━━━━\u001b[0m \u001b[32m578.0/578.0 MB\u001b[0m \u001b[31m1.3 MB/s\u001b[0m eta \u001b[36m0:00:00\u001b[0m\n",
            "\u001b[?25hRequirement already satisfied: absl-py>=1.0.0 in /usr/local/lib/python3.10/dist-packages (from tensorflow==2.10.0) (1.4.0)\n",
            "Requirement already satisfied: astunparse>=1.6.0 in /usr/local/lib/python3.10/dist-packages (from tensorflow==2.10.0) (1.6.3)\n",
            "Requirement already satisfied: flatbuffers>=2.0 in /usr/local/lib/python3.10/dist-packages (from tensorflow==2.10.0) (23.5.26)\n",
            "Collecting gast<=0.4.0,>=0.2.1 (from tensorflow==2.10.0)\n",
            "  Downloading gast-0.4.0-py3-none-any.whl (9.8 kB)\n",
            "Requirement already satisfied: google-pasta>=0.1.1 in /usr/local/lib/python3.10/dist-packages (from tensorflow==2.10.0) (0.2.0)\n",
            "Requirement already satisfied: grpcio<2.0,>=1.24.3 in /usr/local/lib/python3.10/dist-packages (from tensorflow==2.10.0) (1.62.0)\n",
            "Requirement already satisfied: h5py>=2.9.0 in /usr/local/lib/python3.10/dist-packages (from tensorflow==2.10.0) (3.9.0)\n",
            "Collecting keras<2.11,>=2.10.0 (from tensorflow==2.10.0)\n",
            "  Downloading keras-2.10.0-py2.py3-none-any.whl (1.7 MB)\n",
            "\u001b[2K     \u001b[90m━━━━━━━━━━━━━━━━━━━━━━━━━━━━━━━━━━━━━━━━\u001b[0m \u001b[32m1.7/1.7 MB\u001b[0m \u001b[31m1.9 MB/s\u001b[0m eta \u001b[36m0:00:00\u001b[0m\n",
            "\u001b[?25hCollecting keras-preprocessing>=1.1.1 (from tensorflow==2.10.0)\n",
            "  Downloading Keras_Preprocessing-1.1.2-py2.py3-none-any.whl (42 kB)\n",
            "\u001b[2K     \u001b[90m━━━━━━━━━━━━━━━━━━━━━━━━━━━━━━━━━━━━━━━━\u001b[0m \u001b[32m42.6/42.6 kB\u001b[0m \u001b[31m1.8 MB/s\u001b[0m eta \u001b[36m0:00:00\u001b[0m\n",
            "\u001b[?25hRequirement already satisfied: libclang>=13.0.0 in /usr/local/lib/python3.10/dist-packages (from tensorflow==2.10.0) (16.0.6)\n",
            "Requirement already satisfied: numpy>=1.20 in /usr/local/lib/python3.10/dist-packages (from tensorflow==2.10.0) (1.25.2)\n",
            "Requirement already satisfied: opt-einsum>=2.3.2 in /usr/local/lib/python3.10/dist-packages (from tensorflow==2.10.0) (3.3.0)\n",
            "Requirement already satisfied: packaging in /usr/local/lib/python3.10/dist-packages (from tensorflow==2.10.0) (23.2)\n",
            "Collecting protobuf<3.20,>=3.9.2 (from tensorflow==2.10.0)\n",
            "  Downloading protobuf-3.19.6-cp310-cp310-manylinux_2_17_x86_64.manylinux2014_x86_64.whl (1.1 MB)\n",
            "\u001b[2K     \u001b[90m━━━━━━━━━━━━━━━━━━━━━━━━━━━━━━━━━━━━━━━━\u001b[0m \u001b[32m1.1/1.1 MB\u001b[0m \u001b[31m1.6 MB/s\u001b[0m eta \u001b[36m0:00:00\u001b[0m\n",
            "\u001b[?25hRequirement already satisfied: setuptools in /usr/local/lib/python3.10/dist-packages (from tensorflow==2.10.0) (67.7.2)\n",
            "Requirement already satisfied: six>=1.12.0 in /usr/local/lib/python3.10/dist-packages (from tensorflow==2.10.0) (1.16.0)\n",
            "Collecting tensorboard<2.11,>=2.10 (from tensorflow==2.10.0)\n",
            "  Downloading tensorboard-2.10.1-py3-none-any.whl (5.9 MB)\n",
            "\u001b[2K     \u001b[90m━━━━━━━━━━━━━━━━━━━━━━━━━━━━━━━━━━━━━━━━\u001b[0m \u001b[32m5.9/5.9 MB\u001b[0m \u001b[31m1.9 MB/s\u001b[0m eta \u001b[36m0:00:00\u001b[0m\n",
            "\u001b[?25hRequirement already satisfied: tensorflow-io-gcs-filesystem>=0.23.1 in /usr/local/lib/python3.10/dist-packages (from tensorflow==2.10.0) (0.36.0)\n",
            "Collecting tensorflow-estimator<2.11,>=2.10.0 (from tensorflow==2.10.0)\n",
            "  Downloading tensorflow_estimator-2.10.0-py2.py3-none-any.whl (438 kB)\n",
            "\u001b[2K     \u001b[90m━━━━━━━━━━━━━━━━━━━━━━━━━━━━━━━━━━━━━━━━\u001b[0m \u001b[32m438.7/438.7 kB\u001b[0m \u001b[31m2.0 MB/s\u001b[0m eta \u001b[36m0:00:00\u001b[0m\n",
            "\u001b[?25hRequirement already satisfied: termcolor>=1.1.0 in /usr/local/lib/python3.10/dist-packages (from tensorflow==2.10.0) (2.4.0)\n",
            "Requirement already satisfied: typing-extensions>=3.6.6 in /usr/local/lib/python3.10/dist-packages (from tensorflow==2.10.0) (4.10.0)\n",
            "Requirement already satisfied: wrapt>=1.11.0 in /usr/local/lib/python3.10/dist-packages (from tensorflow==2.10.0) (1.14.1)\n",
            "Requirement already satisfied: wheel<1.0,>=0.23.0 in /usr/local/lib/python3.10/dist-packages (from astunparse>=1.6.0->tensorflow==2.10.0) (0.42.0)\n",
            "Requirement already satisfied: google-auth<3,>=1.6.3 in /usr/local/lib/python3.10/dist-packages (from tensorboard<2.11,>=2.10->tensorflow==2.10.0) (2.27.0)\n",
            "Collecting google-auth-oauthlib<0.5,>=0.4.1 (from tensorboard<2.11,>=2.10->tensorflow==2.10.0)\n",
            "  Downloading google_auth_oauthlib-0.4.6-py2.py3-none-any.whl (18 kB)\n",
            "Requirement already satisfied: markdown>=2.6.8 in /usr/local/lib/python3.10/dist-packages (from tensorboard<2.11,>=2.10->tensorflow==2.10.0) (3.5.2)\n",
            "Requirement already satisfied: requests<3,>=2.21.0 in /usr/local/lib/python3.10/dist-packages (from tensorboard<2.11,>=2.10->tensorflow==2.10.0) (2.31.0)\n",
            "Collecting tensorboard-data-server<0.7.0,>=0.6.0 (from tensorboard<2.11,>=2.10->tensorflow==2.10.0)\n",
            "  Downloading tensorboard_data_server-0.6.1-py3-none-manylinux2010_x86_64.whl (4.9 MB)\n",
            "\u001b[2K     \u001b[90m━━━━━━━━━━━━━━━━━━━━━━━━━━━━━━━━━━━━━━━━\u001b[0m \u001b[32m4.9/4.9 MB\u001b[0m \u001b[31m2.0 MB/s\u001b[0m eta \u001b[36m0:00:00\u001b[0m\n",
            "\u001b[?25hCollecting tensorboard-plugin-wit>=1.6.0 (from tensorboard<2.11,>=2.10->tensorflow==2.10.0)\n",
            "  Downloading tensorboard_plugin_wit-1.8.1-py3-none-any.whl (781 kB)\n",
            "\u001b[2K     \u001b[90m━━━━━━━━━━━━━━━━━━━━━━━━━━━━━━━━━━━━━━━━\u001b[0m \u001b[32m781.3/781.3 kB\u001b[0m \u001b[31m1.3 MB/s\u001b[0m eta \u001b[36m0:00:00\u001b[0m\n",
            "\u001b[?25hRequirement already satisfied: werkzeug>=1.0.1 in /usr/local/lib/python3.10/dist-packages (from tensorboard<2.11,>=2.10->tensorflow==2.10.0) (3.0.1)\n",
            "Requirement already satisfied: cachetools<6.0,>=2.0.0 in /usr/local/lib/python3.10/dist-packages (from google-auth<3,>=1.6.3->tensorboard<2.11,>=2.10->tensorflow==2.10.0) (5.3.3)\n",
            "Requirement already satisfied: pyasn1-modules>=0.2.1 in /usr/local/lib/python3.10/dist-packages (from google-auth<3,>=1.6.3->tensorboard<2.11,>=2.10->tensorflow==2.10.0) (0.3.0)\n",
            "Requirement already satisfied: rsa<5,>=3.1.4 in /usr/local/lib/python3.10/dist-packages (from google-auth<3,>=1.6.3->tensorboard<2.11,>=2.10->tensorflow==2.10.0) (4.9)\n",
            "Requirement already satisfied: requests-oauthlib>=0.7.0 in /usr/local/lib/python3.10/dist-packages (from google-auth-oauthlib<0.5,>=0.4.1->tensorboard<2.11,>=2.10->tensorflow==2.10.0) (1.3.1)\n",
            "Requirement already satisfied: charset-normalizer<4,>=2 in /usr/local/lib/python3.10/dist-packages (from requests<3,>=2.21.0->tensorboard<2.11,>=2.10->tensorflow==2.10.0) (3.3.2)\n",
            "Requirement already satisfied: idna<4,>=2.5 in /usr/local/lib/python3.10/dist-packages (from requests<3,>=2.21.0->tensorboard<2.11,>=2.10->tensorflow==2.10.0) (3.6)\n",
            "Requirement already satisfied: urllib3<3,>=1.21.1 in /usr/local/lib/python3.10/dist-packages (from requests<3,>=2.21.0->tensorboard<2.11,>=2.10->tensorflow==2.10.0) (2.0.7)\n",
            "Requirement already satisfied: certifi>=2017.4.17 in /usr/local/lib/python3.10/dist-packages (from requests<3,>=2.21.0->tensorboard<2.11,>=2.10->tensorflow==2.10.0) (2024.2.2)\n",
            "Requirement already satisfied: MarkupSafe>=2.1.1 in /usr/local/lib/python3.10/dist-packages (from werkzeug>=1.0.1->tensorboard<2.11,>=2.10->tensorflow==2.10.0) (2.1.5)\n",
            "Requirement already satisfied: pyasn1<0.6.0,>=0.4.6 in /usr/local/lib/python3.10/dist-packages (from pyasn1-modules>=0.2.1->google-auth<3,>=1.6.3->tensorboard<2.11,>=2.10->tensorflow==2.10.0) (0.5.1)\n",
            "Requirement already satisfied: oauthlib>=3.0.0 in /usr/local/lib/python3.10/dist-packages (from requests-oauthlib>=0.7.0->google-auth-oauthlib<0.5,>=0.4.1->tensorboard<2.11,>=2.10->tensorflow==2.10.0) (3.2.2)\n",
            "Installing collected packages: tensorboard-plugin-wit, keras, tensorflow-estimator, tensorboard-data-server, protobuf, keras-preprocessing, gast, google-auth-oauthlib, tensorboard, tensorflow\n",
            "  Attempting uninstall: keras\n",
            "    Found existing installation: keras 2.15.0\n",
            "    Uninstalling keras-2.15.0:\n",
            "      Successfully uninstalled keras-2.15.0\n",
            "  Attempting uninstall: tensorflow-estimator\n",
            "    Found existing installation: tensorflow-estimator 2.15.0\n",
            "    Uninstalling tensorflow-estimator-2.15.0:\n",
            "      Successfully uninstalled tensorflow-estimator-2.15.0\n",
            "  Attempting uninstall: tensorboard-data-server\n",
            "    Found existing installation: tensorboard-data-server 0.7.2\n",
            "    Uninstalling tensorboard-data-server-0.7.2:\n",
            "      Successfully uninstalled tensorboard-data-server-0.7.2\n",
            "  Attempting uninstall: protobuf\n",
            "    Found existing installation: protobuf 3.20.3\n",
            "    Uninstalling protobuf-3.20.3:\n",
            "      Successfully uninstalled protobuf-3.20.3\n",
            "  Attempting uninstall: gast\n",
            "    Found existing installation: gast 0.5.4\n",
            "    Uninstalling gast-0.5.4:\n",
            "      Successfully uninstalled gast-0.5.4\n",
            "  Attempting uninstall: google-auth-oauthlib\n",
            "    Found existing installation: google-auth-oauthlib 1.2.0\n",
            "    Uninstalling google-auth-oauthlib-1.2.0:\n",
            "      Successfully uninstalled google-auth-oauthlib-1.2.0\n",
            "  Attempting uninstall: tensorboard\n",
            "    Found existing installation: tensorboard 2.15.2\n",
            "    Uninstalling tensorboard-2.15.2:\n",
            "      Successfully uninstalled tensorboard-2.15.2\n",
            "  Attempting uninstall: tensorflow\n",
            "    Found existing installation: tensorflow 2.15.0\n",
            "    Uninstalling tensorflow-2.15.0:\n",
            "      Successfully uninstalled tensorflow-2.15.0\n",
            "\u001b[31mERROR: pip's dependency resolver does not currently take into account all the packages that are installed. This behaviour is the source of the following dependency conflicts.\n",
            "pandas-gbq 0.19.2 requires google-auth-oauthlib>=0.7.0, but you have google-auth-oauthlib 0.4.6 which is incompatible.\n",
            "tensorflow-datasets 4.9.4 requires protobuf>=3.20, but you have protobuf 3.19.6 which is incompatible.\n",
            "tensorflow-metadata 1.14.0 requires protobuf<4.21,>=3.20.3, but you have protobuf 3.19.6 which is incompatible.\u001b[0m\u001b[31m\n",
            "\u001b[0mSuccessfully installed gast-0.4.0 google-auth-oauthlib-0.4.6 keras-2.10.0 keras-preprocessing-1.1.2 protobuf-3.19.6 tensorboard-2.10.1 tensorboard-data-server-0.6.1 tensorboard-plugin-wit-1.8.1 tensorflow-2.10.0 tensorflow-estimator-2.10.0\n"
          ]
        },
        {
          "output_type": "display_data",
          "data": {
            "application/vnd.colab-display-data+json": {
              "pip_warning": {
                "packages": [
                  "google"
                ]
              },
              "id": "f2c6ad27075c4cef9b6417ab95dfea69"
            }
          },
          "metadata": {}
        },
        {
          "output_type": "stream",
          "name": "stdout",
          "text": [
            "Requirement already satisfied: autograd in /usr/local/lib/python3.10/dist-packages (1.6.2)\n",
            "Requirement already satisfied: numpy>=1.12 in /usr/local/lib/python3.10/dist-packages (from autograd) (1.25.2)\n",
            "Requirement already satisfied: future>=0.15.2 in /usr/local/lib/python3.10/dist-packages (from autograd) (0.18.3)\n",
            "Requirement already satisfied: jax in /usr/local/lib/python3.10/dist-packages (0.4.23)\n",
            "Requirement already satisfied: jaxlib in /usr/local/lib/python3.10/dist-packages (0.4.23+cuda12.cudnn89)\n",
            "Requirement already satisfied: ml-dtypes>=0.2.0 in /usr/local/lib/python3.10/dist-packages (from jax) (0.2.0)\n",
            "Requirement already satisfied: numpy>=1.22 in /usr/local/lib/python3.10/dist-packages (from jax) (1.25.2)\n",
            "Requirement already satisfied: opt-einsum in /usr/local/lib/python3.10/dist-packages (from jax) (3.3.0)\n",
            "Requirement already satisfied: scipy>=1.9 in /usr/local/lib/python3.10/dist-packages (from jax) (1.11.4)\n"
          ]
        }
      ]
    },
    {
      "cell_type": "code",
      "source": [
        "#pip install PennyLane-SF"
      ],
      "metadata": {
        "colab": {
          "base_uri": "https://localhost:8080/"
        },
        "id": "mxMrI8rNPR9m",
        "outputId": "9a241d97-96de-432e-a6c7-d0b83ce23907"
      },
      "execution_count": null,
      "outputs": [
        {
          "output_type": "stream",
          "name": "stdout",
          "text": [
            "Requirement already satisfied: PennyLane-SF in /usr/local/lib/python3.10/dist-packages (0.29.1)\n",
            "Requirement already satisfied: strawberryfields>=0.22 in /usr/local/lib/python3.10/dist-packages (from PennyLane-SF) (0.23.0)\n",
            "Requirement already satisfied: pennylane<0.30,>=0.19 in /usr/local/lib/python3.10/dist-packages (from PennyLane-SF) (0.29.1)\n",
            "Requirement already satisfied: numpy<1.24 in /usr/local/lib/python3.10/dist-packages (from pennylane<0.30,>=0.19->PennyLane-SF) (1.23.5)\n",
            "Requirement already satisfied: scipy in /usr/local/lib/python3.10/dist-packages (from pennylane<0.30,>=0.19->PennyLane-SF) (1.11.4)\n",
            "Requirement already satisfied: networkx in /usr/local/lib/python3.10/dist-packages (from pennylane<0.30,>=0.19->PennyLane-SF) (3.2.1)\n",
            "Requirement already satisfied: retworkx in /usr/local/lib/python3.10/dist-packages (from pennylane<0.30,>=0.19->PennyLane-SF) (0.14.1)\n",
            "Requirement already satisfied: autograd in /usr/local/lib/python3.10/dist-packages (from pennylane<0.30,>=0.19->PennyLane-SF) (1.6.2)\n",
            "Requirement already satisfied: toml in /usr/local/lib/python3.10/dist-packages (from pennylane<0.30,>=0.19->PennyLane-SF) (0.10.2)\n",
            "Requirement already satisfied: appdirs in /usr/local/lib/python3.10/dist-packages (from pennylane<0.30,>=0.19->PennyLane-SF) (1.4.4)\n",
            "Requirement already satisfied: semantic-version>=2.7 in /usr/local/lib/python3.10/dist-packages (from pennylane<0.30,>=0.19->PennyLane-SF) (2.10.0)\n",
            "Requirement already satisfied: autoray>=0.3.1 in /usr/local/lib/python3.10/dist-packages (from pennylane<0.30,>=0.19->PennyLane-SF) (0.6.8)\n",
            "Requirement already satisfied: cachetools in /usr/local/lib/python3.10/dist-packages (from pennylane<0.30,>=0.19->PennyLane-SF) (5.3.2)\n",
            "Requirement already satisfied: pennylane-lightning>=0.28 in /usr/local/lib/python3.10/dist-packages (from pennylane<0.30,>=0.19->PennyLane-SF) (0.30.0)\n",
            "Requirement already satisfied: requests in /usr/local/lib/python3.10/dist-packages (from pennylane<0.30,>=0.19->PennyLane-SF) (2.31.0)\n",
            "Requirement already satisfied: numba in /usr/local/lib/python3.10/dist-packages (from strawberryfields>=0.22->PennyLane-SF) (0.58.1)\n",
            "Requirement already satisfied: python-dateutil>=2.8.0 in /usr/local/lib/python3.10/dist-packages (from strawberryfields>=0.22->PennyLane-SF) (2.8.2)\n",
            "Requirement already satisfied: quantum-blackbird>=0.3.0 in /usr/local/lib/python3.10/dist-packages (from strawberryfields>=0.22->PennyLane-SF) (0.5.0)\n",
            "Requirement already satisfied: sympy>=1.5 in /usr/local/lib/python3.10/dist-packages (from strawberryfields>=0.22->PennyLane-SF) (1.12)\n",
            "Requirement already satisfied: thewalrus>=0.18.0 in /usr/local/lib/python3.10/dist-packages (from strawberryfields>=0.22->PennyLane-SF) (0.21.0)\n",
            "Requirement already satisfied: urllib3>=1.25.3 in /usr/local/lib/python3.10/dist-packages (from strawberryfields>=0.22->PennyLane-SF) (2.0.7)\n",
            "Requirement already satisfied: quantum-xir>=0.1.1 in /usr/local/lib/python3.10/dist-packages (from strawberryfields>=0.22->PennyLane-SF) (0.2.2)\n",
            "Requirement already satisfied: xanadu-cloud-client>=0.2.1 in /usr/local/lib/python3.10/dist-packages (from strawberryfields>=0.22->PennyLane-SF) (0.3.2)\n",
            "Requirement already satisfied: six>=1.5 in /usr/local/lib/python3.10/dist-packages (from python-dateutil>=2.8.0->strawberryfields>=0.22->PennyLane-SF) (1.16.0)\n",
            "Requirement already satisfied: antlr4-python3-runtime==4.9.2 in /usr/local/lib/python3.10/dist-packages (from quantum-blackbird>=0.3.0->strawberryfields>=0.22->PennyLane-SF) (4.9.2)\n",
            "Requirement already satisfied: lark-parser>=0.11.0 in /usr/local/lib/python3.10/dist-packages (from quantum-xir>=0.1.1->strawberryfields>=0.22->PennyLane-SF) (0.12.0)\n",
            "Requirement already satisfied: charset-normalizer<4,>=2 in /usr/local/lib/python3.10/dist-packages (from requests->pennylane<0.30,>=0.19->PennyLane-SF) (3.3.2)\n",
            "Requirement already satisfied: idna<4,>=2.5 in /usr/local/lib/python3.10/dist-packages (from requests->pennylane<0.30,>=0.19->PennyLane-SF) (3.6)\n",
            "Requirement already satisfied: certifi>=2017.4.17 in /usr/local/lib/python3.10/dist-packages (from requests->pennylane<0.30,>=0.19->PennyLane-SF) (2024.2.2)\n",
            "Requirement already satisfied: mpmath>=0.19 in /usr/local/lib/python3.10/dist-packages (from sympy>=1.5->strawberryfields>=0.22->PennyLane-SF) (1.3.0)\n",
            "Requirement already satisfied: dask[delayed] in /usr/local/lib/python3.10/dist-packages (from thewalrus>=0.18.0->strawberryfields>=0.22->PennyLane-SF) (2023.8.1)\n",
            "Requirement already satisfied: llvmlite<0.42,>=0.41.0dev0 in /usr/local/lib/python3.10/dist-packages (from numba->strawberryfields>=0.22->PennyLane-SF) (0.41.1)\n",
            "Requirement already satisfied: fire in /usr/local/lib/python3.10/dist-packages (from xanadu-cloud-client>=0.2.1->strawberryfields>=0.22->PennyLane-SF) (0.5.0)\n",
            "Requirement already satisfied: pydantic>=2 in /usr/local/lib/python3.10/dist-packages (from xanadu-cloud-client>=0.2.1->strawberryfields>=0.22->PennyLane-SF) (2.6.1)\n",
            "Requirement already satisfied: pydantic-settings in /usr/local/lib/python3.10/dist-packages (from xanadu-cloud-client>=0.2.1->strawberryfields>=0.22->PennyLane-SF) (2.2.1)\n",
            "Requirement already satisfied: python-dotenv in /usr/local/lib/python3.10/dist-packages (from xanadu-cloud-client>=0.2.1->strawberryfields>=0.22->PennyLane-SF) (1.0.1)\n",
            "Requirement already satisfied: future>=0.15.2 in /usr/local/lib/python3.10/dist-packages (from autograd->pennylane<0.30,>=0.19->PennyLane-SF) (0.18.3)\n",
            "Requirement already satisfied: rustworkx==0.14.1 in /usr/local/lib/python3.10/dist-packages (from retworkx->pennylane<0.30,>=0.19->PennyLane-SF) (0.14.1)\n",
            "Requirement already satisfied: annotated-types>=0.4.0 in /usr/local/lib/python3.10/dist-packages (from pydantic>=2->xanadu-cloud-client>=0.2.1->strawberryfields>=0.22->PennyLane-SF) (0.6.0)\n",
            "Requirement already satisfied: pydantic-core==2.16.2 in /usr/local/lib/python3.10/dist-packages (from pydantic>=2->xanadu-cloud-client>=0.2.1->strawberryfields>=0.22->PennyLane-SF) (2.16.2)\n",
            "Requirement already satisfied: typing-extensions>=4.6.1 in /usr/local/lib/python3.10/dist-packages (from pydantic>=2->xanadu-cloud-client>=0.2.1->strawberryfields>=0.22->PennyLane-SF) (4.9.0)\n",
            "Requirement already satisfied: click>=8.0 in /usr/local/lib/python3.10/dist-packages (from dask[delayed]->thewalrus>=0.18.0->strawberryfields>=0.22->PennyLane-SF) (8.1.7)\n",
            "Requirement already satisfied: cloudpickle>=1.5.0 in /usr/local/lib/python3.10/dist-packages (from dask[delayed]->thewalrus>=0.18.0->strawberryfields>=0.22->PennyLane-SF) (2.2.1)\n",
            "Requirement already satisfied: fsspec>=2021.09.0 in /usr/local/lib/python3.10/dist-packages (from dask[delayed]->thewalrus>=0.18.0->strawberryfields>=0.22->PennyLane-SF) (2023.6.0)\n",
            "Requirement already satisfied: packaging>=20.0 in /usr/local/lib/python3.10/dist-packages (from dask[delayed]->thewalrus>=0.18.0->strawberryfields>=0.22->PennyLane-SF) (23.2)\n",
            "Requirement already satisfied: partd>=1.2.0 in /usr/local/lib/python3.10/dist-packages (from dask[delayed]->thewalrus>=0.18.0->strawberryfields>=0.22->PennyLane-SF) (1.4.1)\n",
            "Requirement already satisfied: pyyaml>=5.3.1 in /usr/local/lib/python3.10/dist-packages (from dask[delayed]->thewalrus>=0.18.0->strawberryfields>=0.22->PennyLane-SF) (6.0.1)\n",
            "Requirement already satisfied: toolz>=0.10.0 in /usr/local/lib/python3.10/dist-packages (from dask[delayed]->thewalrus>=0.18.0->strawberryfields>=0.22->PennyLane-SF) (0.12.1)\n",
            "Requirement already satisfied: importlib-metadata>=4.13.0 in /usr/local/lib/python3.10/dist-packages (from dask[delayed]->thewalrus>=0.18.0->strawberryfields>=0.22->PennyLane-SF) (7.0.1)\n",
            "Requirement already satisfied: termcolor in /usr/local/lib/python3.10/dist-packages (from fire->xanadu-cloud-client>=0.2.1->strawberryfields>=0.22->PennyLane-SF) (2.4.0)\n",
            "Requirement already satisfied: zipp>=0.5 in /usr/local/lib/python3.10/dist-packages (from importlib-metadata>=4.13.0->dask[delayed]->thewalrus>=0.18.0->strawberryfields>=0.22->PennyLane-SF) (3.17.0)\n",
            "Requirement already satisfied: locket in /usr/local/lib/python3.10/dist-packages (from partd>=1.2.0->dask[delayed]->thewalrus>=0.18.0->strawberryfields>=0.22->PennyLane-SF) (1.0.0)\n"
          ]
        }
      ]
    },
    {
      "cell_type": "code",
      "source": [
        "!pip install pennylane --upgrade\n",
        "!pip install pennylane-cirq"
      ],
      "metadata": {
        "colab": {
          "base_uri": "https://localhost:8080/"
        },
        "id": "cSwSb8iKUJU5",
        "outputId": "9d5eb029-42b3-420e-97d6-bd20b21d51ca"
      },
      "execution_count": 1,
      "outputs": [
        {
          "output_type": "stream",
          "name": "stdout",
          "text": [
            "Collecting pennylane\n",
            "  Downloading PennyLane-0.34.0-py3-none-any.whl (1.6 MB)\n",
            "\u001b[2K     \u001b[90m━━━━━━━━━━━━━━━━━━━━━━━━━━━━━━━━━━━━━━━━\u001b[0m \u001b[32m1.6/1.6 MB\u001b[0m \u001b[31m7.8 MB/s\u001b[0m eta \u001b[36m0:00:00\u001b[0m\n",
            "\u001b[?25hRequirement already satisfied: numpy in /usr/local/lib/python3.10/dist-packages (from pennylane) (1.25.2)\n",
            "Requirement already satisfied: scipy in /usr/local/lib/python3.10/dist-packages (from pennylane) (1.11.4)\n",
            "Requirement already satisfied: networkx in /usr/local/lib/python3.10/dist-packages (from pennylane) (3.2.1)\n",
            "Collecting rustworkx (from pennylane)\n",
            "  Downloading rustworkx-0.14.1-cp310-cp310-manylinux_2_17_x86_64.manylinux2014_x86_64.whl (2.1 MB)\n",
            "\u001b[2K     \u001b[90m━━━━━━━━━━━━━━━━━━━━━━━━━━━━━━━━━━━━━━━━\u001b[0m \u001b[32m2.1/2.1 MB\u001b[0m \u001b[31m35.8 MB/s\u001b[0m eta \u001b[36m0:00:00\u001b[0m\n",
            "\u001b[?25hRequirement already satisfied: autograd in /usr/local/lib/python3.10/dist-packages (from pennylane) (1.6.2)\n",
            "Requirement already satisfied: toml in /usr/local/lib/python3.10/dist-packages (from pennylane) (0.10.2)\n",
            "Requirement already satisfied: appdirs in /usr/local/lib/python3.10/dist-packages (from pennylane) (1.4.4)\n",
            "Collecting semantic-version>=2.7 (from pennylane)\n",
            "  Downloading semantic_version-2.10.0-py2.py3-none-any.whl (15 kB)\n",
            "Collecting autoray>=0.6.1 (from pennylane)\n",
            "  Downloading autoray-0.6.8-py3-none-any.whl (49 kB)\n",
            "\u001b[2K     \u001b[90m━━━━━━━━━━━━━━━━━━━━━━━━━━━━━━━━━━━━━━━━\u001b[0m \u001b[32m49.9/49.9 kB\u001b[0m \u001b[31m4.5 MB/s\u001b[0m eta \u001b[36m0:00:00\u001b[0m\n",
            "\u001b[?25hRequirement already satisfied: cachetools in /usr/local/lib/python3.10/dist-packages (from pennylane) (5.3.3)\n",
            "Collecting pennylane-lightning>=0.34 (from pennylane)\n",
            "  Downloading PennyLane_Lightning-0.34.0-cp310-cp310-manylinux_2_17_x86_64.manylinux2014_x86_64.whl (18.1 MB)\n",
            "\u001b[2K     \u001b[90m━━━━━━━━━━━━━━━━━━━━━━━━━━━━━━━━━━━━━━━━\u001b[0m \u001b[32m18.1/18.1 MB\u001b[0m \u001b[31m34.1 MB/s\u001b[0m eta \u001b[36m0:00:00\u001b[0m\n",
            "\u001b[?25hRequirement already satisfied: requests in /usr/local/lib/python3.10/dist-packages (from pennylane) (2.31.0)\n",
            "Requirement already satisfied: typing-extensions in /usr/local/lib/python3.10/dist-packages (from pennylane) (4.10.0)\n",
            "Requirement already satisfied: future>=0.15.2 in /usr/local/lib/python3.10/dist-packages (from autograd->pennylane) (0.18.3)\n",
            "Requirement already satisfied: charset-normalizer<4,>=2 in /usr/local/lib/python3.10/dist-packages (from requests->pennylane) (3.3.2)\n",
            "Requirement already satisfied: idna<4,>=2.5 in /usr/local/lib/python3.10/dist-packages (from requests->pennylane) (3.6)\n",
            "Requirement already satisfied: urllib3<3,>=1.21.1 in /usr/local/lib/python3.10/dist-packages (from requests->pennylane) (2.0.7)\n",
            "Requirement already satisfied: certifi>=2017.4.17 in /usr/local/lib/python3.10/dist-packages (from requests->pennylane) (2024.2.2)\n",
            "Installing collected packages: semantic-version, rustworkx, autoray, pennylane-lightning, pennylane\n",
            "Successfully installed autoray-0.6.8 pennylane-0.34.0 pennylane-lightning-0.34.0 rustworkx-0.14.1 semantic-version-2.10.0\n",
            "Collecting pennylane-cirq\n",
            "  Downloading PennyLane_Cirq-0.34.0-py3-none-any.whl (21 kB)\n",
            "Requirement already satisfied: pennylane>=0.29.0 in /usr/local/lib/python3.10/dist-packages (from pennylane-cirq) (0.34.0)\n",
            "Collecting cirq-core>=0.10 (from pennylane-cirq)\n",
            "  Downloading cirq_core-1.3.0-py3-none-any.whl (1.8 MB)\n",
            "\u001b[2K     \u001b[90m━━━━━━━━━━━━━━━━━━━━━━━━━━━━━━━━━━━━━━━━\u001b[0m \u001b[32m1.8/1.8 MB\u001b[0m \u001b[31m8.5 MB/s\u001b[0m eta \u001b[36m0:00:00\u001b[0m\n",
            "\u001b[?25hCollecting cirq-pasqal>=0.10 (from pennylane-cirq)\n",
            "  Downloading cirq_pasqal-1.3.0-py3-none-any.whl (31 kB)\n",
            "Collecting duet~=0.2.8 (from cirq-core>=0.10->pennylane-cirq)\n",
            "  Downloading duet-0.2.9-py3-none-any.whl (29 kB)\n",
            "Requirement already satisfied: matplotlib~=3.0 in /usr/local/lib/python3.10/dist-packages (from cirq-core>=0.10->pennylane-cirq) (3.7.1)\n",
            "Requirement already satisfied: networkx>=2.4 in /usr/local/lib/python3.10/dist-packages (from cirq-core>=0.10->pennylane-cirq) (3.2.1)\n",
            "Requirement already satisfied: numpy~=1.16 in /usr/local/lib/python3.10/dist-packages (from cirq-core>=0.10->pennylane-cirq) (1.25.2)\n",
            "Requirement already satisfied: pandas in /usr/local/lib/python3.10/dist-packages (from cirq-core>=0.10->pennylane-cirq) (1.5.3)\n",
            "Requirement already satisfied: sortedcontainers~=2.0 in /usr/local/lib/python3.10/dist-packages (from cirq-core>=0.10->pennylane-cirq) (2.4.0)\n",
            "Requirement already satisfied: scipy in /usr/local/lib/python3.10/dist-packages (from cirq-core>=0.10->pennylane-cirq) (1.11.4)\n",
            "Requirement already satisfied: sympy in /usr/local/lib/python3.10/dist-packages (from cirq-core>=0.10->pennylane-cirq) (1.12)\n",
            "Requirement already satisfied: typing-extensions>=4.2 in /usr/local/lib/python3.10/dist-packages (from cirq-core>=0.10->pennylane-cirq) (4.10.0)\n",
            "Requirement already satisfied: tqdm in /usr/local/lib/python3.10/dist-packages (from cirq-core>=0.10->pennylane-cirq) (4.66.2)\n",
            "Requirement already satisfied: requests~=2.18 in /usr/local/lib/python3.10/dist-packages (from cirq-pasqal>=0.10->pennylane-cirq) (2.31.0)\n",
            "Requirement already satisfied: rustworkx in /usr/local/lib/python3.10/dist-packages (from pennylane>=0.29.0->pennylane-cirq) (0.14.1)\n",
            "Requirement already satisfied: autograd in /usr/local/lib/python3.10/dist-packages (from pennylane>=0.29.0->pennylane-cirq) (1.6.2)\n",
            "Requirement already satisfied: toml in /usr/local/lib/python3.10/dist-packages (from pennylane>=0.29.0->pennylane-cirq) (0.10.2)\n",
            "Requirement already satisfied: appdirs in /usr/local/lib/python3.10/dist-packages (from pennylane>=0.29.0->pennylane-cirq) (1.4.4)\n",
            "Requirement already satisfied: semantic-version>=2.7 in /usr/local/lib/python3.10/dist-packages (from pennylane>=0.29.0->pennylane-cirq) (2.10.0)\n",
            "Requirement already satisfied: autoray>=0.6.1 in /usr/local/lib/python3.10/dist-packages (from pennylane>=0.29.0->pennylane-cirq) (0.6.8)\n",
            "Requirement already satisfied: cachetools in /usr/local/lib/python3.10/dist-packages (from pennylane>=0.29.0->pennylane-cirq) (5.3.3)\n",
            "Requirement already satisfied: pennylane-lightning>=0.34 in /usr/local/lib/python3.10/dist-packages (from pennylane>=0.29.0->pennylane-cirq) (0.34.0)\n",
            "Requirement already satisfied: contourpy>=1.0.1 in /usr/local/lib/python3.10/dist-packages (from matplotlib~=3.0->cirq-core>=0.10->pennylane-cirq) (1.2.0)\n",
            "Requirement already satisfied: cycler>=0.10 in /usr/local/lib/python3.10/dist-packages (from matplotlib~=3.0->cirq-core>=0.10->pennylane-cirq) (0.12.1)\n",
            "Requirement already satisfied: fonttools>=4.22.0 in /usr/local/lib/python3.10/dist-packages (from matplotlib~=3.0->cirq-core>=0.10->pennylane-cirq) (4.49.0)\n",
            "Requirement already satisfied: kiwisolver>=1.0.1 in /usr/local/lib/python3.10/dist-packages (from matplotlib~=3.0->cirq-core>=0.10->pennylane-cirq) (1.4.5)\n",
            "Requirement already satisfied: packaging>=20.0 in /usr/local/lib/python3.10/dist-packages (from matplotlib~=3.0->cirq-core>=0.10->pennylane-cirq) (23.2)\n",
            "Requirement already satisfied: pillow>=6.2.0 in /usr/local/lib/python3.10/dist-packages (from matplotlib~=3.0->cirq-core>=0.10->pennylane-cirq) (9.4.0)\n",
            "Requirement already satisfied: pyparsing>=2.3.1 in /usr/local/lib/python3.10/dist-packages (from matplotlib~=3.0->cirq-core>=0.10->pennylane-cirq) (3.1.1)\n",
            "Requirement already satisfied: python-dateutil>=2.7 in /usr/local/lib/python3.10/dist-packages (from matplotlib~=3.0->cirq-core>=0.10->pennylane-cirq) (2.8.2)\n",
            "Requirement already satisfied: charset-normalizer<4,>=2 in /usr/local/lib/python3.10/dist-packages (from requests~=2.18->cirq-pasqal>=0.10->pennylane-cirq) (3.3.2)\n",
            "Requirement already satisfied: idna<4,>=2.5 in /usr/local/lib/python3.10/dist-packages (from requests~=2.18->cirq-pasqal>=0.10->pennylane-cirq) (3.6)\n",
            "Requirement already satisfied: urllib3<3,>=1.21.1 in /usr/local/lib/python3.10/dist-packages (from requests~=2.18->cirq-pasqal>=0.10->pennylane-cirq) (2.0.7)\n",
            "Requirement already satisfied: certifi>=2017.4.17 in /usr/local/lib/python3.10/dist-packages (from requests~=2.18->cirq-pasqal>=0.10->pennylane-cirq) (2024.2.2)\n",
            "Requirement already satisfied: future>=0.15.2 in /usr/local/lib/python3.10/dist-packages (from autograd->pennylane>=0.29.0->pennylane-cirq) (0.18.3)\n",
            "Requirement already satisfied: pytz>=2020.1 in /usr/local/lib/python3.10/dist-packages (from pandas->cirq-core>=0.10->pennylane-cirq) (2023.4)\n",
            "Requirement already satisfied: mpmath>=0.19 in /usr/local/lib/python3.10/dist-packages (from sympy->cirq-core>=0.10->pennylane-cirq) (1.3.0)\n",
            "Requirement already satisfied: six>=1.5 in /usr/local/lib/python3.10/dist-packages (from python-dateutil>=2.7->matplotlib~=3.0->cirq-core>=0.10->pennylane-cirq) (1.16.0)\n",
            "Installing collected packages: duet, cirq-core, cirq-pasqal, pennylane-cirq\n",
            "Successfully installed cirq-core-1.3.0 cirq-pasqal-1.3.0 duet-0.2.9 pennylane-cirq-0.34.0\n"
          ]
        }
      ]
    },
    {
      "cell_type": "code",
      "execution_count": 2,
      "metadata": {
        "id": "Q-Gr4SrKNbFL",
        "colab": {
          "base_uri": "https://localhost:8080/"
        },
        "outputId": "dc9e40fa-5fff-4441-fcd8-c9d6316fe060"
      },
      "outputs": [
        {
          "output_type": "stream",
          "name": "stdout",
          "text": [
            "Name: PennyLane\n",
            "Version: 0.34.0\n",
            "Summary: PennyLane is a Python quantum machine learning library by Xanadu Inc.\n",
            "Home-page: https://github.com/PennyLaneAI/pennylane\n",
            "Author: \n",
            "Author-email: \n",
            "License: Apache License 2.0\n",
            "Location: /usr/local/lib/python3.10/dist-packages\n",
            "Requires: appdirs, autograd, autoray, cachetools, networkx, numpy, pennylane-lightning, requests, rustworkx, scipy, semantic-version, toml, typing-extensions\n",
            "Required-by: PennyLane-Cirq, PennyLane-Lightning\n",
            "\n",
            "Platform info:           Linux-6.1.58+-x86_64-with-glibc2.35\n",
            "Python version:          3.10.12\n",
            "Numpy version:           1.25.2\n",
            "Scipy version:           1.11.4\n",
            "Installed devices:\n",
            "- cirq.mixedsimulator (PennyLane-Cirq-0.34.0)\n",
            "- cirq.pasqal (PennyLane-Cirq-0.34.0)\n",
            "- cirq.qsim (PennyLane-Cirq-0.34.0)\n",
            "- cirq.qsimh (PennyLane-Cirq-0.34.0)\n",
            "- cirq.simulator (PennyLane-Cirq-0.34.0)\n",
            "- lightning.qubit (PennyLane-Lightning-0.34.0)\n",
            "- default.gaussian (PennyLane-0.34.0)\n",
            "- default.mixed (PennyLane-0.34.0)\n",
            "- default.qubit (PennyLane-0.34.0)\n",
            "- default.qubit.autograd (PennyLane-0.34.0)\n",
            "- default.qubit.jax (PennyLane-0.34.0)\n",
            "- default.qubit.legacy (PennyLane-0.34.0)\n",
            "- default.qubit.tf (PennyLane-0.34.0)\n",
            "- default.qubit.torch (PennyLane-0.34.0)\n",
            "- default.qutrit (PennyLane-0.34.0)\n",
            "- null.qubit (PennyLane-0.34.0)\n"
          ]
        }
      ],
      "source": [
        "import pennylane as qml\n",
        "import numpy as np\n",
        "import tensorflow as tf\n",
        "qml.about()"
      ]
    },
    {
      "cell_type": "markdown",
      "metadata": {
        "id": "_b6sFWAFNbFS"
      },
      "source": [
        "We also declare a 3-qubit simulator device running in Cirq.\n"
      ]
    },
    {
      "cell_type": "code",
      "execution_count": 3,
      "metadata": {
        "id": "0IMuumAzNbFY"
      },
      "outputs": [],
      "source": [
        "dev = qml.device('cirq.simulator', wires=3)"
      ]
    },
    {
      "cell_type": "markdown",
      "metadata": {
        "id": "H3Nx-rTUNbF3"
      },
      "source": [
        "Generator and Discriminator\n",
        "===========================\n",
        "\n",
        "In classical GANs, the starting point is to draw samples either from\n",
        "some \"real data\" distribution, or from the generator, and feed them to\n",
        "the discriminator. In this QGAN example, we will use a quantum circuit\n",
        "to generate the real data.\n",
        "\n",
        "For this simple example, our real data will be a qubit that has been\n",
        "rotated (from the starting state $\\left|0\\right\\rangle$) to some\n",
        "arbitrary, but fixed, state.\n"
      ]
    },
    {
      "cell_type": "code",
      "execution_count": 4,
      "metadata": {
        "id": "U1InEA22NbF9"
      },
      "outputs": [],
      "source": [
        "def real(angles, **kwargs):\n",
        "    qml.Hadamard(wires=0)\n",
        "    qml.Rot(*angles, wires=0)"
      ]
    },
    {
      "cell_type": "markdown",
      "metadata": {
        "id": "0idL8i8oNbGH"
      },
      "source": [
        "For the generator and discriminator, we will choose the same basic\n",
        "circuit structure, but acting on different wires.\n",
        "\n",
        "Both the real data circuit and the generator will output on wire 0,\n",
        "which will be connected as an input to the discriminator. Wire 1 is\n",
        "provided as a workspace for the generator, while the discriminator’s\n",
        "output will be on wire 2.\n"
      ]
    },
    {
      "cell_type": "code",
      "execution_count": 5,
      "metadata": {
        "id": "nyUU9c2YNbGV"
      },
      "outputs": [],
      "source": [
        "def generator(w, **kwargs):\n",
        "    qml.Hadamard(wires=0)\n",
        "    qml.RX(w[0], wires=0)\n",
        "    qml.RX(w[1], wires=1)\n",
        "    qml.RY(w[2], wires=0)\n",
        "    qml.RY(w[3], wires=1)\n",
        "    qml.RZ(w[4], wires=0)\n",
        "    qml.RZ(w[5], wires=1)\n",
        "    qml.CNOT(wires=[0, 1])\n",
        "    qml.RX(w[6], wires=0)\n",
        "    qml.RY(w[7], wires=0)\n",
        "    qml.RZ(w[8], wires=0)\n",
        "\n",
        "\n",
        "def discriminator(w):\n",
        "    qml.Hadamard(wires=0)\n",
        "    qml.RX(w[0], wires=0)\n",
        "    qml.RX(w[1], wires=2)\n",
        "    qml.RY(w[2], wires=0)\n",
        "    qml.RY(w[3], wires=2)\n",
        "    qml.RZ(w[4], wires=0)\n",
        "    qml.RZ(w[5], wires=2)\n",
        "    qml.CNOT(wires=[0, 2])\n",
        "    qml.RX(w[6], wires=2)\n",
        "    qml.RY(w[7], wires=2)\n",
        "    qml.RZ(w[8], wires=2)"
      ]
    },
    {
      "cell_type": "markdown",
      "metadata": {
        "id": "dOMowGw8NbGb"
      },
      "source": [
        "We create two QNodes. One where the real data source is wired up to the\n",
        "discriminator, and one where the generator is connected to the\n",
        "discriminator. In order to pass TensorFlow Variables into the quantum\n",
        "circuits, we specify the `\"tf\"` interface.\n"
      ]
    },
    {
      "cell_type": "code",
      "execution_count": 6,
      "metadata": {
        "id": "Qs9X_gmaNbGi"
      },
      "outputs": [],
      "source": [
        "@qml.qnode(dev, interface=\"tf\")\n",
        "def real_disc_circuit(phi, theta, omega, disc_weights):\n",
        "    real([phi, theta, omega])\n",
        "    discriminator(disc_weights)\n",
        "    return qml.expval(qml.PauliZ(2))\n",
        "\n",
        "\n",
        "@qml.qnode(dev, interface=\"tf\")\n",
        "def gen_disc_circuit(gen_weights, disc_weights):\n",
        "    generator(gen_weights)\n",
        "    discriminator(disc_weights)\n",
        "    return qml.expval(qml.PauliZ(2))"
      ]
    },
    {
      "cell_type": "markdown",
      "metadata": {
        "id": "C42uLGwvNbGn"
      },
      "source": [
        "QGAN cost functions\n",
        "===================\n",
        "\n",
        "There are two cost functions of interest, corresponding to the two\n",
        "stages of QGAN training. These cost functions are built from two pieces:\n",
        "the first piece is the probability that the discriminator correctly\n",
        "classifies real data as real. The second piece is the probability that\n",
        "the discriminator classifies fake data (i.e., a state prepared by the\n",
        "generator) as real.\n",
        "\n",
        "The discriminator is trained to maximize the probability of correctly\n",
        "classifying real data, while minimizing the probability of mistakenly\n",
        "classifying fake data.\n",
        "\n",
        "$$Cost_D = \\mathrm{Pr}(real|\\mathrm{fake}) - \\mathrm{Pr}(real|\\mathrm{real})$$\n",
        "\n",
        "The generator is trained to maximize the probability that the\n",
        "discriminator accepts fake data as real.\n",
        "\n",
        "$$Cost_G = - \\mathrm{Pr}(real|\\mathrm{fake})$$\n"
      ]
    },
    {
      "cell_type": "code",
      "execution_count": 7,
      "metadata": {
        "id": "Am6XlSqvNbGr"
      },
      "outputs": [],
      "source": [
        "def prob_real_true(disc_weights):\n",
        "    true_disc_output = real_disc_circuit(phi, theta, omega, disc_weights)\n",
        "    # convert to probability\n",
        "    prob_real_true = (true_disc_output + 1) / 2\n",
        "    return prob_real_true\n",
        "\n",
        "\n",
        "def prob_fake_true(gen_weights, disc_weights):\n",
        "    fake_disc_output = gen_disc_circuit(gen_weights, disc_weights)\n",
        "    # convert to probability\n",
        "    prob_fake_true = (fake_disc_output + 1) / 2\n",
        "    return prob_fake_true\n",
        "\n",
        "\n",
        "def disc_cost(disc_weights):\n",
        "    cost = prob_fake_true(gen_weights, disc_weights) - prob_real_true(disc_weights)\n",
        "    return cost\n",
        "\n",
        "\n",
        "def gen_cost(gen_weights):\n",
        "    return -prob_fake_true(gen_weights, disc_weights)"
      ]
    },
    {
      "cell_type": "markdown",
      "metadata": {
        "id": "dGUslKR_NbGv"
      },
      "source": [
        "Training the QGAN\n",
        "=================\n",
        "\n",
        "We initialize the fixed angles of the \"real data\" circuit, as well as\n",
        "the initial parameters for both generator and discriminator. These are\n",
        "chosen so that the generator initially prepares a state on wire 0 that\n",
        "is very close to the $\\left| 1 \\right\\rangle$ state.\n"
      ]
    },
    {
      "cell_type": "code",
      "execution_count": 8,
      "metadata": {
        "id": "t8bufjNhNbGx"
      },
      "outputs": [],
      "source": [
        "phi = np.pi / 6\n",
        "theta = np.pi / 2\n",
        "omega = np.pi / 7\n",
        "np.random.seed(0)\n",
        "eps = 1e-2\n",
        "init_gen_weights = np.array([np.pi] + [0] * 8) + \\\n",
        "                   np.random.normal(scale=eps, size=(9,))\n",
        "init_disc_weights = np.random.normal(size=(9,))\n",
        "\n",
        "gen_weights = tf.Variable(init_gen_weights)\n",
        "disc_weights = tf.Variable(init_disc_weights)"
      ]
    },
    {
      "cell_type": "markdown",
      "metadata": {
        "id": "eEnO0dI5NbG1"
      },
      "source": [
        "We begin by creating the optimizer:\n"
      ]
    },
    {
      "cell_type": "code",
      "execution_count": 9,
      "metadata": {
        "id": "2JcDhRBXNbG5"
      },
      "outputs": [],
      "source": [
        "opt = tf.keras.optimizers.SGD(0.4)"
      ]
    },
    {
      "cell_type": "markdown",
      "metadata": {
        "id": "IDTCp_PrNbG8"
      },
      "source": [
        "In the first stage of training, we optimize the discriminator while\n",
        "keeping the generator parameters fixed.\n"
      ]
    },
    {
      "cell_type": "code",
      "execution_count": 10,
      "metadata": {
        "id": "ZIC1YSXVNbHA",
        "colab": {
          "base_uri": "https://localhost:8080/"
        },
        "outputId": "ad0b59c2-f912-458c-beb6-d06f4c009079"
      },
      "outputs": [
        {
          "output_type": "stream",
          "name": "stdout",
          "text": [
            "Step 0: cost = -0.05727693438529968\n",
            "Step 5: cost = -0.26348117738962173\n",
            "Step 10: cost = -0.42739173769950867\n",
            "Step 15: cost = -0.4726158306002617\n",
            "Step 20: cost = -0.4840691462159157\n",
            "Step 25: cost = -0.4894638881087303\n",
            "Step 30: cost = -0.49281882494688034\n",
            "Step 35: cost = -0.49494923651218414\n",
            "Step 40: cost = -0.4962702915072441\n",
            "Step 45: cost = -0.4970718324184418\n"
          ]
        }
      ],
      "source": [
        "cost = lambda: disc_cost(disc_weights)\n",
        "\n",
        "for step in range(50):\n",
        "    opt.minimize(cost, disc_weights)\n",
        "    if step % 5 == 0:\n",
        "        cost_val = cost().numpy()\n",
        "        print(\"Step {}: cost = {}\".format(step, cost_val))"
      ]
    },
    {
      "cell_type": "markdown",
      "metadata": {
        "id": "zgNTqcNONbHD"
      },
      "source": [
        "At the discriminator’s optimum, the probability for the discriminator to\n",
        "correctly classify the real data should be close to one.\n"
      ]
    },
    {
      "cell_type": "code",
      "execution_count": 11,
      "metadata": {
        "id": "ILRDL1U_NbHF",
        "colab": {
          "base_uri": "https://localhost:8080/"
        },
        "outputId": "9561acae-41ef-4be5-9d02-d5784a174e7c"
      },
      "outputs": [
        {
          "output_type": "stream",
          "name": "stdout",
          "text": [
            "Prob(real classified as real):  0.9985871911048889\n"
          ]
        }
      ],
      "source": [
        "print(\"Prob(real classified as real): \", prob_real_true(disc_weights).numpy())"
      ]
    },
    {
      "cell_type": "markdown",
      "metadata": {
        "id": "D45xjfYCNbHK"
      },
      "source": [
        "For comparison, we check how the discriminator classifies the\n",
        "generator’s (still unoptimized) fake data:\n"
      ]
    },
    {
      "cell_type": "code",
      "execution_count": 12,
      "metadata": {
        "id": "H44culq7NbHP",
        "colab": {
          "base_uri": "https://localhost:8080/"
        },
        "outputId": "f32b974a-35f7-4489-c232-309abb8538c7"
      },
      "outputs": [
        {
          "output_type": "stream",
          "name": "stdout",
          "text": [
            "Prob(fake classified as real):  0.5011128857731819\n"
          ]
        }
      ],
      "source": [
        "print(\"Prob(fake classified as real): \", prob_fake_true(gen_weights, disc_weights).numpy())"
      ]
    },
    {
      "cell_type": "markdown",
      "metadata": {
        "id": "bV9Fi1grNbHS"
      },
      "source": [
        "In the adversarial game we now have to train the generator to better\n",
        "fool the discriminator. For this demo, we only perform one stage of the\n",
        "game. For more complex models, we would continue training the models in\n",
        "an alternating fashion until we reach the optimum point of the\n",
        "two-player adversarial game.\n"
      ]
    },
    {
      "cell_type": "code",
      "execution_count": 13,
      "metadata": {
        "id": "PLAa8g4TNbHV",
        "colab": {
          "base_uri": "https://localhost:8080/"
        },
        "outputId": "0b3d8dfd-7d6d-471f-8762-8bd026a2c44a"
      },
      "outputs": [
        {
          "output_type": "stream",
          "name": "stdout",
          "text": [
            "Step 0: cost = -0.5833386406302452\n",
            "Step 5: cost = -0.8915733993053436\n",
            "Step 10: cost = -0.9784243702888489\n",
            "Step 15: cost = -0.994648277759552\n",
            "Step 20: cost = -0.9984994232654572\n",
            "Step 25: cost = -0.9995637834072113\n",
            "Step 30: cost = -0.9998718798160553\n",
            "Step 35: cost = -0.9999620616436005\n",
            "Step 40: cost = -0.9999886751174927\n",
            "Step 45: cost = -0.9999966025352478\n"
          ]
        }
      ],
      "source": [
        "cost = lambda: gen_cost(gen_weights)\n",
        "\n",
        "for step in range(50):\n",
        "    opt.minimize(cost, gen_weights)\n",
        "    if step % 5 == 0:\n",
        "        cost_val = cost().numpy()\n",
        "        print(\"Step {}: cost = {}\".format(step, cost_val))"
      ]
    },
    {
      "cell_type": "markdown",
      "metadata": {
        "id": "83vTuMYwNbHY"
      },
      "source": [
        "At the optimum of the generator, the probability for the discriminator\n",
        "to be fooled should be close to 1.\n"
      ]
    },
    {
      "cell_type": "code",
      "execution_count": 14,
      "metadata": {
        "id": "IGWRmmssNbHb",
        "colab": {
          "base_uri": "https://localhost:8080/"
        },
        "outputId": "12a33bad-8e06-427f-9f99-945c77ff6700"
      },
      "outputs": [
        {
          "output_type": "stream",
          "name": "stdout",
          "text": [
            "Prob(fake classified as real):  0.9999987483024597\n"
          ]
        }
      ],
      "source": [
        "print(\"Prob(fake classified as real): \", prob_fake_true(gen_weights, disc_weights).numpy())"
      ]
    },
    {
      "cell_type": "markdown",
      "metadata": {
        "id": "MJ2imlsxNbHe"
      },
      "source": [
        "At the joint optimum the discriminator cost will be close to zero,\n",
        "indicating that the discriminator assigns equal probability to both real\n",
        "and generated data.\n"
      ]
    },
    {
      "cell_type": "code",
      "execution_count": 15,
      "metadata": {
        "id": "1fG845RoNbHg",
        "colab": {
          "base_uri": "https://localhost:8080/"
        },
        "outputId": "be4f5d0e-2325-4dbd-b65c-9819efb8a4d4"
      },
      "outputs": [
        {
          "output_type": "stream",
          "name": "stdout",
          "text": [
            "Discriminator cost:  0.0014115571975708008\n"
          ]
        }
      ],
      "source": [
        "print(\"Discriminator cost: \", disc_cost(disc_weights).numpy())"
      ]
    },
    {
      "cell_type": "markdown",
      "metadata": {
        "id": "oPeVVTcGNbHi"
      },
      "source": [
        "The generator has successfully learned how to simulate the real data\n",
        "enough to fool the discriminator.\n",
        "\n",
        "Let's conclude by comparing the states of the real data circuit and the\n",
        "generator. We expect the generator to have learned to be in a state that\n",
        "is very close to the one prepared in the real data circuit. An easy way\n",
        "to access the state of the first qubit is through its [Bloch\n",
        "sphere](https://en.wikipedia.org/wiki/Bloch_sphere) representation:\n"
      ]
    },
    {
      "cell_type": "code",
      "execution_count": 18,
      "metadata": {
        "id": "lyoSS0RiNbHk"
      },
      "outputs": [],
      "source": [
        "obs = [qml.PauliX(0), qml.PauliY(0), qml.PauliZ(0)]\n",
        "\n",
        "#bloch_vector_real = qml.map_wires(real, obs, dev, interface=\"tf\")\n",
        "#bloch_vector_generator = qml.map_wires(generator, obs, dev, interface=\"tf\")\n",
        "\n",
        "bloch_vector_real = qml.map_wires(real, obs, dev)\n",
        "bloch_vector_generator = qml.map_wires(generator, obs, dev)\n",
        "#print(\"Real Bloch vector: {}\".format(bloch_vector_real([phi, theta, omega])))\n",
        "#print(\"Generator Bloch vector: {}\".format(bloch_vector_generator(gen_weights)))"
      ]
    }
  ],
  "metadata": {
    "kernelspec": {
      "display_name": "Python 3",
      "language": "python",
      "name": "python3"
    },
    "language_info": {
      "codemirror_mode": {
        "name": "ipython",
        "version": 3
      },
      "file_extension": ".py",
      "mimetype": "text/x-python",
      "name": "python",
      "nbconvert_exporter": "python",
      "pygments_lexer": "ipython3",
      "version": "3.7.2"
    },
    "colab": {
      "provenance": [],
      "include_colab_link": true
    }
  },
  "nbformat": 4,
  "nbformat_minor": 0
}
