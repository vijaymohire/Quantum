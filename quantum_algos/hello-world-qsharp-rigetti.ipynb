{
  "cells": [
    {
      "cell_type": "markdown",
      "id": "f4504484-5868-402a-85c3-76858e78d502",
      "metadata": {},
      "source": [
        "# 👋🌍 Hello, world: Submit a Q# job to Rigetti\n",
        "\n",
        "In this notebook, we'll review the basics of Azure Quantum by submitting a simple *job*, or quantum program, to [Rigetti](https://www.rigetti.com/). We will use [Q#](https://learn.microsoft.com/azure/quantum/user-guide/) to express the quantum job."
      ]
    },
    {
      "cell_type": "markdown",
      "id": "ea815186-063f-4e6c-a8f1-06838bad5a83",
      "metadata": {
        "nteract": {
          "transient": {
            "deleting": false
          }
        }
      },
      "source": [
        "## Submit a simple job to Rigetti using Azure Quantum\n",
        "Azure Quantum provides several ways to express quantum programs. In this example we are using Q#, but note that Qiskit is also supported. All code in this example will be written in Python and Q#.\n",
        "\n",
        "Let's begin. When you see a code block, hover over it and click the triangle play-button to execute it. To avoid any compilation issues, this should be done in order from top to bottom."
      ]
    },
    {
      "cell_type": "markdown",
      "id": "ca90786b-8432-4e46-abba-05855047aed8",
      "metadata": {
        "nteract": {
          "transient": {
            "deleting": false
          }
        }
      },
      "source": [
        "### 1. Connect to the Azure Quantum workspace\n",
        "\n",
        "To connect to the Azure Quantum service, initialize the `Workspace` as seen below."
      ]
    },
    {
      "cell_type": "code",
      "execution_count": 1,
      "id": "0cc00d71-e8d8-447a-b40f-5cc1784002e0",
      "metadata": {},
      "outputs": [],
      "source": [
        "from azure.quantum import Workspace\n",
        "\n",
        "workspace = Workspace(\n",
        "            resource_id = \"\",\n",
        "            location = \"\")\n",
        "\n"
      ]
    },
    {
      "cell_type": "markdown",
      "id": "dcd6f6c2-98f5-4a85-900e-6d06625baca7",
      "metadata": {
        "nteract": {
          "transient": {
            "deleting": false
          }
        }
      },
      "source": [
        "We can use the resulting object to see which _targets_ are available for submission."
      ]
    },
    {
      "cell_type": "code",
      "execution_count": 2,
      "id": "013e6d23-d364-4926-93b9-4b829a9d85d7",
      "metadata": {
        "jupyter": {
          "outputs_hidden": false,
          "source_hidden": false
        },
        "nteract": {
          "transient": {
            "deleting": false
          }
        }
      },
      "outputs": [
        {
          "name": "stdout",
          "output_type": "stream",
          "text": [
            "This workspace's targets:\n",
            "- ionq.qpu.aria-1\n",
            "- ionq.qpu.aria-2\n",
            "- ionq.simulator\n",
            "- microsoft.estimator\n",
            "- quantinuum.qpu.h1-1\n",
            "- quantinuum.sim.h1-1sc\n",
            "- quantinuum.sim.h1-1e\n",
            "- rigetti.sim.qvm\n",
            "- rigetti.qpu.ankaa-2\n"
          ]
        }
      ],
      "source": [
        "print(\"This workspace's targets:\")\n",
        "for target in workspace.get_targets():\n",
        "    print(\"-\", target.name)\n"
      ]
    },
    {
      "cell_type": "markdown",
      "id": "06babf11-5463-4890-a9da-14aa0add09e6",
      "metadata": {
        "nteract": {
          "transient": {
            "deleting": false
          }
        }
      },
      "source": [
        "### ❕ Do you see `rigetti.sim.qvm` in your list of targets? If so, you're ready to keep going.\n",
        "\n",
        "Don't see it? You may need to add Rigetti to your workspace to run this sample. Navigate to the **Providers** page in the portal and click **+Add** to add the Rigetti provider."
      ]
    },
    {
      "attachments": {},
      "cell_type": "markdown",
      "id": "9c74a673-6d07-4dab-8c28-c0b47e75365b",
      "metadata": {
        "nteract": {
          "transient": {
            "deleting": false
          }
        }
      },
      "source": [
        "## Rigetti: The quantum provider\n",
        "Azure Quantum partners with third-party companies to deliver solutions to quantum jobs. These company offerings are called *providers*. Each provider can offer multiple *targets* with different capabilities. See the table below for Rigetti's targets.\n",
        "\n",
        "| Target name | Target ID | Number of qubits | Description |\n",
        "| --- | --- | --- | --- |\n",
        "| Rigetti QVM (simulator) | `rigetti.sim.qvm` | 20 qubits | Rigetti's cloud-based, [open-source](https://github.com/quil-lang/qvm) \"Quantum Virtual Machine\" simulator. Free to use. |\n",
        "| Ankaa-9q-1 (hardware) | `rigetti.qpu.ankaa-9q-1` | 9 qubits | A 4th-generation, square-lattice processor. Pricing based on QPUs. |\n",
        "| Ankaa-2 (hardware) | `rigetti.qpu.ankaa-2` | 84 qubits | A 4th-generation, square-lattice processor. Pricing based on QPUs. |\n",
        "\n",
        "For this example, we will use `rigetti.sim.qvm`. To learn more about Rigetti's targets, check out [Rigetti's Azure Quantum documentation](https://learn.microsoft.com/azure/quantum/provider-rigetti)."
      ]
    },
    {
      "cell_type": "markdown",
      "id": "380bcb7c-fef2-46ad-bfc6-a29adc24ebe4",
      "metadata": {},
      "source": [
        "### 2. Build the quantum program\n",
        "\n",
        "Let's create a simple Q# program to run.\n",
        "\n",
        "First, let's initialize the Q# environment and set the target profile to Base Profile. Today, Azure Quantum targets only support the Base Profile, a subset of all Q# commands."
      ]
    },
    {
      "cell_type": "code",
      "execution_count": 3,
      "id": "3b5fe07b-681a-41bc-8d57-376ed1876d36",
      "metadata": {
        "jupyter": {
          "outputs_hidden": false,
          "source_hidden": false
        },
        "nteract": {
          "transient": {
            "deleting": false
          }
        }
      },
      "outputs": [
        {
          "data": {
            "application/javascript": "",
            "text/plain": []
          },
          "metadata": {},
          "output_type": "display_data"
        },
        {
          "data": {
            "application/x.qsharp-config": "{\"targetProfile\":\"base\",\"languageFeatures\":null,\"manifest\":null}",
            "text/plain": [
              "Q# initialized with configuration: {'targetProfile': 'base', 'languageFeatures': None, 'manifest': None}"
            ]
          },
          "execution_count": 3,
          "metadata": {},
          "output_type": "execute_result"
        }
      ],
      "source": [
        "import qsharp\n",
        "qsharp.init(target_profile=qsharp.TargetProfile.Base)\n"
      ]
    },
    {
      "cell_type": "code",
      "execution_count": 4,
      "id": "12bd673b-7859-4ded-854b-58a4e23572b4",
      "metadata": {
        "microsoft": {
          "language": "qsharp"
        }
      },
      "outputs": [],
      "source": [
        "%%qsharp\n",
        "open Microsoft.Quantum.Measurement;\n",
        "open Microsoft.Quantum.Arrays;\n",
        "open Microsoft.Quantum.Convert;\n",
        "\n",
        "operation GenerateRandomBit() : Result {\n",
        "    use target = Qubit();\n",
        "\n",
        "    // Apply an H-gate and measure.\n",
        "    H(target);\n",
        "    return M(target);\n",
        "}\n"
      ]
    },
    {
      "cell_type": "code",
      "execution_count": 5,
      "id": "2eb31c73-84ff-4210-90f1-d873a95bd81a",
      "metadata": {
        "jupyter": {
          "outputs_hidden": false,
          "source_hidden": false
        },
        "nteract": {
          "transient": {
            "deleting": false
          }
        }
      },
      "outputs": [
        {
          "data": {},
          "metadata": {},
          "output_type": "display_data"
        }
      ],
      "source": [
        "# Compile the qsharp operation\n",
        "operation = qsharp.compile(\"GenerateRandomBit()\")\n"
      ]
    },
    {
      "cell_type": "markdown",
      "id": "7124cadc-2440-4c00-a555-1a4b5b6da9ad",
      "metadata": {
        "nteract": {
          "transient": {
            "deleting": false
          }
        }
      },
      "source": [
        "The program you built is a simple quantum random bit generator. With Rigetti's simulator, we will be able to estimate the probability of measuring a `1` or `0`."
      ]
    },
    {
      "cell_type": "markdown",
      "id": "df747618-48a7-4156-904c-246e0b42286f",
      "metadata": {},
      "source": [
        "### 3. Submit the quantum program to Rigetti\n",
        "\n",
        "\n",
        "We will use the `target.submit` function to run the quantum program above on Rigetti's `rigetti.sim.qvm` target. This may take a minute or so ⏳. Your job will be packaged and sent to Rigetti, where it will wait its turn to be run."
      ]
    },
    {
      "cell_type": "code",
      "execution_count": 6,
      "id": "16243d28-39fc-4f6e-802d-48c438186fd2",
      "metadata": {},
      "outputs": [
        {
          "name": "stdout",
          "output_type": "stream",
          "text": [
            "Job Id:d4e2bcb6-7e3d-11ef-ae1e-00155d96fc17\n",
            "........."
          ]
        }
      ],
      "source": [
        "# Set the target to rigetti.sim.qvm\n",
        "target = workspace.get_targets(\"rigetti.sim.qvm\")\n",
        "\n",
        "# Execute the job. We'll use 100 shots (simulated runs).\n",
        "job = target.submit(operation, \"Generate one random bit\", shots=100)\n",
        "print(\"Job Id:\" + job.id)\n",
        "\n",
        "result = job.get_results()\n"
      ]
    },
    {
      "cell_type": "markdown",
      "id": "13c0627a-c9f0-424d-9f81-46cfab052c41",
      "metadata": {
        "nteract": {
          "transient": {
            "deleting": false
          }
        }
      },
      "source": [
        "The job ID can be used to retrieve the results later using the [get_job method](https://learn.microsoft.com/python/azure-quantum/azure.quantum.workspace?#azure-quantum-workspace-get-job) or by viewing it under the **Job management** section of the portal."
      ]
    },
    {
      "cell_type": "markdown",
      "id": "e184a04d-02cc-4d42-927a-aadd604120d3",
      "metadata": {
        "nteract": {
          "transient": {
            "deleting": false
          }
        }
      },
      "source": [
        "### 4. Visualize job results \n",
        "You can also view a histogram of the results using [`pyplot`](https://matplotlib.org/stable/api/_as_gen/matplotlib.pyplot.html):"
      ]
    },
    {
      "cell_type": "code",
      "execution_count": 7,
      "id": "654f4604-fa9a-4045-882e-5455bcabd3ba",
      "metadata": {
        "jupyter": {
          "outputs_hidden": false,
          "source_hidden": false
        },
        "nteract": {
          "transient": {
            "deleting": false
          }
        }
      },
      "outputs": [
        {
          "data": {
            "image/png": "[encoded data removed]",
            "text/plain": [
              "<Figure size 640x480 with 1 Axes>"
            ]
          },
          "metadata": {},
          "output_type": "display_data"
        }
      ],
      "source": [
        "from matplotlib import pyplot\n",
        "\n",
        "pyplot.bar(result.keys(), result.values())\n",
        "pyplot.title(\"Result\")\n",
        "pyplot.xlabel(\"Measurement\")\n",
        "pyplot.ylabel(\"Probability\")\n",
        "\n",
        "pyplot.show()\n",
        "\n"
      ]
    },
    {
      "cell_type": "markdown",
      "id": "ea8f562e-594a-43d9-b278-2f78cd3bc80f",
      "metadata": {
        "nteract": {
          "transient": {
            "deleting": false
          }
        }
      },
      "source": [
        "**See the histogram above? Congratulations, you've submitted a job with Azure Quantum! 👏**\n"
      ]
    },
    {
      "attachments": {},
      "cell_type": "markdown",
      "id": "4cdb3bb1-3044-4b99-81a3-bc8339a34cbe",
      "metadata": {
        "nteract": {
          "transient": {
            "deleting": false
          }
        }
      },
      "source": [
        "### 5. Next steps\n",
        "Next, you can try running a program on one of Rigetti's hardware targets. Just replace `rigetti.sim.qvm` with `rigetti.qpu.ankaa-9q-1`. Or try another sample by navigating back to the sample gallery. The same \"hello world\" sample can be run with different quantum providers by choosing another option in the gallery card drop-down menu. Don't worry - your work here is automatically saved.\n",
        "\n",
        "To learn more about submitting jobs to Azure Quantum using Q#, refer to the [Azure Quantum documentation](https://learn.microsoft.com/azure/quantum/how-to-submit-jobs?pivots=ide-python&tabs=tabid-python).\n",
        "\n",
        "To learn more about job pricing, review [Azure Quantum's pricing documentation](https://learn.microsoft.com/azure/quantum/azure-quantum-job-costs)."
      ]
    }
  ],
  "metadata": {
    "kernel_info": {
      "name": "python3"
    },
    "kernelspec": {
      "display_name": "Python 3.6.1 64-bit ('Anaconda2022')",
      "language": "python",
      "name": "python3"
    },
    "language_info": {
      "codemirror_mode": {
        "name": "ipython",
        "version": 3
      },
      "file_extension": ".py",
      "mimetype": "text/x-python",
      "name": "python",
      "nbconvert_exporter": "python",
      "pygments_lexer": "ipython3",
      "version": "3.6.1"
    },
    "microsoft": {
      "host": {
        "AzureQuantum": {
          "sourceLink": "https://raw.githubusercontent.com/microsoft/azure-quantum-python/4fda476b1f409f7b264c70ccfd5032fe4909b999/samples/hello-world/HW-rigetti-qsharp.ipynb",
          "sourceType": "SampleGallery"
        }
      }
    },
    "nteract": {
      "version": "nteract-front-end@1.0.0"
    },
    "vscode": {
      "interpreter": {
        "hash": "25b6fc688f39b286835cfd678f84921212677a754a4536fe5337251eebb04549"
      }
    }
  },
  "nbformat": 4,
  "nbformat_minor": 5
}
