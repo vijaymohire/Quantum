{
 "cells": [
  {
   "cell_type": "code",
   "execution_count": 4,
   "id": "daa99a3b",
   "metadata": {},
   "outputs": [
    {
     "name": "stderr",
     "output_type": "stream",
     "text": [
      "ibmqfactory.load_account:WARNING:2021-07-19 13:01:00,898: Credentials are already in use. The existing account in the session will be replaced.\n"
     ]
    }
   ],
   "source": [
    "from qiskit import QuantumRegister, ClassicalRegister\n",
    "from qiskit import QuantumCircuit, execute,IBMQ,Aer\n",
    "from qiskit.tools.monitor import job_monitor\n",
    "from qiskit.circuit.library import QFT\n",
    "import numpy as np\n",
    "\n",
    "pi = np.pi\n",
    "\n",
    "# Loading your IBM Quantum account(s)\n",
    "provider = IBMQ.load_account()"
   ]
  },
  {
   "cell_type": "code",
   "execution_count": 5,
   "id": "f2ec7d4c",
   "metadata": {},
   "outputs": [
    {
     "name": "stdout",
     "output_type": "stream",
     "text": [
      "     ┌───┐                                                                 »\n",
      "q_0: ┤ X ├───────────────────────────────────────────────■─────────────────»\n",
      "     └───┘                                               │                 »\n",
      "q_1: ──────────────────────────────────■─────────────────┼─────────■───────»\n",
      "     ┌───┐                             │                 │         │       »\n",
      "q_2: ┤ X ├───────────────■─────────────┼────────■────────┼─────────┼───────»\n",
      "     └───┘               │       ┌───┐ │        │P(π/2)  │         │P(π/4) »\n",
      "q_3: ───────────■────────┼───────┤ H ├─┼────────■────────┼─────────■───────»\n",
      "     ┌───┐┌───┐ │P(π/2)  │P(π/4) └───┘ │P(π/8)           │P(π/16)          »\n",
      "q_4: ┤ X ├┤ H ├─■────────■─────────────■─────────────────■─────────────────»\n",
      "     └───┘└───┘                                                            »\n",
      "c: 5/══════════════════════════════════════════════════════════════════════»\n",
      "                                                                           »\n",
      "«                                                   ┌───┐         ┌─┐   \n",
      "«q_0: ──────■─────────────────■─────────────■───────┤ H ├─X───────┤M├───\n",
      "«           │                 │       ┌───┐ │P(π/2) └───┘ │ ┌─┐   └╥┘   \n",
      "«q_1: ──────┼────────■────────┼───────┤ H ├─■─────────X───┼─┤M├────╫────\n",
      "«     ┌───┐ │        │P(π/2)  │P(π/4) └┬─┬┘           │   │ └╥┘    ║    \n",
      "«q_2: ┤ H ├─┼────────■────────■────────┤M├────────────┼───┼──╫─────╫────\n",
      "«     └───┘ │P(π/8)                    └╥┘            │   │  ║ ┌─┐ ║    \n",
      "«q_3: ──────■───────────────────────────╫─────────────X───┼──╫─┤M├─╫────\n",
      "«                                       ║                 │  ║ └╥┘ ║ ┌─┐\n",
      "«q_4: ──────────────────────────────────╫─────────────────X──╫──╫──╫─┤M├\n",
      "«                                       ║                    ║  ║  ║ └╥┘\n",
      "«c: 5/══════════════════════════════════╩════════════════════╩══╩══╩══╩═\n",
      "«                                       2                    1  3  0  4 \n"
     ]
    }
   ],
   "source": [
    "q = QuantumRegister(5,'q')\n",
    "c = ClassicalRegister(5,'c')\n",
    "\n",
    "circuit = QuantumCircuit(q,c)\n",
    "\n",
    "circuit.x(q[4])\n",
    "circuit.x(q[2])\n",
    "circuit.x(q[0])\n",
    "circuit += QFT(num_qubits=5, approximation_degree=0, do_swaps=True, inverse=False, insert_barriers=False, name='qft')\n",
    "circuit.measure(q,c)\n",
    "circuit.draw(output='mpl', filename='qft1.png')\n",
    "print(circuit)"
   ]
  },
  {
   "cell_type": "code",
   "execution_count": 6,
   "id": "e4449460",
   "metadata": {},
   "outputs": [
    {
     "name": "stdout",
     "output_type": "stream",
     "text": [
      "Job Status: job has successfully run\n",
      "\n",
      " QFT Output\n",
      "-------------\n",
      "{'10011': 21, '11011': 32, '00110': 23, '00010': 43, '01100': 37, '01000': 38, '01111': 43, '00011': 30, '00100': 27, '00111': 26, '11010': 37, '11000': 22, '10111': 24, '11111': 45, '10010': 35, '10110': 36, '11110': 30, '11100': 38, '10000': 30, '10101': 27, '01110': 23, '01101': 29, '00001': 23, '01001': 33, '00101': 36, '00000': 30, '01011': 38, '10100': 23, '11101': 34, '11001': 30, '10001': 26, '01010': 31}\n"
     ]
    }
   ],
   "source": [
    "backend = Aer.get_backend('aer_simulator') \n",
    "\n",
    "job = execute(circuit, backend, shots=1000)\n",
    "\n",
    "job_monitor(job)\n",
    "\n",
    "counts = job.result().get_counts()\n",
    "\n",
    "print(\"\\n QFT Output\")\n",
    "print(\"-------------\")\n",
    "print(counts)"
   ]
  },
  {
   "cell_type": "code",
   "execution_count": 8,
   "id": "5e07c691",
   "metadata": {},
   "outputs": [
    {
     "name": "stdout",
     "output_type": "stream",
     "text": [
      "     ┌───┐                                           ░                        »\n",
      "q_0: ┤ X ├─────────────────────────────────■─────────░────────────────────────»\n",
      "     └───┘                                 │         ░                        »\n",
      "q_1: ─────────────────────────────■────────┼─────────░────────────────■───────»\n",
      "     ┌───┐                        │        │         ░                │       »\n",
      "q_2: ┤ X ├───────────────■────────┼────────┼─────────░───────■────────┼───────»\n",
      "     └───┘               │        │        │         ░ ┌───┐ │P(π/2)  │P(π/4) »\n",
      "q_3: ───────────■────────┼────────┼────────┼─────────░─┤ H ├─■────────■───────»\n",
      "     ┌───┐┌───┐ │P(π/2)  │P(π/4)  │P(π/8)  │P(π/16)  ░ └───┘                  »\n",
      "q_4: ┤ X ├┤ H ├─■────────■────────■────────■─────────░────────────────────────»\n",
      "     └───┘└───┘                                      ░                        »\n",
      "c: 5/═════════════════════════════════════════════════════════════════════════»\n",
      "                                                                              »\n",
      "«               ░                         ░                ░ ┌───┐ ░          »\n",
      "«q_0: ─■────────░────────────────■────────░───────■────────░─┤ H ├─░──X───────»\n",
      "«      │        ░                │        ░ ┌───┐ │P(π/2)  ░ └───┘ ░  │       »\n",
      "«q_1: ─┼────────░───────■────────┼────────░─┤ H ├─■────────░───────░──┼──X──X─»\n",
      "«      │        ░ ┌───┐ │P(π/2)  │P(π/4)  ░ └───┘          ░       ░  │  │  │ »\n",
      "«q_2: ─┼────────░─┤ H ├─■────────■────────░────────────────░───────░──┼──┼──┼─»\n",
      "«      │P(π/8)  ░ └───┘                   ░                ░       ░  │  │  │ »\n",
      "«q_3: ─■────────░─────────────────────────░────────────────░───────░──┼──X──X─»\n",
      "«               ░                         ░                ░       ░  │       »\n",
      "«q_4: ──────────░─────────────────────────░────────────────░───────░──X───────»\n",
      "«               ░                         ░                ░       ░          »\n",
      "«c: 5/════════════════════════════════════════════════════════════════════════»\n",
      "«                                                                             »\n",
      "«         ░ ┌───┐ ░                 ░                           ░           »\n",
      "«q_0: ─X──░─┤ H ├─░──■──────────────░──■────────────────────────░──■────────»\n",
      "«      │  ░ └───┘ ░  │P(-π/2) ┌───┐ ░  │                        ░  │        »\n",
      "«q_1: ─┼──░───────░──■────────┤ H ├─░──┼─────────■──────────────░──┼────────»\n",
      "«      │  ░       ░           └───┘ ░  │P(-π/4)  │P(-π/2) ┌───┐ ░  │        »\n",
      "«q_2: ─┼──░───────░─────────────────░──■─────────■────────┤ H ├─░──┼────────»\n",
      "«      │  ░       ░                 ░                     └───┘ ░  │P(-π/8) »\n",
      "«q_3: ─┼──░───────░─────────────────░───────────────────────────░──■────────»\n",
      "«      │  ░       ░                 ░                           ░           »\n",
      "«q_4: ─X──░───────░─────────────────░───────────────────────────░───────────»\n",
      "«         ░       ░                 ░                           ░           »\n",
      "«c: 5/══════════════════════════════════════════════════════════════════════»\n",
      "«                                                                           »\n",
      "«                               ░                      ┌─┐             »\n",
      "«q_0: ──────────────────────────░──■───────────────────┤M├─────────────»\n",
      "«                               ░  │                   └╥┘          ┌─┐»\n",
      "«q_1: ─■────────────────────────░──┼──────────■─────────╫───────────┤M├»\n",
      "«      │                        ░  │          │         ║           └╥┘»\n",
      "«q_2: ─┼─────────■──────────────░──┼──────────┼─────────╫──■─────────╫─»\n",
      "«      │P(-π/4)  │P(-π/2) ┌───┐ ░  │          │         ║  │         ║ »\n",
      "«q_3: ─■─────────■────────┤ H ├─░──┼──────────┼─────────╫──┼─────────╫─»\n",
      "«                         └───┘ ░  │P(-π/16)  │P(-π/8)  ║  │P(-π/4)  ║ »\n",
      "«q_4: ──────────────────────────░──■──────────■─────────╫──■─────────╫─»\n",
      "«                               ░                       ║            ║ »\n",
      "«c: 5/══════════════════════════════════════════════════╩════════════╩═»\n",
      "«                                                       0            1 »\n",
      "«                             \n",
      "«q_0: ────────────────────────\n",
      "«                             \n",
      "«q_1: ────────────────────────\n",
      "«               ┌─┐           \n",
      "«q_2: ──────────┤M├───────────\n",
      "«               └╥┘     ┌─┐   \n",
      "«q_3: ─■─────────╫──────┤M├───\n",
      "«      │P(-π/2)  ║ ┌───┐└╥┘┌─┐\n",
      "«q_4: ─■─────────╫─┤ H ├─╫─┤M├\n",
      "«                ║ └───┘ ║ └╥┘\n",
      "«c: 5/═══════════╩═══════╩══╩═\n",
      "«                2       3  4 \n"
     ]
    }
   ],
   "source": [
    "#input()\n",
    "\n",
    "q = QuantumRegister(5,'q')\n",
    "c = ClassicalRegister(5,'c')\n",
    "\n",
    "circuit = QuantumCircuit(q,c)\n",
    "\n",
    "circuit.x(q[4])\n",
    "circuit.x(q[2])\n",
    "circuit.x(q[0])\n",
    "circuit += QFT(num_qubits=5, approximation_degree=0, do_swaps=True, inverse=False, insert_barriers=True, name='qft')\n",
    "circuit += QFT(num_qubits=5, approximation_degree=0, do_swaps=True, inverse=True, insert_barriers=True, name='qft')\n",
    "circuit.measure(q,c)\n",
    "circuit.draw(output='mpl',filename='qft2.png')\n",
    "\n",
    "print(circuit)\n"
   ]
  },
  {
   "cell_type": "code",
   "execution_count": 9,
   "id": "642ed9c9",
   "metadata": {},
   "outputs": [
    {
     "name": "stdout",
     "output_type": "stream",
     "text": [
      "Job Status: job has successfully run\n",
      "\n",
      " QFT with inverse QFT Output\n",
      "------------------------------\n",
      "{'10101': 1000}\n"
     ]
    }
   ],
   "source": [
    "job = execute(circuit, backend, shots=1000)\n",
    "\n",
    "job_monitor(job)\n",
    "\n",
    "counts = job.result().get_counts()\n",
    "\n",
    "print(\"\\n QFT with inverse QFT Output\")\n",
    "print(\"------------------------------\")\n",
    "print(counts)"
   ]
  },
  {
   "cell_type": "code",
   "execution_count": null,
   "id": "b5a22e13",
   "metadata": {},
   "outputs": [],
   "source": [
    "This code is a part of Qiskit\n",
    "\n",
    "© Copyright IBM 2017, 2020.\n",
    "\n",
    "This code is licensed under the Apache License, Version 2.0. You may obtain a copy of this license in the LICENSE.txt file in the root directory of this source tree or at http://www.apache.org/licenses/LICENSE-2.0.\n",
    "\n",
    "Any modifications or derivative works of this code must retain this copyright notice, and modified files need to carry a notice indicating that they have been altered from the originals.\n",
    "\n",
    "#Program executed by Bhadale IT in IBM Quantum Lab (https://www.bhadaleit.com).\n",
    "#For more details on the Qiskit code and tutorials visit https://qiskit.org/ website"
   ]
  }
 ],
 "metadata": {
  "kernelspec": {
   "display_name": "Python 3",
   "language": "python",
   "name": "python3"
  },
  "language_info": {
   "codemirror_mode": {
    "name": "ipython",
    "version": 3
   },
   "file_extension": ".py",
   "mimetype": "text/x-python",
   "name": "python",
   "nbconvert_exporter": "python",
   "pygments_lexer": "ipython3",
   "version": "3.8.10"
  }
 },
 "nbformat": 4,
 "nbformat_minor": 5
}
