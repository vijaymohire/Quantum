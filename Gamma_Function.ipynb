{
 "cells": [
  {
   "cell_type": "code",
   "execution_count": 11,
   "metadata": {
    "collapsed": true
   },
   "outputs": [],
   "source": [
    "# Orignal-source/copyrights of:Sci Py website,https://docs.scipy.org/ \n",
    "# Demonstration of use of gamma function\n",
    "\n",
    "from scipy.special import gamma, factorial #import function from library"
   ]
  },
  {
   "cell_type": "code",
   "execution_count": 12,
   "metadata": {},
   "outputs": [
    {
     "data": {
      "text/plain": [
       "array([         inf,   1.77245385,   1.        ,  24.        ])"
      ]
     },
     "execution_count": 12,
     "metadata": {},
     "output_type": "execute_result"
    }
   ],
   "source": [
    "gamma([0, 0.5, 1, 5])#scipy.special.gamma(z, out=None) = <ufunc 'gamma'>"
   ]
  },
  {
   "cell_type": "code",
   "execution_count": 13,
   "metadata": {},
   "outputs": [
    {
     "data": {
      "text/plain": [
       "(0.77476210455108419+0.70763120437959348j)"
      ]
     },
     "execution_count": 13,
     "metadata": {},
     "output_type": "execute_result"
    }
   ],
   "source": [
    "z = 2.5 + 1j # Initialize a complex number\n",
    "gamma(z) # Pass the complex number to gamma function"
   ]
  },
  {
   "cell_type": "code",
   "execution_count": 14,
   "metadata": {},
   "outputs": [],
   "source": [
    "import numpy as np #import numpy from libraries\n",
    "x = np.linspace(-3.5, 5.5, 2251) #numpy.linspace(start, stop, num=50, endpoint=True, retstep=False, dtype=None, axis=0)\n",
    "y = gamma(x)"
   ]
  },
  {
   "cell_type": "code",
   "execution_count": 15,
   "metadata": {},
   "outputs": [
    {
     "data": {
      "image/png": "[encoded data removed]",
      "text/plain": [
       "<matplotlib.figure.Figure at 0x7e21d68>"
      ]
     },
     "metadata": {},
     "output_type": "display_data"
    }
   ],
   "source": [
    "import matplotlib.pyplot as plt #import pyplot from libraries\n",
    "\n",
    "plt.plot(x, y, 'b', alpha=0.6, label='gamma(x)') #pass gamma as a input to the plot\n",
    "k = np.arange(1, 7) # define range\n",
    "plt.plot(k, factorial(k-1), 'k*', alpha=0.6,\n",
    "         label='(x-1)!, x = 1, 2, ...')  \n",
    "plt.xlim(-3.5, 5.5) # define plt x limit\n",
    "plt.ylim(-10, 25) # define plt y limit\n",
    "plt.grid()\n",
    "\n",
    "plt.xlabel('x') \n",
    "plt.legend(loc='lower right')\n",
    "\n",
    "plt.show() # draw plot"
   ]
  },
  {
   "cell_type": "code",
   "execution_count": 16,
   "metadata": {
    "collapsed": true
   },
   "outputs": [],
   "source": [
    "# Original link 2022: https://docs.scipy.org/doc/scipy/reference/generated/scipy.special.gamma.html#scipy.special.gamma \n",
    "# Executed by Bhadale IT, in Anaconda Jupyter Notebook\n",
    "# No copyright infringement intended, for educational purpose only"
   ]
  }
 ],
 "metadata": {
  "kernelspec": {
   "display_name": "Python 3",
   "language": "python",
   "name": "python3"
  },
  "language_info": {
   "codemirror_mode": {
    "name": "ipython",
    "version": 3
   },
   "file_extension": ".py",
   "mimetype": "text/x-python",
   "name": "python",
   "nbconvert_exporter": "python",
   "pygments_lexer": "ipython3",
   "version": "3.6.1"
  }
 },
 "nbformat": 4,
 "nbformat_minor": 2
}
